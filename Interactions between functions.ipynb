{
 "cells": [
  {
   "cell_type": "code",
   "execution_count": null,
   "id": "b24fecb3-755e-4c99-988a-cc05f838d556",
   "metadata": {},
   "outputs": [],
   "source": [
    "#create a few functions to mimic the carnival guessing game \"three cup monte\""
   ]
  },
  {
   "cell_type": "code",
   "execution_count": null,
   "id": "ee4360e0-7593-4e96-8804-bfb049990e0f",
   "metadata": {},
   "outputs": [],
   "source": [
    "3 cups - red ball is hidden underneath one of them\n",
    "\n",
    "step2: shuffle those cups around\n",
    "\n",
    "have the user guess where the red ball is. they are either right or wrong\n",
    "\n",
    "mimic above game with python list\n",
    "\n",
    "Python list with 2 empty strings and one string that has \"O\"\n",
    "\n",
    "shuffling can't be shown to user using python list so random guess."
   ]
  },
  {
   "cell_type": "code",
   "execution_count": 1,
   "id": "4a891449-c363-4baf-aa8a-2bfe39f7ddb7",
   "metadata": {},
   "outputs": [],
   "source": [
    "list_ball=['','O','']"
   ]
  },
  {
   "cell_type": "code",
   "execution_count": 7,
   "id": "0fb0da5d-5367-4cf6-90ab-125b187854f3",
   "metadata": {},
   "outputs": [],
   "source": [
    "from random import shuffle"
   ]
  },
  {
   "cell_type": "code",
   "execution_count": 2,
   "id": "6371718d-e40d-4717-943f-c624ecc8138f",
   "metadata": {},
   "outputs": [],
   "source": [
    "list1=[1,2,3,4]"
   ]
  },
  {
   "cell_type": "code",
   "execution_count": 3,
   "id": "bf4489f0-885c-4e64-923a-99ff2cc15d53",
   "metadata": {},
   "outputs": [],
   "source": [
    "shuffle(list1)"
   ]
  },
  {
   "cell_type": "code",
   "execution_count": 4,
   "id": "350f6aca-eeb9-4f08-bf71-cea7302fbd4a",
   "metadata": {},
   "outputs": [
    {
     "data": {
      "text/plain": [
       "[3, 2, 4, 1]"
      ]
     },
     "execution_count": 4,
     "metadata": {},
     "output_type": "execute_result"
    }
   ],
   "source": [
    "list1"
   ]
  },
  {
   "cell_type": "code",
   "execution_count": 5,
   "id": "19c193d3-829e-4074-8a9d-807a702b000b",
   "metadata": {},
   "outputs": [],
   "source": [
    "r=shuffle(list1)"
   ]
  },
  {
   "cell_type": "code",
   "execution_count": 7,
   "id": "22a5bd77-eefe-435b-b8c3-49ec8f306ef5",
   "metadata": {},
   "outputs": [
    {
     "data": {
      "text/plain": [
       "NoneType"
      ]
     },
     "execution_count": 7,
     "metadata": {},
     "output_type": "execute_result"
    }
   ],
   "source": [
    "type(r)"
   ]
  },
  {
   "cell_type": "code",
   "execution_count": null,
   "id": "7e0b235b-bbf1-4be2-bc58-61c009cc6b6b",
   "metadata": {},
   "outputs": [],
   "source": [
    "from random import shuffle"
   ]
  },
  {
   "cell_type": "code",
   "execution_count": 8,
   "id": "95e1c937-cc81-4eb4-ba82-d5fa683947c6",
   "metadata": {},
   "outputs": [],
   "source": [
    "def shufflelist(listn):\n",
    "    shuffle(listn)\n",
    "    return listn"
   ]
  },
  {
   "cell_type": "code",
   "execution_count": 1,
   "id": "7745fe55-7029-424b-8edc-ea576d7f0ceb",
   "metadata": {},
   "outputs": [],
   "source": [
    "list2=[1,2,3]"
   ]
  },
  {
   "cell_type": "code",
   "execution_count": 7,
   "id": "fa9eda19-860f-4f83-a912-a1a430d89114",
   "metadata": {},
   "outputs": [],
   "source": [
    "r=shufflelist(list2)"
   ]
  },
  {
   "cell_type": "code",
   "execution_count": 8,
   "id": "8a6bea54-f4ed-4e90-9f37-e6fe7231309d",
   "metadata": {},
   "outputs": [
    {
     "data": {
      "text/plain": [
       "[3, 2, 1]"
      ]
     },
     "execution_count": 8,
     "metadata": {},
     "output_type": "execute_result"
    }
   ],
   "source": [
    "r"
   ]
  },
  {
   "cell_type": "code",
   "execution_count": 9,
   "id": "f733bff4-9697-4101-9beb-0341eecce6eb",
   "metadata": {},
   "outputs": [
    {
     "data": {
      "text/plain": [
       "[3, 2, 1]"
      ]
     },
     "execution_count": 9,
     "metadata": {},
     "output_type": "execute_result"
    }
   ],
   "source": [
    "list2"
   ]
  },
  {
   "cell_type": "code",
   "execution_count": 11,
   "id": "dd07c61d-888e-430e-9fad-e567afbad4de",
   "metadata": {},
   "outputs": [],
   "source": [
    "shuffle(list2)"
   ]
  },
  {
   "cell_type": "code",
   "execution_count": 13,
   "id": "9d923fc1-536a-41ce-b9bd-1fa4ee88690b",
   "metadata": {},
   "outputs": [],
   "source": [
    "a=list2"
   ]
  },
  {
   "cell_type": "code",
   "execution_count": 14,
   "id": "244efadb-c594-47c1-ae15-da54e8e46022",
   "metadata": {},
   "outputs": [
    {
     "data": {
      "text/plain": [
       "[2, 3, 1]"
      ]
     },
     "execution_count": 14,
     "metadata": {},
     "output_type": "execute_result"
    }
   ],
   "source": [
    "a"
   ]
  },
  {
   "cell_type": "code",
   "execution_count": 16,
   "id": "4c38718f-d27c-4212-ab7a-2e4081e75510",
   "metadata": {},
   "outputs": [],
   "source": [
    "res1=shufflelist(list1)"
   ]
  },
  {
   "cell_type": "code",
   "execution_count": 15,
   "id": "7d1effe1-cc04-40f4-9a08-5d6f5b81526b",
   "metadata": {},
   "outputs": [
    {
     "data": {
      "text/plain": [
       "[3, 4, 2, 1]"
      ]
     },
     "execution_count": 15,
     "metadata": {},
     "output_type": "execute_result"
    }
   ],
   "source": [
    "res1"
   ]
  },
  {
   "cell_type": "code",
   "execution_count": 17,
   "id": "8c473df1-09a4-4e85-9d24-c5ba8084b931",
   "metadata": {},
   "outputs": [
    {
     "data": {
      "text/plain": [
       "[1, 4, 3, 2]"
      ]
     },
     "execution_count": 17,
     "metadata": {},
     "output_type": "execute_result"
    }
   ],
   "source": [
    "res1"
   ]
  },
  {
   "cell_type": "code",
   "execution_count": 15,
   "id": "5b803e9a-e1f5-4da0-8825-00df02685287",
   "metadata": {},
   "outputs": [],
   "source": [
    "game_list=['','O','']"
   ]
  },
  {
   "cell_type": "code",
   "execution_count": 16,
   "id": "e09358c2-5a5f-4603-b84d-579e027c4c87",
   "metadata": {},
   "outputs": [
    {
     "data": {
      "text/plain": [
       "['O', '', '']"
      ]
     },
     "execution_count": 16,
     "metadata": {},
     "output_type": "execute_result"
    }
   ],
   "source": [
    "shufflelist(game_list)"
   ]
  },
  {
   "cell_type": "code",
   "execution_count": 9,
   "id": "bfbe071d-e7b4-47ca-81e7-d1377a16970a",
   "metadata": {},
   "outputs": [],
   "source": [
    "def player_guess():\n",
    "    wrong_guess=0\n",
    "    guess=''\n",
    "    while guess not in ['0','1','2']:\n",
    "        guess=input('choose position 0,1 or 2: ')\n",
    "        if int(guess)<0 or int(guess)>2:\n",
    "            wrong_guess+=1\n",
    "            if wrong_guess>3:\n",
    "                print('your chances of guessing are finished')\n",
    "                break\n",
    "            print('position choosed must be 0 or 1 or 2')\n",
    "            continue\n",
    "        return int(guess)\n",
    "    pass"
   ]
  },
  {
   "cell_type": "code",
   "execution_count": 24,
   "id": "988396b1-ffe8-4954-b693-8ea5fcd962dd",
   "metadata": {},
   "outputs": [
    {
     "name": "stdin",
     "output_type": "stream",
     "text": [
      "choose position 0,1 or 2:  26\n"
     ]
    },
    {
     "name": "stdout",
     "output_type": "stream",
     "text": [
      "position choosed must be 0 or 1 or 2\n"
     ]
    },
    {
     "name": "stdin",
     "output_type": "stream",
     "text": [
      "choose position 0,1 or 2:  42\n"
     ]
    },
    {
     "name": "stdout",
     "output_type": "stream",
     "text": [
      "position choosed must be 0 or 1 or 2\n"
     ]
    },
    {
     "name": "stdin",
     "output_type": "stream",
     "text": [
      "choose position 0,1 or 2:  1\n"
     ]
    },
    {
     "data": {
      "text/plain": [
       "1"
      ]
     },
     "execution_count": 24,
     "metadata": {},
     "output_type": "execute_result"
    }
   ],
   "source": [
    "player_guess()"
   ]
  },
  {
   "cell_type": "code",
   "execution_count": 25,
   "id": "928a9d4e-2869-408a-8002-955d97092654",
   "metadata": {},
   "outputs": [
    {
     "name": "stdin",
     "output_type": "stream",
     "text": [
      "choose position 0,1 or 2:  65\n"
     ]
    },
    {
     "name": "stdout",
     "output_type": "stream",
     "text": [
      "position choosed must be 0 or 1 or 2\n"
     ]
    },
    {
     "name": "stdin",
     "output_type": "stream",
     "text": [
      "choose position 0,1 or 2:  0\n"
     ]
    },
    {
     "data": {
      "text/plain": [
       "0"
      ]
     },
     "execution_count": 25,
     "metadata": {},
     "output_type": "execute_result"
    }
   ],
   "source": [
    "player_guess()"
   ]
  },
  {
   "cell_type": "code",
   "execution_count": 26,
   "id": "9d436fde-9f18-4a30-90b7-518c633ed410",
   "metadata": {},
   "outputs": [
    {
     "name": "stdin",
     "output_type": "stream",
     "text": [
      "choose position 0,1 or 2:  55\n"
     ]
    },
    {
     "name": "stdout",
     "output_type": "stream",
     "text": [
      "position choosed must be 0 or 1 or 2\n"
     ]
    },
    {
     "name": "stdin",
     "output_type": "stream",
     "text": [
      "choose position 0,1 or 2:  654\n"
     ]
    },
    {
     "name": "stdout",
     "output_type": "stream",
     "text": [
      "position choosed must be 0 or 1 or 2\n"
     ]
    },
    {
     "name": "stdin",
     "output_type": "stream",
     "text": [
      "choose position 0,1 or 2:  776\n"
     ]
    },
    {
     "name": "stdout",
     "output_type": "stream",
     "text": [
      "position choosed must be 0 or 1 or 2\n"
     ]
    },
    {
     "name": "stdin",
     "output_type": "stream",
     "text": [
      "choose position 0,1 or 2:  45\n"
     ]
    },
    {
     "name": "stdout",
     "output_type": "stream",
     "text": [
      "your chances of guessing are finished\n"
     ]
    },
    {
     "data": {
      "text/plain": [
       "45"
      ]
     },
     "execution_count": 26,
     "metadata": {},
     "output_type": "execute_result"
    }
   ],
   "source": [
    "player_guess()"
   ]
  },
  {
   "cell_type": "code",
   "execution_count": 28,
   "id": "3dde4cc0-9cda-44f1-9e4f-64a1d2b6eb79",
   "metadata": {},
   "outputs": [
    {
     "name": "stdin",
     "output_type": "stream",
     "text": [
      "choose position 0,1 or 2:  22\n"
     ]
    },
    {
     "name": "stdout",
     "output_type": "stream",
     "text": [
      "position choosed must be 0 or 1 or 2\n"
     ]
    },
    {
     "name": "stdin",
     "output_type": "stream",
     "text": [
      "choose position 0,1 or 2:  33\n"
     ]
    },
    {
     "name": "stdout",
     "output_type": "stream",
     "text": [
      "position choosed must be 0 or 1 or 2\n"
     ]
    },
    {
     "name": "stdin",
     "output_type": "stream",
     "text": [
      "choose position 0,1 or 2:  22\n"
     ]
    },
    {
     "name": "stdout",
     "output_type": "stream",
     "text": [
      "position choosed must be 0 or 1 or 2\n"
     ]
    },
    {
     "name": "stdin",
     "output_type": "stream",
     "text": [
      "choose position 0,1 or 2:  34\n"
     ]
    },
    {
     "name": "stdout",
     "output_type": "stream",
     "text": [
      "your chances of guessing are finished\n"
     ]
    }
   ],
   "source": [
    "player_guess()"
   ]
  },
  {
   "cell_type": "code",
   "execution_count": 30,
   "id": "4df0de01-cfb7-492a-9191-469a2835163e",
   "metadata": {},
   "outputs": [
    {
     "name": "stdin",
     "output_type": "stream",
     "text": [
      "choose position 0,1 or 2:  1\n"
     ]
    },
    {
     "data": {
      "text/plain": [
       "1"
      ]
     },
     "execution_count": 30,
     "metadata": {},
     "output_type": "execute_result"
    }
   ],
   "source": [
    "player_guess()"
   ]
  },
  {
   "cell_type": "code",
   "execution_count": 31,
   "id": "b84bcfc3-bbed-4f0f-a3ba-b30048215fca",
   "metadata": {},
   "outputs": [
    {
     "name": "stdin",
     "output_type": "stream",
     "text": [
      "choose position 0,1 or 2:  98\n"
     ]
    },
    {
     "name": "stdout",
     "output_type": "stream",
     "text": [
      "position choosed must be 0 or 1 or 2\n"
     ]
    },
    {
     "name": "stdin",
     "output_type": "stream",
     "text": [
      "choose position 0,1 or 2:  887\n"
     ]
    },
    {
     "name": "stdout",
     "output_type": "stream",
     "text": [
      "position choosed must be 0 or 1 or 2\n"
     ]
    },
    {
     "name": "stdin",
     "output_type": "stream",
     "text": [
      "choose position 0,1 or 2:  998\n"
     ]
    },
    {
     "name": "stdout",
     "output_type": "stream",
     "text": [
      "position choosed must be 0 or 1 or 2\n"
     ]
    },
    {
     "name": "stdin",
     "output_type": "stream",
     "text": [
      "choose position 0,1 or 2:  667\n"
     ]
    },
    {
     "name": "stdout",
     "output_type": "stream",
     "text": [
      "your chances of guessing are finished\n"
     ]
    }
   ],
   "source": [
    "player_guess()"
   ]
  },
  {
   "cell_type": "code",
   "execution_count": 32,
   "id": "f7d7be7e-f67e-4fc4-a660-b51a5b831513",
   "metadata": {},
   "outputs": [
    {
     "name": "stdin",
     "output_type": "stream",
     "text": [
      "choose position 0,1 or 2:  888\n"
     ]
    },
    {
     "name": "stdout",
     "output_type": "stream",
     "text": [
      "position choosed must be 0 or 1 or 2\n"
     ]
    },
    {
     "name": "stdin",
     "output_type": "stream",
     "text": [
      "choose position 0,1 or 2:  0\n"
     ]
    },
    {
     "data": {
      "text/plain": [
       "0"
      ]
     },
     "execution_count": 32,
     "metadata": {},
     "output_type": "execute_result"
    }
   ],
   "source": [
    "player_guess()"
   ]
  },
  {
   "cell_type": "code",
   "execution_count": 33,
   "id": "e88d4ed6-861d-4b11-9817-8eae9aff5748",
   "metadata": {},
   "outputs": [
    {
     "name": "stdin",
     "output_type": "stream",
     "text": [
      "choose position 0,1 or 2:  2\n"
     ]
    },
    {
     "data": {
      "text/plain": [
       "2"
      ]
     },
     "execution_count": 33,
     "metadata": {},
     "output_type": "execute_result"
    }
   ],
   "source": [
    "player_guess()"
   ]
  },
  {
   "cell_type": "code",
   "execution_count": 34,
   "id": "f02d7814-76b9-4429-931f-341d4ea2208d",
   "metadata": {},
   "outputs": [
    {
     "name": "stdin",
     "output_type": "stream",
     "text": [
      "choose position 0,1 or 2:  877\n"
     ]
    },
    {
     "name": "stdout",
     "output_type": "stream",
     "text": [
      "position choosed must be 0 or 1 or 2\n"
     ]
    },
    {
     "name": "stdin",
     "output_type": "stream",
     "text": [
      "choose position 0,1 or 2:  9988\n"
     ]
    },
    {
     "name": "stdout",
     "output_type": "stream",
     "text": [
      "position choosed must be 0 or 1 or 2\n"
     ]
    },
    {
     "name": "stdin",
     "output_type": "stream",
     "text": [
      "choose position 0,1 or 2:  1\n"
     ]
    },
    {
     "data": {
      "text/plain": [
       "1"
      ]
     },
     "execution_count": 34,
     "metadata": {},
     "output_type": "execute_result"
    }
   ],
   "source": [
    "player_guess()"
   ]
  },
  {
   "cell_type": "code",
   "execution_count": 35,
   "id": "336b4bb6-4129-4cc0-bdf5-7e24056208ba",
   "metadata": {},
   "outputs": [
    {
     "name": "stdin",
     "output_type": "stream",
     "text": [
      "choose position 0,1 or 2:  2\n"
     ]
    }
   ],
   "source": [
    "choosed_position=player_guess()"
   ]
  },
  {
   "cell_type": "code",
   "execution_count": 36,
   "id": "1bf2ae9e-a352-4fea-9a79-bedf393e2121",
   "metadata": {},
   "outputs": [
    {
     "data": {
      "text/plain": [
       "2"
      ]
     },
     "execution_count": 36,
     "metadata": {},
     "output_type": "execute_result"
    }
   ],
   "source": [
    "choosed_position"
   ]
  },
  {
   "cell_type": "code",
   "execution_count": 14,
   "id": "ddca15b1-e326-4798-b26e-5231aea54520",
   "metadata": {},
   "outputs": [],
   "source": [
    "def ball_guess_game():\n",
    "    print(\"hurray! let's start the game!!\")\n",
    "    game_list=['','O','']\n",
    "    print(f'observe the position of the ball before shuffling: {game_list}')\n",
    "    shuffled_list1=shufflelist(game_list)\n",
    "    for i in shuffled_list1:\n",
    "        if i=='O':\n",
    "            actualposition=shuffled_list1.index(i)\n",
    "        pass\n",
    "    guessed_position=player_guess()\n",
    "    if actualposition==guessed_position:\n",
    "        print('congratualtions!! you won the game')\n",
    "    elif guessed_position==None:\n",
    "        print('please understand the instructions before guessing')\n",
    "    else:\n",
    "        print('your guess is wrong better luck next time')\n",
    "    pass\n",
    "            "
   ]
  },
  {
   "cell_type": "code",
   "execution_count": 13,
   "id": "a73bf354-f33f-4b15-8c4a-454c5535f5b0",
   "metadata": {},
   "outputs": [
    {
     "name": "stdout",
     "output_type": "stream",
     "text": [
      "hurray! let's start the game!!\n",
      "observe the position of the ball before shuffling: ['', 'O', '']\n"
     ]
    },
    {
     "name": "stdin",
     "output_type": "stream",
     "text": [
      "choose position 0,1 or 2:  1\n"
     ]
    },
    {
     "name": "stdout",
     "output_type": "stream",
     "text": [
      "congratualtions!! you won the game\n"
     ]
    }
   ],
   "source": [
    "ball_guess_game()"
   ]
  },
  {
   "cell_type": "code",
   "execution_count": 15,
   "id": "806749b1-5769-4150-ac22-c7264c537282",
   "metadata": {},
   "outputs": [
    {
     "name": "stdout",
     "output_type": "stream",
     "text": [
      "hurray! let's start the game!!\n",
      "observe the position of the ball before shuffling: ['', 'O', '']\n"
     ]
    },
    {
     "name": "stdin",
     "output_type": "stream",
     "text": [
      "choose position 0,1 or 2:  7788\n"
     ]
    },
    {
     "name": "stdout",
     "output_type": "stream",
     "text": [
      "position choosed must be 0 or 1 or 2\n"
     ]
    },
    {
     "name": "stdin",
     "output_type": "stream",
     "text": [
      "choose position 0,1 or 2:  888\n"
     ]
    },
    {
     "name": "stdout",
     "output_type": "stream",
     "text": [
      "position choosed must be 0 or 1 or 2\n"
     ]
    },
    {
     "name": "stdin",
     "output_type": "stream",
     "text": [
      "choose position 0,1 or 2:  7876\n"
     ]
    },
    {
     "name": "stdout",
     "output_type": "stream",
     "text": [
      "position choosed must be 0 or 1 or 2\n"
     ]
    },
    {
     "name": "stdin",
     "output_type": "stream",
     "text": [
      "choose position 0,1 or 2:  987\n"
     ]
    },
    {
     "name": "stdout",
     "output_type": "stream",
     "text": [
      "your chances of guessing are finished\n",
      "please understand the instructions before guessing\n"
     ]
    }
   ],
   "source": [
    "ball_guess_game()"
   ]
  },
  {
   "cell_type": "code",
   "execution_count": 37,
   "id": "eb428f4f-97ff-4a4e-a029-12d1f7603b73",
   "metadata": {},
   "outputs": [
    {
     "name": "stdout",
     "output_type": "stream",
     "text": [
      "None\n"
     ]
    }
   ],
   "source": [
    "def function_without_return():\n",
    "    # This function does not have a return statement\n",
    "    pass\n",
    "\n",
    "result = function_without_return()\n",
    "print(result)  # Output: None"
   ]
  },
  {
   "cell_type": "code",
   "execution_count": 38,
   "id": "3c853e9e-38ba-4f4d-97f8-e4cd3e070103",
   "metadata": {},
   "outputs": [
    {
     "data": {
      "text/plain": [
       "NoneType"
      ]
     },
     "execution_count": 38,
     "metadata": {},
     "output_type": "execute_result"
    }
   ],
   "source": [
    "type(result)"
   ]
  },
  {
   "cell_type": "code",
   "execution_count": 39,
   "id": "0196943f-04fb-48e5-8a5c-84f3d32803b4",
   "metadata": {},
   "outputs": [
    {
     "name": "stdout",
     "output_type": "stream",
     "text": [
      "a\n",
      "None\n"
     ]
    }
   ],
   "source": [
    "def function_without_return():\n",
    "    print('a')\n",
    "    pass\n",
    "\n",
    "result = function_without_return()\n",
    "print(result)  # Output: None"
   ]
  },
  {
   "cell_type": "code",
   "execution_count": 41,
   "id": "eebd6347-7e32-453f-b889-e78ae3eb4c2a",
   "metadata": {},
   "outputs": [
    {
     "data": {
      "text/plain": [
       "NoneType"
      ]
     },
     "execution_count": 41,
     "metadata": {},
     "output_type": "execute_result"
    }
   ],
   "source": [
    "type(result)"
   ]
  },
  {
   "cell_type": "code",
   "execution_count": 42,
   "id": "2c69db8b-3dca-433d-a5b0-718721c8f5d8",
   "metadata": {},
   "outputs": [
    {
     "name": "stdout",
     "output_type": "stream",
     "text": [
      "a\n",
      "None\n"
     ]
    }
   ],
   "source": [
    "def function_without_return():\n",
    "    return print('a')\n",
    "    pass\n",
    "\n",
    "result = function_without_return()\n",
    "print(result)  # Output: None"
   ]
  },
  {
   "cell_type": "code",
   "execution_count": 43,
   "id": "6dd826a4-5214-4d51-a57f-0da21d833eff",
   "metadata": {},
   "outputs": [],
   "source": [
    "result"
   ]
  },
  {
   "cell_type": "code",
   "execution_count": 3,
   "id": "f0341036-b335-494a-b728-5f3bd123c8a1",
   "metadata": {},
   "outputs": [
    {
     "name": "stdin",
     "output_type": "stream",
     "text": [
      "choose position 0,1 or 2:  1\n"
     ]
    }
   ],
   "source": [
    "#game_list\n",
    "game_list=['','O','','']\n",
    "\n",
    "#shuffled list\n",
    "from random import shuffle\n",
    "def shuffled_list1(listn):\n",
    "    shuffle(listn)\n",
    "    return listn\n",
    "    \n",
    "shuffled_list=shuffled_list1(game_list)\n",
    "\n",
    "#player guess\n",
    "def player_guess():\n",
    "    wrong_guess=0\n",
    "    guess=''\n",
    "    while guess not in ['0','1','2']:\n",
    "        guess=input('choose position 0,1 or 2: ')\n",
    "        if int(guess)<0 or int(guess)>2:\n",
    "            wrong_guess+=1\n",
    "            if wrong_guess>3:\n",
    "                print('your chances of guessing are finished')\n",
    "                break\n",
    "            print('position choosed must be 0 or 1 or 2')\n",
    "            continue\n",
    "        return int(guess)\n",
    "    pass\n",
    "\n",
    "guess=player_guess()\n",
    "\n",
    "#check whether guess matched\n",
    "\n",
    "def check_guess(shuffled_list,guess):\n",
    "    if shuffled_list[guess]=='O':\n",
    "        print('correct!')\n",
    "        print(shuffled_list)\n",
    "    else:\n",
    "        print('wrong')"
   ]
  },
  {
   "cell_type": "code",
   "execution_count": 4,
   "id": "bbab60dc-14f9-42f5-83f7-fe8664956891",
   "metadata": {},
   "outputs": [
    {
     "name": "stdout",
     "output_type": "stream",
     "text": [
      "correct!\n",
      "['', 'O', '']\n"
     ]
    }
   ],
   "source": [
    "check_guess(shuffled_list,guess)"
   ]
  },
  {
   "cell_type": "code",
   "execution_count": 5,
   "id": "2421a869-5a2d-427d-9e11-196d87ae802a",
   "metadata": {},
   "outputs": [],
   "source": [
    "#game_list\n",
    "game_list=['','O','','']\n",
    "\n",
    "#shuffled list\n",
    "from random import shuffle\n",
    "def shuffled_list1(listn):\n",
    "    shuffle(listn)\n",
    "    return listn\n",
    "    \n",
    "#shuffled_list=shuffled_list1(game_list)\n",
    "\n",
    "#player guess\n",
    "def player_guess():\n",
    "    wrong_guess=0\n",
    "    guess=''\n",
    "    while guess not in ['0','1','2']:\n",
    "        guess=input('choose position 0,1 or 2: ')\n",
    "        if int(guess)<0 or int(guess)>2:\n",
    "            wrong_guess+=1\n",
    "            if wrong_guess>3:\n",
    "                print('your chances of guessing are finished')\n",
    "                break\n",
    "            print('position choosed must be 0 or 1 or 2')\n",
    "            continue\n",
    "        return int(guess)\n",
    "    pass\n",
    "\n",
    "\n",
    "#check whether guess matched\n",
    "\n",
    "def ball_guess_game():\n",
    "    shuffled_list=shuffled_list1(game_list)\n",
    "    guess=player_guess()\n",
    "    if shuffled_list[guess]=='O':\n",
    "        print('correct!')\n",
    "        print(shuffled_list)\n",
    "    else:\n",
    "        print('wrong')"
   ]
  },
  {
   "cell_type": "code",
   "execution_count": 6,
   "id": "6b98b4d0-0878-4106-8adc-d568219097b6",
   "metadata": {},
   "outputs": [
    {
     "name": "stdin",
     "output_type": "stream",
     "text": [
      "choose position 0,1 or 2:  1\n"
     ]
    },
    {
     "name": "stdout",
     "output_type": "stream",
     "text": [
      "wrong\n"
     ]
    }
   ],
   "source": [
    "ball_guess_game()"
   ]
  },
  {
   "cell_type": "code",
   "execution_count": 7,
   "id": "616f02a0-09df-484f-a1f1-eb13df436924",
   "metadata": {},
   "outputs": [
    {
     "name": "stdin",
     "output_type": "stream",
     "text": [
      "choose position 0,1 or 2:  0\n"
     ]
    },
    {
     "name": "stdout",
     "output_type": "stream",
     "text": [
      "wrong\n"
     ]
    }
   ],
   "source": [
    "ball_guess_game()"
   ]
  },
  {
   "cell_type": "code",
   "execution_count": 8,
   "id": "627ce209-b9c0-489b-849f-6d513c6ca90b",
   "metadata": {},
   "outputs": [
    {
     "name": "stdin",
     "output_type": "stream",
     "text": [
      "choose position 0,1 or 2:  2\n"
     ]
    },
    {
     "name": "stdout",
     "output_type": "stream",
     "text": [
      "wrong\n"
     ]
    }
   ],
   "source": [
    "ball_guess_game()"
   ]
  },
  {
   "cell_type": "code",
   "execution_count": 9,
   "id": "e9f734a6-d499-499a-b3fb-6c331f2d368b",
   "metadata": {},
   "outputs": [
    {
     "name": "stdin",
     "output_type": "stream",
     "text": [
      "choose position 0,1 or 2:  1\n"
     ]
    },
    {
     "name": "stdout",
     "output_type": "stream",
     "text": [
      "correct!\n",
      "['', 'O', '', '']\n"
     ]
    }
   ],
   "source": [
    "ball_guess_game()"
   ]
  },
  {
   "cell_type": "code",
   "execution_count": null,
   "id": "f46242d3-49d2-4895-8d8b-d64c0257a455",
   "metadata": {},
   "outputs": [],
   "source": []
  }
 ],
 "metadata": {
  "kernelspec": {
   "display_name": "Python 3 (ipykernel)",
   "language": "python",
   "name": "python3"
  },
  "language_info": {
   "codemirror_mode": {
    "name": "ipython",
    "version": 3
   },
   "file_extension": ".py",
   "mimetype": "text/x-python",
   "name": "python",
   "nbconvert_exporter": "python",
   "pygments_lexer": "ipython3",
   "version": "3.11.7"
  }
 },
 "nbformat": 4,
 "nbformat_minor": 5
}
