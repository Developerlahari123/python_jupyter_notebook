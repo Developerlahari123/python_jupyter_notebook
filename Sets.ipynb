{
 "cells": [
  {
   "cell_type": "code",
   "execution_count": 1,
   "id": "ce5e7646-0373-4c51-8764-456594012ccc",
   "metadata": {},
   "outputs": [],
   "source": [
    "#sets are unordered collection of unique elements"
   ]
  },
  {
   "cell_type": "code",
   "execution_count": 3,
   "id": "30cb478a-d4a1-46f2-952d-9b625a6adacd",
   "metadata": {},
   "outputs": [],
   "source": [
    "set1=set()"
   ]
  },
  {
   "cell_type": "code",
   "execution_count": 4,
   "id": "e4afef0b-6a1e-4162-92e9-3329bb5be6e4",
   "metadata": {},
   "outputs": [
    {
     "data": {
      "text/plain": [
       "set()"
      ]
     },
     "execution_count": 4,
     "metadata": {},
     "output_type": "execute_result"
    }
   ],
   "source": [
    "set1"
   ]
  },
  {
   "cell_type": "code",
   "execution_count": 5,
   "id": "7cc71d9b-2e58-4edf-8018-14051ed034be",
   "metadata": {},
   "outputs": [],
   "source": [
    "set1.add('python')"
   ]
  },
  {
   "cell_type": "code",
   "execution_count": 6,
   "id": "4819d752-101d-4329-acd4-2a7e07c468b7",
   "metadata": {},
   "outputs": [
    {
     "data": {
      "text/plain": [
       "{'python'}"
      ]
     },
     "execution_count": 6,
     "metadata": {},
     "output_type": "execute_result"
    }
   ],
   "source": [
    "set1"
   ]
  },
  {
   "cell_type": "code",
   "execution_count": 7,
   "id": "3ca36fd3-437d-463d-a2a2-5ed9d9848ec8",
   "metadata": {},
   "outputs": [],
   "source": [
    "set1.add(3004.2024)"
   ]
  },
  {
   "cell_type": "code",
   "execution_count": 8,
   "id": "80c6db09-d6f0-4e88-918c-f29f9daf86cd",
   "metadata": {},
   "outputs": [
    {
     "data": {
      "text/plain": [
       "{3004.2024, 'python'}"
      ]
     },
     "execution_count": 8,
     "metadata": {},
     "output_type": "execute_result"
    }
   ],
   "source": [
    "set1"
   ]
  },
  {
   "cell_type": "code",
   "execution_count": 9,
   "id": "b41cdbc7-0740-4016-94e9-22a290e28ab6",
   "metadata": {},
   "outputs": [],
   "source": [
    "set1.add('python')"
   ]
  },
  {
   "cell_type": "code",
   "execution_count": 10,
   "id": "3314c7ad-d040-4318-b125-fb101f3a57fa",
   "metadata": {},
   "outputs": [
    {
     "data": {
      "text/plain": [
       "{3004.2024, 'python'}"
      ]
     },
     "execution_count": 10,
     "metadata": {},
     "output_type": "execute_result"
    }
   ],
   "source": [
    "set1"
   ]
  },
  {
   "cell_type": "code",
   "execution_count": 11,
   "id": "fccdc961-41a4-4854-ac77-d8fafd13e499",
   "metadata": {},
   "outputs": [],
   "source": [
    "list2=[1,1,2,2,3,3]"
   ]
  },
  {
   "cell_type": "code",
   "execution_count": 12,
   "id": "0b23b1ae-d838-40d0-837e-3c2ee7e79370",
   "metadata": {},
   "outputs": [],
   "source": [
    "set2=set(list2)"
   ]
  },
  {
   "cell_type": "code",
   "execution_count": 13,
   "id": "8f54b5a1-6311-4c82-a8c0-5e682756746c",
   "metadata": {},
   "outputs": [
    {
     "data": {
      "text/plain": [
       "{1, 2, 3}"
      ]
     },
     "execution_count": 13,
     "metadata": {},
     "output_type": "execute_result"
    }
   ],
   "source": [
    "set2"
   ]
  },
  {
   "cell_type": "code",
   "execution_count": 14,
   "id": "c9b6c670-3eb3-4570-89c0-d22c07c2111c",
   "metadata": {},
   "outputs": [],
   "source": [
    "#sets are unordered"
   ]
  },
  {
   "cell_type": "code",
   "execution_count": 16,
   "id": "7de706f3-199f-459f-92d5-8ccb071df842",
   "metadata": {},
   "outputs": [
    {
     "data": {
      "text/plain": [
       "{1, 2}"
      ]
     },
     "execution_count": 16,
     "metadata": {},
     "output_type": "execute_result"
    }
   ],
   "source": [
    "set([1,1,2])"
   ]
  },
  {
   "cell_type": "code",
   "execution_count": 17,
   "id": "60597f29-e8b8-4f72-bcdb-343f70870141",
   "metadata": {},
   "outputs": [
    {
     "data": {
      "text/plain": [
       "{'D', 'e', 'l', 'o', 'p', 'r', 'v'}"
      ]
     },
     "execution_count": 17,
     "metadata": {},
     "output_type": "execute_result"
    }
   ],
   "source": [
    "set('Developer')"
   ]
  },
  {
   "cell_type": "code",
   "execution_count": 1,
   "id": "4e0c7c14-d876-49cf-8e37-1206ea65a2fd",
   "metadata": {},
   "outputs": [
    {
     "data": {
      "text/plain": [
       "{'ganapati bappa', 'lahari'}"
      ]
     },
     "execution_count": 1,
     "metadata": {},
     "output_type": "execute_result"
    }
   ],
   "source": [
    "set(['ganapati bappa','lahari'])"
   ]
  },
  {
   "cell_type": "code",
   "execution_count": null,
   "id": "cd3ec000-66e0-4ac5-a66e-ce6a5ff58685",
   "metadata": {},
   "outputs": [],
   "source": []
  }
 ],
 "metadata": {
  "kernelspec": {
   "display_name": "Python 3 (ipykernel)",
   "language": "python",
   "name": "python3"
  },
  "language_info": {
   "codemirror_mode": {
    "name": "ipython",
    "version": 3
   },
   "file_extension": ".py",
   "mimetype": "text/x-python",
   "name": "python",
   "nbconvert_exporter": "python",
   "pygments_lexer": "ipython3",
   "version": "3.11.7"
  }
 },
 "nbformat": 4,
 "nbformat_minor": 5
}
