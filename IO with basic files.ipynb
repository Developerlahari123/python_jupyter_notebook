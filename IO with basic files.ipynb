{
 "cells": [
  {
   "cell_type": "code",
   "execution_count": 2,
   "id": "aca49222-ae4e-424e-816b-410ada9dbf1c",
   "metadata": {},
   "outputs": [],
   "source": [
    "#how to perform simple I/O with basic .txt files and file paths on your computer"
   ]
  },
  {
   "cell_type": "code",
   "execution_count": 4,
   "id": "350dad87-ec19-48c4-8884-b471ff560e45",
   "metadata": {},
   "outputs": [],
   "source": [
    "#methods mentioned here can be extended further to working with other file types like audio file, text file, emails, excel documents"
   ]
  },
  {
   "cell_type": "code",
   "execution_count": 6,
   "id": "92f92323-7688-44dc-a558-e86eaa55752e",
   "metadata": {},
   "outputs": [],
   "source": [
    "#jupyter functionality in order to quickly write a text file"
   ]
  },
  {
   "cell_type": "code",
   "execution_count": 1,
   "id": "d91edf50-99c5-4631-a982-cbfdab3500f7",
   "metadata": {},
   "outputs": [
    {
     "name": "stdout",
     "output_type": "stream",
     "text": [
      "Overwriting Ganesh.txt\n"
     ]
    }
   ],
   "source": [
    "%%writefile Ganesh.txt\n",
    "om gam ganapataye namaha\n",
    "om sri vigneswaraya namaha\n",
    "Ganapati bappa moriya"
   ]
  },
  {
   "cell_type": "code",
   "execution_count": 2,
   "id": "ba491256-73a2-461e-9194-b571632e6a03",
   "metadata": {},
   "outputs": [
    {
     "data": {
      "text/plain": [
       "<_io.TextIOWrapper name='Ganesh.txt' mode='r' encoding='cp1252'>"
      ]
     },
     "execution_count": 2,
     "metadata": {},
     "output_type": "execute_result"
    }
   ],
   "source": [
    "open('Ganesh.txt')"
   ]
  },
  {
   "cell_type": "code",
   "execution_count": 11,
   "id": "7273a985-9e65-4bd5-a32e-d6cd701b4f41",
   "metadata": {},
   "outputs": [],
   "source": [
    "Developer=open('Ganesh.txt')"
   ]
  },
  {
   "cell_type": "code",
   "execution_count": 12,
   "id": "dd36f786-20e4-4b7f-9590-60ef27af81b7",
   "metadata": {},
   "outputs": [
    {
     "ename": "FileNotFoundError",
     "evalue": "[Errno 2] No such file or directory: 'ANOR2414440_3.txt'",
     "output_type": "error",
     "traceback": [
      "\u001b[1;31m---------------------------------------------------------------------------\u001b[0m",
      "\u001b[1;31mFileNotFoundError\u001b[0m                         Traceback (most recent call last)",
      "Cell \u001b[1;32mIn[12], line 1\u001b[0m\n\u001b[1;32m----> 1\u001b[0m Developer\u001b[38;5;241m=\u001b[39m\u001b[38;5;28mopen\u001b[39m(\u001b[38;5;124m'\u001b[39m\u001b[38;5;124mANOR2414440_3.txt\u001b[39m\u001b[38;5;124m'\u001b[39m)\n",
      "File \u001b[1;32m~\\AppData\\Local\\anaconda3\\Lib\\site-packages\\IPython\\core\\interactiveshell.py:310\u001b[0m, in \u001b[0;36m_modified_open\u001b[1;34m(file, *args, **kwargs)\u001b[0m\n\u001b[0;32m    303\u001b[0m \u001b[38;5;28;01mif\u001b[39;00m file \u001b[38;5;129;01min\u001b[39;00m {\u001b[38;5;241m0\u001b[39m, \u001b[38;5;241m1\u001b[39m, \u001b[38;5;241m2\u001b[39m}:\n\u001b[0;32m    304\u001b[0m     \u001b[38;5;28;01mraise\u001b[39;00m \u001b[38;5;167;01mValueError\u001b[39;00m(\n\u001b[0;32m    305\u001b[0m         \u001b[38;5;124mf\u001b[39m\u001b[38;5;124m\"\u001b[39m\u001b[38;5;124mIPython won\u001b[39m\u001b[38;5;124m'\u001b[39m\u001b[38;5;124mt let you open fd=\u001b[39m\u001b[38;5;132;01m{\u001b[39;00mfile\u001b[38;5;132;01m}\u001b[39;00m\u001b[38;5;124m by default \u001b[39m\u001b[38;5;124m\"\u001b[39m\n\u001b[0;32m    306\u001b[0m         \u001b[38;5;124m\"\u001b[39m\u001b[38;5;124mas it is likely to crash IPython. If you know what you are doing, \u001b[39m\u001b[38;5;124m\"\u001b[39m\n\u001b[0;32m    307\u001b[0m         \u001b[38;5;124m\"\u001b[39m\u001b[38;5;124myou can use builtins\u001b[39m\u001b[38;5;124m'\u001b[39m\u001b[38;5;124m open.\u001b[39m\u001b[38;5;124m\"\u001b[39m\n\u001b[0;32m    308\u001b[0m     )\n\u001b[1;32m--> 310\u001b[0m \u001b[38;5;28;01mreturn\u001b[39;00m io_open(file, \u001b[38;5;241m*\u001b[39margs, \u001b[38;5;241m*\u001b[39m\u001b[38;5;241m*\u001b[39mkwargs)\n",
      "\u001b[1;31mFileNotFoundError\u001b[0m: [Errno 2] No such file or directory: 'ANOR2414440_3.txt'"
     ]
    }
   ],
   "source": [
    "Developer=open('ANOR2414440_3.txt')"
   ]
  },
  {
   "cell_type": "code",
   "execution_count": 13,
   "id": "fff3986c-2bfb-4653-a5a4-4f260818859a",
   "metadata": {},
   "outputs": [
    {
     "data": {
      "text/plain": [
       "'C:\\\\Users\\\\TLAHARI\\\\my_python_codes'"
      ]
     },
     "execution_count": 13,
     "metadata": {},
     "output_type": "execute_result"
    }
   ],
   "source": [
    "pwd"
   ]
  },
  {
   "cell_type": "code",
   "execution_count": 36,
   "id": "46c26fdb-e325-49e9-a893-1a61b1ad0797",
   "metadata": {},
   "outputs": [],
   "source": [
    "Developer1=open('Ganesh.txt')"
   ]
  },
  {
   "cell_type": "code",
   "execution_count": 38,
   "id": "d99d9e48-7a45-48db-a476-2c30293df564",
   "metadata": {},
   "outputs": [],
   "source": [
    "Developer1.close()"
   ]
  },
  {
   "cell_type": "code",
   "execution_count": 16,
   "id": "1b0c0c36-2232-4aa9-8897-2bfce2d0b4d0",
   "metadata": {},
   "outputs": [
    {
     "data": {
      "text/plain": [
       "'om gam ganapataye namaha\\nom sri vigneswaraya namaha\\nGanapati bappa moriya\\n'"
      ]
     },
     "execution_count": 16,
     "metadata": {},
     "output_type": "execute_result"
    }
   ],
   "source": [
    "Developer.read()"
   ]
  },
  {
   "cell_type": "code",
   "execution_count": 20,
   "id": "c729987e-72b0-4e15-ab07-3deae0a2350e",
   "metadata": {},
   "outputs": [
    {
     "data": {
      "text/plain": [
       "''"
      ]
     },
     "execution_count": 20,
     "metadata": {},
     "output_type": "execute_result"
    }
   ],
   "source": [
    "Developer.read() # when the file is read the cursor goes to all the way to end of the file and to reset the cursor or seek it back to zero in order to read it again"
   ]
  },
  {
   "cell_type": "code",
   "execution_count": 23,
   "id": "2c069612-b765-4e6d-9995-7e4c6a8ef96d",
   "metadata": {},
   "outputs": [
    {
     "data": {
      "text/plain": [
       "0"
      ]
     },
     "execution_count": 23,
     "metadata": {},
     "output_type": "execute_result"
    }
   ],
   "source": [
    "Developer.seek(0) #resets the cursor"
   ]
  },
  {
   "cell_type": "code",
   "execution_count": 24,
   "id": "d2e5804e-3e5f-4295-a3b5-74697fb157f6",
   "metadata": {},
   "outputs": [
    {
     "data": {
      "text/plain": [
       "'om gam ganapataye namaha\\nom sri vigneswaraya namaha\\nGanapati bappa moriya\\n'"
      ]
     },
     "execution_count": 24,
     "metadata": {},
     "output_type": "execute_result"
    }
   ],
   "source": [
    "Developer.read()"
   ]
  },
  {
   "cell_type": "code",
   "execution_count": 25,
   "id": "3d67ab9c-8499-4258-b7b5-9111442af5d7",
   "metadata": {},
   "outputs": [
    {
     "data": {
      "text/plain": [
       "0"
      ]
     },
     "execution_count": 25,
     "metadata": {},
     "output_type": "execute_result"
    }
   ],
   "source": [
    "Developer.seek(0)"
   ]
  },
  {
   "cell_type": "code",
   "execution_count": 26,
   "id": "308a20b9-073b-4f9d-86e9-9a7e0290496c",
   "metadata": {},
   "outputs": [],
   "source": [
    "content=Developer.read()"
   ]
  },
  {
   "cell_type": "code",
   "execution_count": 27,
   "id": "cff89a19-3ce1-4268-938b-0031859e53a2",
   "metadata": {},
   "outputs": [
    {
     "data": {
      "text/plain": [
       "'om gam ganapataye namaha\\nom sri vigneswaraya namaha\\nGanapati bappa moriya\\n'"
      ]
     },
     "execution_count": 27,
     "metadata": {},
     "output_type": "execute_result"
    }
   ],
   "source": [
    "content"
   ]
  },
  {
   "cell_type": "code",
   "execution_count": 28,
   "id": "7fe4a6f2-8d07-4e81-b2bd-76ea6b2c1754",
   "metadata": {},
   "outputs": [
    {
     "data": {
      "text/plain": [
       "0"
      ]
     },
     "execution_count": 28,
     "metadata": {},
     "output_type": "execute_result"
    }
   ],
   "source": [
    "Developer.seek(0)"
   ]
  },
  {
   "cell_type": "code",
   "execution_count": 29,
   "id": "d2bfbae4-f9d6-4556-985c-005d5630faef",
   "metadata": {},
   "outputs": [
    {
     "data": {
      "text/plain": [
       "['om gam ganapataye namaha\\n',\n",
       " 'om sri vigneswaraya namaha\\n',\n",
       " 'Ganapati bappa moriya\\n']"
      ]
     },
     "execution_count": 29,
     "metadata": {},
     "output_type": "execute_result"
    }
   ],
   "source": [
    "Developer.readlines()"
   ]
  },
  {
   "cell_type": "code",
   "execution_count": 30,
   "id": "0b25a064-f570-42d8-9f61-2390540b6b45",
   "metadata": {},
   "outputs": [],
   "source": [
    "#file locations"
   ]
  },
  {
   "cell_type": "code",
   "execution_count": 31,
   "id": "3e76a44d-616b-4b98-b545-ca68eafa0fc0",
   "metadata": {},
   "outputs": [],
   "source": [
    "Developer=open(\"C:\\\\Users\\\\TLAHARI\\\\my_python_codes\\\\SoftwareDeveloper.txt\")"
   ]
  },
  {
   "cell_type": "code",
   "execution_count": 32,
   "id": "507a7a05-7d94-40f3-a946-7d884a3bc821",
   "metadata": {},
   "outputs": [
    {
     "data": {
      "text/plain": [
       "<_io.TextIOWrapper name='C:\\\\Users\\\\TLAHARI\\\\my_python_codes\\\\SoftwareDeveloper.txt' mode='r' encoding='cp1252'>"
      ]
     },
     "execution_count": 32,
     "metadata": {},
     "output_type": "execute_result"
    }
   ],
   "source": [
    "Developer"
   ]
  },
  {
   "cell_type": "code",
   "execution_count": 33,
   "id": "82e08bb2-c8e6-42f4-bca2-1f468a59eac6",
   "metadata": {},
   "outputs": [
    {
     "data": {
      "text/plain": [
       "'C:\\\\Users\\\\TLAHARI\\\\my_python_codes'"
      ]
     },
     "execution_count": 33,
     "metadata": {},
     "output_type": "execute_result"
    }
   ],
   "source": [
    "pwd"
   ]
  },
  {
   "cell_type": "code",
   "execution_count": 34,
   "id": "7cc1b7e1-c1a8-4970-9f47-f4b2ec03cdb7",
   "metadata": {},
   "outputs": [
    {
     "data": {
      "text/plain": [
       "'aspired date:02 december, 2024\\nstep1: python\\nstep1 date: 30April, 2024\\nstep2: alteryx\\nstep3: html, shell script, css etc...'"
      ]
     },
     "execution_count": 34,
     "metadata": {},
     "output_type": "execute_result"
    }
   ],
   "source": [
    "Developer.read()"
   ]
  },
  {
   "cell_type": "code",
   "execution_count": 39,
   "id": "b750e47a-ef1d-49e1-8c3d-5c12d6cb62a5",
   "metadata": {},
   "outputs": [],
   "source": [
    "Developer.close()"
   ]
  },
  {
   "cell_type": "code",
   "execution_count": 40,
   "id": "0012fb84-24c4-4f11-aad7-773bb1b0d31d",
   "metadata": {},
   "outputs": [
    {
     "ename": "ValueError",
     "evalue": "I/O operation on closed file.",
     "output_type": "error",
     "traceback": [
      "\u001b[1;31m---------------------------------------------------------------------------\u001b[0m",
      "\u001b[1;31mValueError\u001b[0m                                Traceback (most recent call last)",
      "Cell \u001b[1;32mIn[40], line 1\u001b[0m\n\u001b[1;32m----> 1\u001b[0m Developer\u001b[38;5;241m.\u001b[39mread()\n",
      "\u001b[1;31mValueError\u001b[0m: I/O operation on closed file."
     ]
    }
   ],
   "source": [
    "Developer.read()"
   ]
  },
  {
   "cell_type": "code",
   "execution_count": 3,
   "id": "e53b8127-37ff-427a-b65c-dbfc3b567ed3",
   "metadata": {},
   "outputs": [],
   "source": [
    "with open('Ganesh.txt') as Developer:\n",
    "    content=Developer.read()"
   ]
  },
  {
   "cell_type": "code",
   "execution_count": 4,
   "id": "3a0c7ef1-b568-40ef-b9a6-f6d970260807",
   "metadata": {},
   "outputs": [
    {
     "data": {
      "text/plain": [
       "'om gam ganapataye namaha\\nom sri vigneswaraya namaha\\nGanapati bappa moriya\\n'"
      ]
     },
     "execution_count": 4,
     "metadata": {},
     "output_type": "execute_result"
    }
   ],
   "source": [
    "content"
   ]
  },
  {
   "cell_type": "code",
   "execution_count": 6,
   "id": "fc3bb7b7-d4d4-4f88-8466-7ab0fb354ec3",
   "metadata": {},
   "outputs": [],
   "source": [
    "with open('Ganesh.txt') as Developer:\n",
    "    content=Developer.readlines()"
   ]
  },
  {
   "cell_type": "code",
   "execution_count": 7,
   "id": "cf00a5a9-d007-4eae-8a25-9003c882277c",
   "metadata": {},
   "outputs": [
    {
     "data": {
      "text/plain": [
       "['om gam ganapataye namaha\\n',\n",
       " 'om sri vigneswaraya namaha\\n',\n",
       " 'Ganapati bappa moriya\\n']"
      ]
     },
     "execution_count": 7,
     "metadata": {},
     "output_type": "execute_result"
    }
   ],
   "source": [
    "content"
   ]
  },
  {
   "cell_type": "code",
   "execution_count": 10,
   "id": "e4f3b291-d0e2-40ec-beb0-afa948538eaa",
   "metadata": {},
   "outputs": [],
   "source": [
    "with open('Ganesh.txt',mode='r') as Developer:\n",
    "    content=Developer.read()"
   ]
  },
  {
   "cell_type": "code",
   "execution_count": 11,
   "id": "3a74d37e-392d-4583-98b6-9fb34fe728ce",
   "metadata": {},
   "outputs": [
    {
     "data": {
      "text/plain": [
       "'om gam ganapataye namaha\\nom sri vigneswaraya namaha\\nGanapati bappa moriya\\n'"
      ]
     },
     "execution_count": 11,
     "metadata": {},
     "output_type": "execute_result"
    }
   ],
   "source": [
    "content"
   ]
  },
  {
   "cell_type": "code",
   "execution_count": 16,
   "id": "8731f26f-1053-4fd9-9d17-090dbc3dd94c",
   "metadata": {},
   "outputs": [],
   "source": [
    "with open('Ganesh.txt',mode='w') as Developer:\n",
    "    content=Developer.write('om')"
   ]
  },
  {
   "cell_type": "code",
   "execution_count": 17,
   "id": "20b644df-7985-4922-95c4-f80e496ca020",
   "metadata": {},
   "outputs": [
    {
     "data": {
      "text/plain": [
       "2"
      ]
     },
     "execution_count": 17,
     "metadata": {},
     "output_type": "execute_result"
    }
   ],
   "source": [
    "content"
   ]
  },
  {
   "cell_type": "code",
   "execution_count": 19,
   "id": "76af607f-12cb-4581-a6c1-911ca79fe15b",
   "metadata": {},
   "outputs": [],
   "source": [
    "with open('Ganesh.txt',mode='a') as Developer:\n",
    "    content=Developer.write('om gam ganapataye namaha')"
   ]
  },
  {
   "cell_type": "code",
   "execution_count": 20,
   "id": "e6a8c882-012b-414e-87da-0be808a50866",
   "metadata": {},
   "outputs": [
    {
     "data": {
      "text/plain": [
       "24"
      ]
     },
     "execution_count": 20,
     "metadata": {},
     "output_type": "execute_result"
    }
   ],
   "source": [
    "content"
   ]
  },
  {
   "cell_type": "code",
   "execution_count": 1,
   "id": "ba638164-ce6d-4491-859f-42dadbc2a555",
   "metadata": {},
   "outputs": [
    {
     "name": "stdout",
     "output_type": "stream",
     "text": [
      "Overwriting ganesh.txt\n"
     ]
    }
   ],
   "source": [
    "%%writefile ganesh.txt\n",
    "om gam ganapataye namaha\n",
    "software developer 02december2024\n",
    "python course 30april2024"
   ]
  },
  {
   "cell_type": "code",
   "execution_count": 2,
   "id": "c14aa616-ba37-40a8-aa61-39145f7f23bb",
   "metadata": {},
   "outputs": [
    {
     "name": "stdout",
     "output_type": "stream",
     "text": [
      "om gam ganapataye namaha\n",
      "software developer 02december2024\n",
      "python course 30april2024\n",
      "\n"
     ]
    }
   ],
   "source": [
    "with open('ganesh.txt',mode='r') as Ganapatibappa:\n",
    "    print(Ganapatibappa.read())"
   ]
  },
  {
   "cell_type": "code",
   "execution_count": 3,
   "id": "dd268f8b-779b-4cb8-a75f-8e8e616eaae1",
   "metadata": {},
   "outputs": [
    {
     "name": "stdout",
     "output_type": "stream",
     "text": [
      "21\n"
     ]
    }
   ],
   "source": [
    "with open('ganesh.txt',mode='a') as Ganapatibappa:\n",
    "    print(Ganapatibappa.write('ganapati bappa moriya'))"
   ]
  },
  {
   "cell_type": "code",
   "execution_count": 4,
   "id": "32636504-b5b0-43b5-a71d-8c683d4be115",
   "metadata": {},
   "outputs": [
    {
     "name": "stdout",
     "output_type": "stream",
     "text": [
      "om gam ganapataye namaha\n",
      "software developer 02december2024\n",
      "python course 30april2024\n",
      "ganapati bappa moriya\n"
     ]
    }
   ],
   "source": [
    "with open('ganesh.txt',mode='r') as Ganapatibappa:\n",
    "    print(Ganapatibappa.read())"
   ]
  },
  {
   "cell_type": "code",
   "execution_count": 5,
   "id": "01e93a79-8200-44cd-9913-37be22510613",
   "metadata": {},
   "outputs": [
    {
     "name": "stdout",
     "output_type": "stream",
     "text": [
      "37\n"
     ]
    }
   ],
   "source": [
    "with open('ganesh.txt',mode='a') as Ganapatibappa:\n",
    "    print(Ganapatibappa.write('\\nsoftware development engineer lahari'))"
   ]
  },
  {
   "cell_type": "code",
   "execution_count": 6,
   "id": "ba9e244f-7c12-4869-8fb9-68e7df5564dc",
   "metadata": {},
   "outputs": [
    {
     "name": "stdout",
     "output_type": "stream",
     "text": [
      "om gam ganapataye namaha\n",
      "software developer 02december2024\n",
      "python course 30april2024\n",
      "ganapati bappa moriya\n",
      "software development engineer lahari\n"
     ]
    }
   ],
   "source": [
    "with open('ganesh.txt',mode='r') as Ganapatibappa:\n",
    "    print(Ganapatibappa.read())"
   ]
  },
  {
   "cell_type": "code",
   "execution_count": 7,
   "id": "119154c9-c65b-42c3-8354-e7f378fa095d",
   "metadata": {},
   "outputs": [],
   "source": [
    "with open('developer.txt',mode='w') as d:\n",
    "    d.write('om gam ganapataye namaha')"
   ]
  },
  {
   "cell_type": "code",
   "execution_count": 8,
   "id": "a5805d03-af63-4a02-a27f-330dbfda0304",
   "metadata": {},
   "outputs": [
    {
     "name": "stdout",
     "output_type": "stream",
     "text": [
      "om gam ganapataye namaha\n"
     ]
    }
   ],
   "source": [
    "with open('developer.txt',mode='r') as d:\n",
    "    print(d.read())"
   ]
  },
  {
   "cell_type": "code",
   "execution_count": 13,
   "id": "83680be8-bce8-4de5-817c-900fb82a499c",
   "metadata": {},
   "outputs": [
    {
     "name": "stdout",
     "output_type": "stream",
     "text": [
      "\n"
     ]
    }
   ],
   "source": [
    "with open('developer.txt',mode='w+') as d:\n",
    "    print(d.read())"
   ]
  },
  {
   "cell_type": "code",
   "execution_count": 14,
   "id": "570cdc8a-9dc4-4f39-93b8-be277dee411e",
   "metadata": {},
   "outputs": [],
   "source": [
    "developer=open('ganesh.txt',mode='w+')"
   ]
  },
  {
   "cell_type": "code",
   "execution_count": 15,
   "id": "5cc732b1-80a4-4422-96c7-201654a65013",
   "metadata": {},
   "outputs": [
    {
     "data": {
      "text/plain": [
       "''"
      ]
     },
     "execution_count": 15,
     "metadata": {},
     "output_type": "execute_result"
    }
   ],
   "source": [
    "developer.read()"
   ]
  },
  {
   "cell_type": "code",
   "execution_count": 16,
   "id": "82730c5d-d4f8-4dce-8e6b-d04ff0b76085",
   "metadata": {},
   "outputs": [
    {
     "data": {
      "text/plain": [
       "24"
      ]
     },
     "execution_count": 16,
     "metadata": {},
     "output_type": "execute_result"
    }
   ],
   "source": [
    "developer.write('om gam ganapataye namaha')"
   ]
  },
  {
   "cell_type": "code",
   "execution_count": 18,
   "id": "5610a5c6-74dd-4e4c-9018-eb4019332ee5",
   "metadata": {},
   "outputs": [
    {
     "data": {
      "text/plain": [
       "0"
      ]
     },
     "execution_count": 18,
     "metadata": {},
     "output_type": "execute_result"
    }
   ],
   "source": [
    "developer.seek(0)"
   ]
  },
  {
   "cell_type": "code",
   "execution_count": 19,
   "id": "e3a3d671-ef86-4e12-9d74-005da5e7945e",
   "metadata": {},
   "outputs": [
    {
     "data": {
      "text/plain": [
       "'om gam ganapataye namaha'"
      ]
     },
     "execution_count": 19,
     "metadata": {},
     "output_type": "execute_result"
    }
   ],
   "source": [
    "developer.read()"
   ]
  },
  {
   "cell_type": "code",
   "execution_count": 20,
   "id": "31995e75-0885-465e-a3bd-9642339abfaa",
   "metadata": {},
   "outputs": [],
   "source": [
    "developer.close()"
   ]
  },
  {
   "cell_type": "code",
   "execution_count": 21,
   "id": "2d786428-c53d-4f4f-ac5c-39c94648aff6",
   "metadata": {},
   "outputs": [],
   "source": [
    "new=open('newfile.txt',mode='a+')"
   ]
  },
  {
   "cell_type": "code",
   "execution_count": 22,
   "id": "7a975e42-bcfa-4178-8cb8-60bcc1f66055",
   "metadata": {},
   "outputs": [
    {
     "data": {
      "text/plain": [
       "24"
      ]
     },
     "execution_count": 22,
     "metadata": {},
     "output_type": "execute_result"
    }
   ],
   "source": [
    "new.write('om gam ganapataye namaha')"
   ]
  },
  {
   "cell_type": "code",
   "execution_count": 23,
   "id": "24ff83fe-6957-4ce9-86a0-3fae439cdffa",
   "metadata": {},
   "outputs": [
    {
     "data": {
      "text/plain": [
       "''"
      ]
     },
     "execution_count": 23,
     "metadata": {},
     "output_type": "execute_result"
    }
   ],
   "source": [
    "new.read()"
   ]
  },
  {
   "cell_type": "code",
   "execution_count": 24,
   "id": "b3bb818a-6446-4c2c-a99c-b25e58bc66b2",
   "metadata": {},
   "outputs": [
    {
     "data": {
      "text/plain": [
       "0"
      ]
     },
     "execution_count": 24,
     "metadata": {},
     "output_type": "execute_result"
    }
   ],
   "source": [
    "new.seek(0)"
   ]
  },
  {
   "cell_type": "code",
   "execution_count": 25,
   "id": "5d1f32a8-a1f8-4545-9d67-897131a9a4a8",
   "metadata": {},
   "outputs": [
    {
     "data": {
      "text/plain": [
       "'om gam ganapataye namaha'"
      ]
     },
     "execution_count": 25,
     "metadata": {},
     "output_type": "execute_result"
    }
   ],
   "source": [
    "new.read()"
   ]
  },
  {
   "cell_type": "code",
   "execution_count": 28,
   "id": "42f2bab6-5e35-4bbe-b88e-ed57ea9ae8ee",
   "metadata": {},
   "outputs": [],
   "source": [
    "new.close()"
   ]
  },
  {
   "cell_type": "code",
   "execution_count": 40,
   "id": "089f0ca1-6ea4-4f56-8372-15fcec16aa10",
   "metadata": {},
   "outputs": [
    {
     "name": "stdout",
     "output_type": "stream",
     "text": [
      "Appending to newfile.txt\n"
     ]
    }
   ],
   "source": [
    "%%writefile -a newfile.txt  \n",
    "om gam ganapataye namaha\n",
    "software development engineer lahari"
   ]
  },
  {
   "cell_type": "code",
   "execution_count": 43,
   "id": "f975160e-2cea-4a92-9cc8-d52f5988184c",
   "metadata": {},
   "outputs": [
    {
     "name": "stdout",
     "output_type": "stream",
     "text": [
      "om gam ganapataye namaha\n",
      "\n",
      "om gam ganapataye namaha\n",
      "\n",
      "software development engineer lahari\n",
      "\n",
      "\n",
      "\n",
      "'om gam ganapataye namaha'\n",
      "\n",
      "software development engineer lahari\n",
      "\n",
      "\n",
      "\n",
      "'\\nom gam ganapataye namaha'\n",
      "\n",
      "software development engineer lahari\n",
      "\n",
      "\n",
      "\n",
      " om gam ganapataye namaha\n",
      "\n",
      "software development engineer lahari\n",
      "\n",
      "om gam ganapataye namaha\n",
      "\n",
      "software development engineer lahari\n",
      "\n",
      " om gam ganapataye namaha\n",
      "\n",
      "software development engineer lahari\n",
      "\n",
      "\n",
      "\n",
      "om gam ganapataye namaha\n",
      "\n",
      "software development engineer lahari\n",
      "\n",
      "om gam ganapataye namaha\n",
      "\n",
      "software development engineer lahari\n",
      "\n"
     ]
    }
   ],
   "source": [
    "for line in open('newfile.txt'):\n",
    "    print(line)"
   ]
  },
  {
   "cell_type": "code",
   "execution_count": 44,
   "id": "36a740f0-7029-4a6c-b284-a2b3921837e4",
   "metadata": {},
   "outputs": [
    {
     "name": "stdout",
     "output_type": "stream",
     "text": [
      "om gam ganapataye namaha\n",
      "\n",
      "om gam ganapataye namaha\n",
      "\n",
      "software development engineer lahari\n",
      "\n",
      "\n",
      "\n",
      "'om gam ganapataye namaha'\n",
      "\n",
      "software development engineer lahari\n",
      "\n",
      "\n",
      "\n",
      "'\\nom gam ganapataye namaha'\n",
      "\n",
      "software development engineer lahari\n",
      "\n",
      "\n",
      "\n",
      " om gam ganapataye namaha\n",
      "\n",
      "software development engineer lahari\n",
      "\n",
      "om gam ganapataye namaha\n",
      "\n",
      "software development engineer lahari\n",
      "\n",
      " om gam ganapataye namaha\n",
      "\n",
      "software development engineer lahari\n",
      "\n",
      "\n",
      "\n",
      "om gam ganapataye namaha\n",
      "\n",
      "software development engineer lahari\n",
      "\n",
      "om gam ganapataye namaha\n",
      "\n",
      "software development engineer lahari\n",
      "\n"
     ]
    }
   ],
   "source": [
    "for i in open('newfile.txt'):\n",
    "    print(i)"
   ]
  },
  {
   "cell_type": "code",
   "execution_count": 45,
   "id": "c7ab94b1-3651-4fab-a49d-37a8a6e0975e",
   "metadata": {},
   "outputs": [],
   "source": [
    "#By not calling .read() on the file, the whole text file was not stored in memory."
   ]
  },
  {
   "cell_type": "code",
   "execution_count": null,
   "id": "442cddc0-edbc-4298-854b-9011475125f3",
   "metadata": {},
   "outputs": [],
   "source": []
  }
 ],
 "metadata": {
  "kernelspec": {
   "display_name": "Python 3 (ipykernel)",
   "language": "python",
   "name": "python3"
  },
  "language_info": {
   "codemirror_mode": {
    "name": "ipython",
    "version": 3
   },
   "file_extension": ".py",
   "mimetype": "text/x-python",
   "name": "python",
   "nbconvert_exporter": "python",
   "pygments_lexer": "ipython3",
   "version": "3.11.7"
  }
 },
 "nbformat": 4,
 "nbformat_minor": 5
}
