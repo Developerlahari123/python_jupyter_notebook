{
 "cells": [
  {
   "cell_type": "markdown",
   "id": "4d9bca7e-d6ed-4c19-b20a-32e4bf915ad5",
   "metadata": {},
   "source": [
    "LIST"
   ]
  },
  {
   "cell_type": "markdown",
   "id": "efc52dd8-a0e6-413c-be48-30ba443fc0d0",
   "metadata": {},
   "source": [
    "ordered sequences - index[0,1,2] that can hold variet of object types\n",
    "l1=[1,'python',3.956]\n",
    "12=[9,8,7,6]\n",
    "\n"
   ]
  },
  {
   "cell_type": "code",
   "execution_count": 2,
   "id": "14064417-89ec-4f95-b5e6-3e70f17ffde1",
   "metadata": {},
   "outputs": [],
   "source": [
    "developlist1=['python',3004.2024,19,True,False]"
   ]
  },
  {
   "cell_type": "code",
   "execution_count": 24,
   "id": "3476db8b-e5ca-47e0-a608-3b3cf51f6c14",
   "metadata": {},
   "outputs": [
    {
     "name": "stdout",
     "output_type": "stream",
     "text": [
      "['python', 3004.2024, 19, True, False]\n"
     ]
    }
   ],
   "source": [
    "print(developlist1)"
   ]
  },
  {
   "cell_type": "code",
   "execution_count": 3,
   "id": "c285e633-2dd0-4360-bb04-3a913e782515",
   "metadata": {},
   "outputs": [
    {
     "data": {
      "text/plain": [
       "3"
      ]
     },
     "execution_count": 3,
     "metadata": {},
     "output_type": "execute_result"
    }
   ],
   "source": [
    "len(developlist1)"
   ]
  },
  {
   "cell_type": "code",
   "execution_count": 4,
   "id": "4c1ff909-7c43-4ff9-90e9-ebea576663aa",
   "metadata": {},
   "outputs": [
    {
     "data": {
      "text/plain": [
       "3004.2024"
      ]
     },
     "execution_count": 4,
     "metadata": {},
     "output_type": "execute_result"
    }
   ],
   "source": [
    "developlist1[1]"
   ]
  },
  {
   "cell_type": "code",
   "execution_count": 5,
   "id": "3782e521-c729-4ff4-8185-accb19409147",
   "metadata": {},
   "outputs": [
    {
     "data": {
      "text/plain": [
       "['python', 3004.2024, 19]"
      ]
     },
     "execution_count": 5,
     "metadata": {},
     "output_type": "execute_result"
    }
   ],
   "source": [
    "developlist1[:]"
   ]
  },
  {
   "cell_type": "code",
   "execution_count": 6,
   "id": "f9472ec3-1ab7-4cfa-bbc9-93b9e27efcf3",
   "metadata": {},
   "outputs": [
    {
     "data": {
      "text/plain": [
       "['python', 3004.2024, 19]"
      ]
     },
     "execution_count": 6,
     "metadata": {},
     "output_type": "execute_result"
    }
   ],
   "source": [
    "developlist1[0:]"
   ]
  },
  {
   "cell_type": "code",
   "execution_count": 7,
   "id": "73239f68-2a66-4f86-893c-e3ae4e0d909e",
   "metadata": {},
   "outputs": [
    {
     "data": {
      "text/plain": [
       "['python', 3004.2024]"
      ]
     },
     "execution_count": 7,
     "metadata": {},
     "output_type": "execute_result"
    }
   ],
   "source": [
    "developlist1[0:2]"
   ]
  },
  {
   "cell_type": "code",
   "execution_count": 8,
   "id": "ee65354d-597c-481a-a7f4-29f9ba2c64fb",
   "metadata": {},
   "outputs": [
    {
     "data": {
      "text/plain": [
       "['python', 3004.2024, 19]"
      ]
     },
     "execution_count": 8,
     "metadata": {},
     "output_type": "execute_result"
    }
   ],
   "source": [
    "developlist1[0:3]"
   ]
  },
  {
   "cell_type": "code",
   "execution_count": 9,
   "id": "9fc1b716-f208-468f-a86e-254ddd3759cd",
   "metadata": {},
   "outputs": [
    {
     "data": {
      "text/plain": [
       "[19]"
      ]
     },
     "execution_count": 9,
     "metadata": {},
     "output_type": "execute_result"
    }
   ],
   "source": [
    "developlist1[-1:]"
   ]
  },
  {
   "cell_type": "code",
   "execution_count": 10,
   "id": "bc8e2203-bfe3-4062-bb99-0465dbd539cb",
   "metadata": {},
   "outputs": [
    {
     "data": {
      "text/plain": [
       "[3004.2024, 19]"
      ]
     },
     "execution_count": 10,
     "metadata": {},
     "output_type": "execute_result"
    }
   ],
   "source": [
    "developlist1[-2:]"
   ]
  },
  {
   "cell_type": "code",
   "execution_count": 11,
   "id": "2b1cd1e6-23f5-4eff-a59e-ce99d827fd1e",
   "metadata": {},
   "outputs": [
    {
     "data": {
      "text/plain": [
       "['python', 3004.2024, 19]"
      ]
     },
     "execution_count": 11,
     "metadata": {},
     "output_type": "execute_result"
    }
   ],
   "source": [
    "developlist1[-3:]"
   ]
  },
  {
   "cell_type": "code",
   "execution_count": 12,
   "id": "46d8c457-cc64-45cc-a997-856ed9c00703",
   "metadata": {},
   "outputs": [
    {
     "data": {
      "text/plain": [
       "['python', 3004.2024, 19]"
      ]
     },
     "execution_count": 12,
     "metadata": {},
     "output_type": "execute_result"
    }
   ],
   "source": [
    "developlist1[-4:]"
   ]
  },
  {
   "cell_type": "code",
   "execution_count": 13,
   "id": "1a7820a4-4182-41e6-80dc-fe75c584e8ac",
   "metadata": {},
   "outputs": [
    {
     "data": {
      "text/plain": [
       "[]"
      ]
     },
     "execution_count": 13,
     "metadata": {},
     "output_type": "execute_result"
    }
   ],
   "source": [
    "developlist1[:0]"
   ]
  },
  {
   "cell_type": "code",
   "execution_count": 14,
   "id": "fd9aa4ca-a300-4cab-bbf8-2fe4a3f20f01",
   "metadata": {},
   "outputs": [
    {
     "data": {
      "text/plain": [
       "['python', 3004.2024]"
      ]
     },
     "execution_count": 14,
     "metadata": {},
     "output_type": "execute_result"
    }
   ],
   "source": [
    "developlist1[:-1]"
   ]
  },
  {
   "cell_type": "code",
   "execution_count": 15,
   "id": "57adc176-5703-4432-adfd-231b53cc6f1c",
   "metadata": {},
   "outputs": [
    {
     "data": {
      "text/plain": [
       "['python']"
      ]
     },
     "execution_count": 15,
     "metadata": {},
     "output_type": "execute_result"
    }
   ],
   "source": [
    "developlist1[:-2]"
   ]
  },
  {
   "cell_type": "code",
   "execution_count": 16,
   "id": "89916ff4-3bff-434f-ae22-65d2d1f6c682",
   "metadata": {},
   "outputs": [
    {
     "data": {
      "text/plain": [
       "[]"
      ]
     },
     "execution_count": 16,
     "metadata": {},
     "output_type": "execute_result"
    }
   ],
   "source": [
    "developlist1[:-3]"
   ]
  },
  {
   "cell_type": "code",
   "execution_count": 17,
   "id": "24e98c9d-7fff-4623-aa77-6967f100a544",
   "metadata": {},
   "outputs": [
    {
     "data": {
      "text/plain": [
       "[19, 3004.2024, 'python']"
      ]
     },
     "execution_count": 17,
     "metadata": {},
     "output_type": "execute_result"
    }
   ],
   "source": [
    "developlist1[::-1]"
   ]
  },
  {
   "cell_type": "code",
   "execution_count": 18,
   "id": "f75032a6-3f3b-4702-ac40-ac1f041722df",
   "metadata": {},
   "outputs": [
    {
     "data": {
      "text/plain": [
       "[19, 'python']"
      ]
     },
     "execution_count": 18,
     "metadata": {},
     "output_type": "execute_result"
    }
   ],
   "source": [
    "developlist1[::-2]"
   ]
  },
  {
   "cell_type": "code",
   "execution_count": 2,
   "id": "3aec8bcd-8c3b-4cab-a161-fef82d0430c6",
   "metadata": {},
   "outputs": [],
   "source": [
    "develop2=[True,'1202.2024']"
   ]
  },
  {
   "cell_type": "code",
   "execution_count": 7,
   "id": "17c7ddcc-2b8f-4c65-85f0-a61a991d8945",
   "metadata": {},
   "outputs": [],
   "source": [
    "devlist=developlist1+develop2"
   ]
  },
  {
   "cell_type": "code",
   "execution_count": 8,
   "id": "275eb1aa-2580-463d-9352-62d087afe5f2",
   "metadata": {},
   "outputs": [
    {
     "data": {
      "text/plain": [
       "['python', 3004.2024, 19, True, '1202.2024']"
      ]
     },
     "execution_count": 8,
     "metadata": {},
     "output_type": "execute_result"
    }
   ],
   "source": [
    "devlist"
   ]
  },
  {
   "cell_type": "code",
   "execution_count": 9,
   "id": "876d6a96-55aa-44cb-90fc-383e60a9095c",
   "metadata": {},
   "outputs": [],
   "source": [
    "#elements in list are mutable or changable"
   ]
  },
  {
   "cell_type": "code",
   "execution_count": 16,
   "id": "1aef57b6-cf3e-4c0c-802f-56a35a9154c5",
   "metadata": {},
   "outputs": [],
   "source": [
    "devlist[2]=18"
   ]
  },
  {
   "cell_type": "code",
   "execution_count": 17,
   "id": "ab7c7cce-cf3d-4f0f-9457-8c29c7795602",
   "metadata": {},
   "outputs": [
    {
     "data": {
      "text/plain": [
       "['python', 3004.2024, 18, True, '1202.2024']"
      ]
     },
     "execution_count": 17,
     "metadata": {},
     "output_type": "execute_result"
    }
   ],
   "source": [
    "devlist"
   ]
  },
  {
   "cell_type": "code",
   "execution_count": 27,
   "id": "78b4724a-b4b2-489a-b99a-634c59fa7a95",
   "metadata": {},
   "outputs": [],
   "source": [
    "#add element to the very end of a list - append() - effect list in place as it permanantly changes list to have an element at end"
   ]
  },
  {
   "cell_type": "code",
   "execution_count": 18,
   "id": "ce63429a-7e01-4a59-97e4-493bb28ff242",
   "metadata": {},
   "outputs": [],
   "source": [
    "devlist.append('Software developer')"
   ]
  },
  {
   "cell_type": "code",
   "execution_count": 19,
   "id": "af126df8-b00d-4a8c-abd4-cb5506dfbbf2",
   "metadata": {},
   "outputs": [
    {
     "data": {
      "text/plain": [
       "['python', 3004.2024, 18, True, '1202.2024', 'Software developer']"
      ]
     },
     "execution_count": 19,
     "metadata": {},
     "output_type": "execute_result"
    }
   ],
   "source": [
    "devlist"
   ]
  },
  {
   "cell_type": "code",
   "execution_count": 29,
   "id": "4c45e80b-24e6-4e59-a42b-ae6283eca85e",
   "metadata": {},
   "outputs": [],
   "source": [
    "#removing itemsfrom a list pop()  - pop of an item from end of a list"
   ]
  },
  {
   "cell_type": "code",
   "execution_count": 31,
   "id": "80eeb2b1-5223-4551-98f6-b99f5341789f",
   "metadata": {},
   "outputs": [
    {
     "data": {
      "text/plain": [
       "False"
      ]
     },
     "execution_count": 31,
     "metadata": {},
     "output_type": "execute_result"
    }
   ],
   "source": [
    "developlist1.pop()"
   ]
  },
  {
   "cell_type": "code",
   "execution_count": 3,
   "id": "9f868f53-4901-4872-8a01-d80927cd4298",
   "metadata": {},
   "outputs": [
    {
     "data": {
      "text/plain": [
       "['python', 3004.2024, 19, True, False]"
      ]
     },
     "execution_count": 3,
     "metadata": {},
     "output_type": "execute_result"
    }
   ],
   "source": [
    "developlist1"
   ]
  },
  {
   "cell_type": "code",
   "execution_count": 33,
   "id": "a91ab52a-e863-4a40-b6c5-86dfcdb11a4c",
   "metadata": {},
   "outputs": [],
   "source": [
    "popped_item=developlist1.pop()"
   ]
  },
  {
   "cell_type": "code",
   "execution_count": 34,
   "id": "9353bad3-2c2d-43cb-9db5-3346978f8dde",
   "metadata": {},
   "outputs": [
    {
     "data": {
      "text/plain": [
       "True"
      ]
     },
     "execution_count": 34,
     "metadata": {},
     "output_type": "execute_result"
    }
   ],
   "source": [
    "popped_item"
   ]
  },
  {
   "cell_type": "code",
   "execution_count": 35,
   "id": "ea2d0a8a-afb5-4028-9cac-33adfaaf2091",
   "metadata": {},
   "outputs": [
    {
     "data": {
      "text/plain": [
       "19"
      ]
     },
     "execution_count": 35,
     "metadata": {},
     "output_type": "execute_result"
    }
   ],
   "source": [
    "developlist1.pop(2)"
   ]
  },
  {
   "cell_type": "code",
   "execution_count": 3,
   "id": "fbd64eec-be6e-4d54-98ad-ced994a8fdf1",
   "metadata": {},
   "outputs": [],
   "source": [
    "aspirelist=['sofware developer','python','alteryx','html','css','data structures']"
   ]
  },
  {
   "cell_type": "code",
   "execution_count": 36,
   "id": "3879a3f2-aa62-405c-9db1-2100c22bb440",
   "metadata": {},
   "outputs": [
    {
     "data": {
      "text/plain": [
       "['alteryx', 'css', 'data structures', 'html', 'python', 'sofware developer']"
      ]
     },
     "execution_count": 36,
     "metadata": {},
     "output_type": "execute_result"
    }
   ],
   "source": [
    "aspirelist.sort()\n",
    "newli=aspirelist\n",
    "newli"
   ]
  },
  {
   "cell_type": "code",
   "execution_count": 35,
   "id": "ff538ca1-8164-48a5-a604-c3a656d108d2",
   "metadata": {},
   "outputs": [
    {
     "data": {
      "text/plain": [
       "['alteryx', 'css', 'data structures', 'html', 'python', 'sofware developer']"
      ]
     },
     "execution_count": 35,
     "metadata": {},
     "output_type": "execute_result"
    }
   ],
   "source": [
    "\n",
    "aspirelist"
   ]
  },
  {
   "cell_type": "code",
   "execution_count": 17,
   "id": "edd17c26-ccbc-4cd9-915d-b1026899ee09",
   "metadata": {},
   "outputs": [],
   "source": [
    "numlist=[8,69,7,3]"
   ]
  },
  {
   "cell_type": "code",
   "execution_count": 21,
   "id": "54e6bab4-1c71-450f-acde-a0809845477d",
   "metadata": {},
   "outputs": [],
   "source": [
    "numlist.sort() #just sort not going to return anything"
   ]
  },
  {
   "cell_type": "code",
   "execution_count": 19,
   "id": "7e5c14d6-cc1c-4519-a6eb-5eb3fdf68b29",
   "metadata": {},
   "outputs": [
    {
     "data": {
      "text/plain": [
       "[3, 7, 8, 69]"
      ]
     },
     "execution_count": 19,
     "metadata": {},
     "output_type": "execute_result"
    }
   ],
   "source": [
    "numlist"
   ]
  },
  {
   "cell_type": "code",
   "execution_count": 22,
   "id": "38350622-fbd6-4690-bb12-c60463564b84",
   "metadata": {},
   "outputs": [],
   "source": [
    "newl=numlist.sort()"
   ]
  },
  {
   "cell_type": "code",
   "execution_count": 25,
   "id": "6bed5bde-e677-4729-954e-44421f065405",
   "metadata": {},
   "outputs": [
    {
     "data": {
      "text/plain": [
       "NoneType"
      ]
     },
     "execution_count": 25,
     "metadata": {},
     "output_type": "execute_result"
    }
   ],
   "source": [
    "type(newl)"
   ]
  },
  {
   "cell_type": "markdown",
   "id": "47e0af37-911a-40bd-9d9b-10489806e610",
   "metadata": {},
   "source": [
    "#NoneType is type for a None object, None is special object in python used to indicate no value it's return value of funtion or method that doesn't \n",
    "actually written anything,it's used as a placeholder many times. it is common default return value for functions that maybe search for something and may or may not find it."
   ]
  },
  {
   "cell_type": "code",
   "execution_count": 39,
   "id": "7d80ea0e-2a1d-4ebf-9b60-6bc76d665fb0",
   "metadata": {},
   "outputs": [],
   "source": [
    "aspirelist.reverse() #it's inplace so it doesn't return anything"
   ]
  },
  {
   "cell_type": "code",
   "execution_count": 53,
   "id": "bd338458-15f7-453d-93a5-e86f24cf09e0",
   "metadata": {},
   "outputs": [
    {
     "data": {
      "text/plain": [
       "[]"
      ]
     },
     "execution_count": 53,
     "metadata": {},
     "output_type": "execute_result"
    }
   ],
   "source": [
    "aspirelist"
   ]
  },
  {
   "cell_type": "code",
   "execution_count": 40,
   "id": "d3aada96-1eb3-438b-bb11-d553c56f61b1",
   "metadata": {},
   "outputs": [],
   "source": [
    "aspirelist.clear()"
   ]
  },
  {
   "cell_type": "code",
   "execution_count": 43,
   "id": "c3e53436-3acf-4b17-b79d-dbf6e34ef7a4",
   "metadata": {},
   "outputs": [
    {
     "data": {
      "text/plain": [
       "[]"
      ]
     },
     "execution_count": 43,
     "metadata": {},
     "output_type": "execute_result"
    }
   ],
   "source": [
    "aspirelist"
   ]
  },
  {
   "cell_type": "code",
   "execution_count": 42,
   "id": "4f697d5c-413d-4a07-974f-c7f6f495ddf6",
   "metadata": {},
   "outputs": [
    {
     "data": {
      "text/plain": [
       "list"
      ]
     },
     "execution_count": 42,
     "metadata": {},
     "output_type": "execute_result"
    }
   ],
   "source": [
    "type(aspirelist)"
   ]
  },
  {
   "cell_type": "code",
   "execution_count": 44,
   "id": "fb387f6a-df28-4ba3-9e8e-cfbce38a4e67",
   "metadata": {},
   "outputs": [
    {
     "name": "stdout",
     "output_type": "stream",
     "text": [
      "['sofware developer', 1202.2024, 'python', 3004.2024]\n"
     ]
    }
   ],
   "source": [
    "print(['sofware developer',1202.2024,'python',3004.2024])"
   ]
  },
  {
   "cell_type": "code",
   "execution_count": 45,
   "id": "57c97397-e8e9-4282-b7c4-c518ed9d943f",
   "metadata": {},
   "outputs": [],
   "source": [
    "nestedlist=['sofware developer',1202.2024,'main1',['python',3004.2024,'in1']]"
   ]
  },
  {
   "cell_type": "code",
   "execution_count": 50,
   "id": "3ef56087-0c3a-4b07-a2af-0d94497236ef",
   "metadata": {},
   "outputs": [
    {
     "data": {
      "text/plain": [
       "['python', 3004.2024]"
      ]
     },
     "execution_count": 50,
     "metadata": {},
     "output_type": "execute_result"
    }
   ],
   "source": [
    "nestedlist[3][0:2]"
   ]
  },
  {
   "cell_type": "code",
   "execution_count": 52,
   "id": "0f4eebd9-d2e2-4654-a939-fa1f1708fed8",
   "metadata": {},
   "outputs": [
    {
     "data": {
      "text/plain": [
       "['python', 3004.2024]"
      ]
     },
     "execution_count": 52,
     "metadata": {},
     "output_type": "execute_result"
    }
   ],
   "source": [
    "nestedlist[0:4][3][0:2]"
   ]
  },
  {
   "cell_type": "code",
   "execution_count": 58,
   "id": "7e3040ef-d92d-401e-8d49-97239e5f9bd7",
   "metadata": {},
   "outputs": [],
   "source": [
    "aspirelist.insert(1,2)"
   ]
  },
  {
   "cell_type": "code",
   "execution_count": 59,
   "id": "e08e6b86-ff2d-456b-93e2-a95eb3a45c5f",
   "metadata": {},
   "outputs": [
    {
     "data": {
      "text/plain": [
       "['sofware developer', 2, 'python', 'alteryx', 'html', 'css', 'data structures']"
      ]
     },
     "execution_count": 59,
     "metadata": {},
     "output_type": "execute_result"
    }
   ],
   "source": [
    "aspirelist"
   ]
  },
  {
   "cell_type": "code",
   "execution_count": 63,
   "id": "17e29289-d00f-4781-ab9d-3695fa92b7a1",
   "metadata": {},
   "outputs": [],
   "source": [
    "aspirelist.insert(1,'ganesh')"
   ]
  },
  {
   "cell_type": "code",
   "execution_count": 64,
   "id": "393ec612-ce1f-4d09-863b-aa23ade91efe",
   "metadata": {},
   "outputs": [
    {
     "data": {
      "text/plain": [
       "['sofware developer',\n",
       " 'ganesh',\n",
       " 'ganesh',\n",
       " 2,\n",
       " 'python',\n",
       " 'alteryx',\n",
       " 'html',\n",
       " 'css',\n",
       " 'data structures']"
      ]
     },
     "execution_count": 64,
     "metadata": {},
     "output_type": "execute_result"
    }
   ],
   "source": [
    "aspirelist"
   ]
  },
  {
   "cell_type": "code",
   "execution_count": 67,
   "id": "0772fe7c-446a-4a09-aef2-69869bc9257d",
   "metadata": {},
   "outputs": [
    {
     "data": {
      "text/plain": [
       "3"
      ]
     },
     "execution_count": 67,
     "metadata": {},
     "output_type": "execute_result"
    }
   ],
   "source": [
    "aspirelist.index(2)"
   ]
  },
  {
   "cell_type": "code",
   "execution_count": 68,
   "id": "1428407b-286a-4fed-9e34-479f6295226e",
   "metadata": {},
   "outputs": [
    {
     "data": {
      "text/plain": [
       "['sofware developer',\n",
       " 'ganesh',\n",
       " 'ganesh',\n",
       " 2,\n",
       " 'python',\n",
       " 'alteryx',\n",
       " 'html',\n",
       " 'css',\n",
       " 'data structures']"
      ]
     },
     "execution_count": 68,
     "metadata": {},
     "output_type": "execute_result"
    }
   ],
   "source": [
    "aspirelist"
   ]
  },
  {
   "cell_type": "code",
   "execution_count": 71,
   "id": "5969fa3d-844a-479f-a584-76d45a6ce931",
   "metadata": {},
   "outputs": [],
   "source": [
    "newlist=aspirelist.copy()"
   ]
  },
  {
   "cell_type": "code",
   "execution_count": 2,
   "id": "1390138b-93c2-44a6-b81a-a64d1edc5096",
   "metadata": {},
   "outputs": [
    {
     "ename": "NameError",
     "evalue": "name 'aspirelist' is not defined",
     "output_type": "error",
     "traceback": [
      "\u001b[1;31m---------------------------------------------------------------------------\u001b[0m",
      "\u001b[1;31mNameError\u001b[0m                                 Traceback (most recent call last)",
      "Cell \u001b[1;32mIn[2], line 1\u001b[0m\n\u001b[1;32m----> 1\u001b[0m aspirelist\n",
      "\u001b[1;31mNameError\u001b[0m: name 'aspirelist' is not defined"
     ]
    }
   ],
   "source": [
    "aspirelist"
   ]
  },
  {
   "cell_type": "code",
   "execution_count": 72,
   "id": "40aeacf1-5850-4975-96af-269ad63e1d19",
   "metadata": {},
   "outputs": [
    {
     "data": {
      "text/plain": [
       "['sofware developer',\n",
       " 'ganesh',\n",
       " 'ganesh',\n",
       " 2,\n",
       " 'python',\n",
       " 'alteryx',\n",
       " 'html',\n",
       " 'css',\n",
       " 'data structures']"
      ]
     },
     "execution_count": 72,
     "metadata": {},
     "output_type": "execute_result"
    }
   ],
   "source": [
    "newlist"
   ]
  },
  {
   "cell_type": "code",
   "execution_count": 76,
   "id": "1f713382-ee47-4a4d-a4be-d92977567076",
   "metadata": {},
   "outputs": [
    {
     "data": {
      "text/plain": [
       "2"
      ]
     },
     "execution_count": 76,
     "metadata": {},
     "output_type": "execute_result"
    }
   ],
   "source": [
    "aspirelist.count('ganesh')"
   ]
  },
  {
   "cell_type": "code",
   "execution_count": 77,
   "id": "30d91443-124e-4883-ad18-ad7a97b3a34d",
   "metadata": {},
   "outputs": [
    {
     "ename": "TypeError",
     "evalue": "'<' not supported between instances of 'int' and 'str'",
     "output_type": "error",
     "traceback": [
      "\u001b[1;31m---------------------------------------------------------------------------\u001b[0m",
      "\u001b[1;31mTypeError\u001b[0m                                 Traceback (most recent call last)",
      "Cell \u001b[1;32mIn[77], line 1\u001b[0m\n\u001b[1;32m----> 1\u001b[0m aspirelist\u001b[38;5;241m.\u001b[39msort()\n",
      "\u001b[1;31mTypeError\u001b[0m: '<' not supported between instances of 'int' and 'str'"
     ]
    }
   ],
   "source": [
    "aspirelist.sort()"
   ]
  },
  {
   "cell_type": "code",
   "execution_count": 1,
   "id": "72d02246-0970-492c-926e-9fa0e3b71032",
   "metadata": {},
   "outputs": [
    {
     "ename": "NameError",
     "evalue": "name 'aspirelist' is not defined",
     "output_type": "error",
     "traceback": [
      "\u001b[1;31m---------------------------------------------------------------------------\u001b[0m",
      "\u001b[1;31mNameError\u001b[0m                                 Traceback (most recent call last)",
      "Cell \u001b[1;32mIn[1], line 1\u001b[0m\n\u001b[1;32m----> 1\u001b[0m aspirelist\n",
      "\u001b[1;31mNameError\u001b[0m: name 'aspirelist' is not defined"
     ]
    }
   ],
   "source": [
    "aspirelist"
   ]
  },
  {
   "cell_type": "code",
   "execution_count": 4,
   "id": "a7a39f9d-7116-4b44-83ac-8450d640211a",
   "metadata": {},
   "outputs": [
    {
     "data": {
      "text/plain": [
       "['sofware developer',\n",
       " 'python',\n",
       " 'alteryx',\n",
       " 'html',\n",
       " 'css',\n",
       " 'data structures',\n",
       " 'Software Development engineer role']"
      ]
     },
     "execution_count": 4,
     "metadata": {},
     "output_type": "execute_result"
    }
   ],
   "source": [
    "aspirelist+['Software Development engineer role']"
   ]
  },
  {
   "cell_type": "code",
   "execution_count": 6,
   "id": "f9098d57-1702-4c45-833f-fc41931a1cb2",
   "metadata": {},
   "outputs": [
    {
     "data": {
      "text/plain": [
       "['sofware developer', 'python', 'alteryx', 'html', 'css', 'data structures']"
      ]
     },
     "execution_count": 6,
     "metadata": {},
     "output_type": "execute_result"
    }
   ],
   "source": [
    "aspirelist#concatination doesn't change original list"
   ]
  },
  {
   "cell_type": "code",
   "execution_count": 7,
   "id": "77cb4a62-bd11-4132-b23e-0f1f360635fb",
   "metadata": {},
   "outputs": [
    {
     "data": {
      "text/plain": [
       "['sofware developer',\n",
       " 'python',\n",
       " 'alteryx',\n",
       " 'html',\n",
       " 'css',\n",
       " 'data structures',\n",
       " 'sofware developer',\n",
       " 'python',\n",
       " 'alteryx',\n",
       " 'html',\n",
       " 'css',\n",
       " 'data structures',\n",
       " 'sofware developer',\n",
       " 'python',\n",
       " 'alteryx',\n",
       " 'html',\n",
       " 'css',\n",
       " 'data structures']"
      ]
     },
     "execution_count": 7,
     "metadata": {},
     "output_type": "execute_result"
    }
   ],
   "source": [
    "aspirelist*3"
   ]
  },
  {
   "cell_type": "code",
   "execution_count": 8,
   "id": "9615f0a5-b222-4bb3-826e-1465bb36ad8d",
   "metadata": {},
   "outputs": [],
   "source": [
    "#multiplication doesn't change original list"
   ]
  },
  {
   "cell_type": "code",
   "execution_count": 9,
   "id": "f44f856b-0d73-47e7-a0f5-8fff113be0c4",
   "metadata": {},
   "outputs": [
    {
     "data": {
      "text/plain": [
       "['sofware developer', 'python', 'alteryx', 'html', 'css', 'data structures']"
      ]
     },
     "execution_count": 9,
     "metadata": {},
     "output_type": "execute_result"
    }
   ],
   "source": [
    "aspirelist"
   ]
  },
  {
   "cell_type": "code",
   "execution_count": 10,
   "id": "f7f641b1-89fd-48ed-8852-7b7302a8808f",
   "metadata": {},
   "outputs": [],
   "source": [
    "#append method to permanently add an item to the end of a list:"
   ]
  },
  {
   "cell_type": "code",
   "execution_count": 11,
   "id": "ae564de2-9279-4725-ad0c-cd28a33a25c4",
   "metadata": {},
   "outputs": [
    {
     "ename": "IndexError",
     "evalue": "list index out of range",
     "output_type": "error",
     "traceback": [
      "\u001b[1;31m---------------------------------------------------------------------------\u001b[0m",
      "\u001b[1;31mIndexError\u001b[0m                                Traceback (most recent call last)",
      "Cell \u001b[1;32mIn[11], line 1\u001b[0m\n\u001b[1;32m----> 1\u001b[0m aspirelist[\u001b[38;5;241m40\u001b[39m]\n",
      "\u001b[1;31mIndexError\u001b[0m: list index out of range"
     ]
    }
   ],
   "source": [
    "aspirelist[40]"
   ]
  },
  {
   "cell_type": "code",
   "execution_count": 12,
   "id": "981bd0bd-a1b3-4feb-bd06-4e6dcfba96d7",
   "metadata": {},
   "outputs": [],
   "source": [
    "l1=['software developer role',1202.2024]"
   ]
  },
  {
   "cell_type": "code",
   "execution_count": 13,
   "id": "7788971b-9780-4700-842b-4b392780e359",
   "metadata": {},
   "outputs": [],
   "source": [
    "l2=['python','3004.2024']"
   ]
  },
  {
   "cell_type": "code",
   "execution_count": 23,
   "id": "48a96e9c-4bdf-42dc-b422-6ee734b528d3",
   "metadata": {},
   "outputs": [],
   "source": [
    "l3=['ganapati bappa','fill yourself with more skills and awareness']"
   ]
  },
  {
   "cell_type": "code",
   "execution_count": 24,
   "id": "fe2542e8-26b1-4aa7-9a41-1a6ace43cd20",
   "metadata": {},
   "outputs": [],
   "source": [
    "Burningdesire=[l3,l2,l1]"
   ]
  },
  {
   "cell_type": "code",
   "execution_count": 16,
   "id": "2b381c91-5099-45fe-8f52-f6888faff85c",
   "metadata": {},
   "outputs": [
    {
     "data": {
      "text/plain": [
       "[['fill yourself with more skills and awareness'],\n",
       " ['python', '3004.2024'],\n",
       " ['software developer role', 1202.2024]]"
      ]
     },
     "execution_count": 16,
     "metadata": {},
     "output_type": "execute_result"
    }
   ],
   "source": [
    "Burningdesire"
   ]
  },
  {
   "cell_type": "code",
   "execution_count": 17,
   "id": "2db6c4f0-93a9-4185-8ca2-c6cb9a91cbf0",
   "metadata": {},
   "outputs": [
    {
     "data": {
      "text/plain": [
       "['software developer role', 1202.2024]"
      ]
     },
     "execution_count": 17,
     "metadata": {},
     "output_type": "execute_result"
    }
   ],
   "source": [
    "Burningdesire[2]"
   ]
  },
  {
   "cell_type": "code",
   "execution_count": 18,
   "id": "b7f82962-dc1a-4709-86c8-36aa78cafd6b",
   "metadata": {},
   "outputs": [
    {
     "data": {
      "text/plain": [
       "'software developer role'"
      ]
     },
     "execution_count": 18,
     "metadata": {},
     "output_type": "execute_result"
    }
   ],
   "source": [
    "Burningdesire[2][0]"
   ]
  },
  {
   "cell_type": "code",
   "execution_count": 19,
   "id": "72472ccd-f27f-4608-9055-3054b3a0ece8",
   "metadata": {},
   "outputs": [],
   "source": [
    "#list comprehensions - quick construction of lists"
   ]
  },
  {
   "cell_type": "code",
   "execution_count": 20,
   "id": "36b33eed-67ba-4f48-b4bf-b5c2b4a0579c",
   "metadata": {},
   "outputs": [],
   "source": [
    "ganeshlist=[row[0] for row in Burningdesire]"
   ]
  },
  {
   "cell_type": "code",
   "execution_count": 21,
   "id": "3495fab8-6f76-4231-9cea-438546b1378e",
   "metadata": {},
   "outputs": [
    {
     "data": {
      "text/plain": [
       "['fill yourself with more skills and awareness',\n",
       " 'python',\n",
       " 'software developer role']"
      ]
     },
     "execution_count": 21,
     "metadata": {},
     "output_type": "execute_result"
    }
   ],
   "source": [
    "ganeshlist"
   ]
  },
  {
   "cell_type": "code",
   "execution_count": 25,
   "id": "d7f43138-67de-4b4a-983f-bf8a24ea3164",
   "metadata": {},
   "outputs": [],
   "source": [
    "ganeshlist=[row[1] for row in Burningdesire]"
   ]
  },
  {
   "cell_type": "code",
   "execution_count": 26,
   "id": "0b123819-0675-47f1-8528-366eef04f5fd",
   "metadata": {},
   "outputs": [
    {
     "data": {
      "text/plain": [
       "['fill yourself with more skills and awareness', '3004.2024', 1202.2024]"
      ]
     },
     "execution_count": 26,
     "metadata": {},
     "output_type": "execute_result"
    }
   ],
   "source": [
    "ganeshlist"
   ]
  },
  {
   "cell_type": "markdown",
   "id": "bc44a83c-8e65-4088-a65f-2525595a8708",
   "metadata": {},
   "source": []
  }
 ],
 "metadata": {
  "kernelspec": {
   "display_name": "Python 3 (ipykernel)",
   "language": "python",
   "name": "python3"
  },
  "language_info": {
   "codemirror_mode": {
    "name": "ipython",
    "version": 3
   },
   "file_extension": ".py",
   "mimetype": "text/x-python",
   "name": "python",
   "nbconvert_exporter": "python",
   "pygments_lexer": "ipython3",
   "version": "3.11.7"
  }
 },
 "nbformat": 4,
 "nbformat_minor": 5
}
