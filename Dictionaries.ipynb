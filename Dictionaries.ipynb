{
 "cells": [
  {
   "cell_type": "markdown",
   "id": "ef05b31c-662d-47a8-80cd-f350c8f19cd4",
   "metadata": {},
   "source": [
    "Dictionaries are unordered mappings for sorting objects.sorting means arranging data in an order.\n",
    "\n",
    "unordered mappings means? key-value pair mapping.\n",
    "\n",
    ". Dictionaries use a key-value pairing.\n",
    "\n",
    ".objects can be grabbed using key value pair. just call a key it will return value assosiated with the key.\n",
    "syntax - {'key1':'value1','key2':'value2'}\n",
    "\n",
    "dictionaries are unordered and cannot be sorted\n",
    "\n",
    "use dictionary to retrieve a value without needing to know it's exact index location.\n",
    "\n",
    "but in lists using variables values can be assined a retrieved what's the special advantage of dictionary? got it unordered but sequence of values/multiple related values can be stored in a single variable/dictionary without order and the values can be retrieved and operations can be performed on them.\n",
    "\n",
    "don't need to know where something is in the actual dictionary to call it. just need to know the key valuepair.so dictionaries can't be sorted/indexed/sliced"
   ]
  },
  {
   "cell_type": "code",
   "execution_count": 1,
   "id": "5b3b50f2-d145-4151-8add-b7ae7bf8cff9",
   "metadata": {},
   "outputs": [],
   "source": [
    "#construct a dictionary"
   ]
  },
  {
   "cell_type": "code",
   "execution_count": 2,
   "id": "63191e8d-52da-4884-9aeb-8d646e343108",
   "metadata": {},
   "outputs": [],
   "source": [
    "dict1={'key1':'value1','key2':'value2'}"
   ]
  },
  {
   "cell_type": "code",
   "execution_count": 3,
   "id": "53bd4f54-c9a0-4d80-a536-b246f7f121be",
   "metadata": {},
   "outputs": [
    {
     "data": {
      "text/plain": [
       "'value2'"
      ]
     },
     "execution_count": 3,
     "metadata": {},
     "output_type": "execute_result"
    }
   ],
   "source": [
    "dict1['key2']"
   ]
  },
  {
   "cell_type": "code",
   "execution_count": 4,
   "id": "d32fe38a-14a0-4981-919e-390bce168068",
   "metadata": {},
   "outputs": [],
   "source": [
    "dict1={'role':'software developer','roledate':0212.2024,'course':'python','coursefinishdate':3004.2024}"
   ]
  },
  {
   "cell_type": "code",
   "execution_count": 5,
   "id": "dc9c85e5-2dbf-4679-a80e-dd3308cce6b3",
   "metadata": {},
   "outputs": [
    {
     "data": {
      "text/plain": [
       "212.2024"
      ]
     },
     "execution_count": 5,
     "metadata": {},
     "output_type": "execute_result"
    }
   ],
   "source": [
    "dict1['roledate']"
   ]
  },
  {
   "cell_type": "code",
   "execution_count": 4,
   "id": "315c7735-5389-4c17-983f-d270750a64fe",
   "metadata": {},
   "outputs": [],
   "source": [
    "dict2={'k1':1202.2024,'k2':[1,2],'k3':{'1':1,'2':'b'}}"
   ]
  },
  {
   "cell_type": "code",
   "execution_count": 6,
   "id": "c95342f5-3203-40ed-bf73-7672f88efc1e",
   "metadata": {},
   "outputs": [
    {
     "data": {
      "text/plain": [
       "2"
      ]
     },
     "execution_count": 6,
     "metadata": {},
     "output_type": "execute_result"
    }
   ],
   "source": [
    "dict2['k2'][1]"
   ]
  },
  {
   "cell_type": "code",
   "execution_count": 8,
   "id": "a05baccd-4ca0-40dd-bc7e-019b8628738f",
   "metadata": {},
   "outputs": [],
   "source": [
    "omdict={'k1':['developer role','jai sri ram',1202.2024]}"
   ]
  },
  {
   "cell_type": "code",
   "execution_count": 15,
   "id": "11288f29-bb6f-46be-bd26-a4416acbd6e4",
   "metadata": {},
   "outputs": [
    {
     "data": {
      "text/plain": [
       "'JAI SRI RAM'"
      ]
     },
     "execution_count": 15,
     "metadata": {},
     "output_type": "execute_result"
    }
   ],
   "source": [
    "omdict['k1'][1].upper()"
   ]
  },
  {
   "cell_type": "code",
   "execution_count": 9,
   "id": "2372385f-ff0a-4855-b8ec-55219e6157e0",
   "metadata": {},
   "outputs": [],
   "source": [
    "listh=omdict['k1']"
   ]
  },
  {
   "cell_type": "code",
   "execution_count": 10,
   "id": "81338612-4e35-48bf-bdd3-53a2771bc4c0",
   "metadata": {},
   "outputs": [
    {
     "data": {
      "text/plain": [
       "['developer role', 'jai sri ram', 1202.2024]"
      ]
     },
     "execution_count": 10,
     "metadata": {},
     "output_type": "execute_result"
    }
   ],
   "source": [
    "listh"
   ]
  },
  {
   "cell_type": "code",
   "execution_count": 12,
   "id": "4066c2d6-515d-42b7-b5fa-0843d97cf9a8",
   "metadata": {},
   "outputs": [],
   "source": [
    "Power=listh[1]"
   ]
  },
  {
   "cell_type": "code",
   "execution_count": 13,
   "id": "d7fe6cfe-6808-41f2-ac81-98ee1ba52c84",
   "metadata": {},
   "outputs": [
    {
     "data": {
      "text/plain": [
       "'jai sri ram'"
      ]
     },
     "execution_count": 13,
     "metadata": {},
     "output_type": "execute_result"
    }
   ],
   "source": [
    "Power"
   ]
  },
  {
   "cell_type": "code",
   "execution_count": 14,
   "id": "52361b03-8d51-4afd-81ca-54cb49f481cf",
   "metadata": {},
   "outputs": [
    {
     "data": {
      "text/plain": [
       "'JAI SRI RAM'"
      ]
     },
     "execution_count": 14,
     "metadata": {},
     "output_type": "execute_result"
    }
   ],
   "source": [
    "Power.upper()"
   ]
  },
  {
   "cell_type": "code",
   "execution_count": 24,
   "id": "718fec42-382e-472d-afae-69763adc27de",
   "metadata": {},
   "outputs": [],
   "source": [
    "omdict['k2']={'first step','python',3004.2024}"
   ]
  },
  {
   "cell_type": "code",
   "execution_count": 25,
   "id": "84a99883-fdde-4fcd-8e93-96300b110d5c",
   "metadata": {},
   "outputs": [
    {
     "data": {
      "text/plain": [
       "{'k1': ['developer role', 'jai sri ram', 1202.2024],\n",
       " 'k2': {3004.2024, 'first step', 'python'}}"
      ]
     },
     "execution_count": 25,
     "metadata": {},
     "output_type": "execute_result"
    }
   ],
   "source": [
    "omdict"
   ]
  },
  {
   "cell_type": "code",
   "execution_count": 27,
   "id": "2997b8f2-cad0-4639-8b9d-9096caa8176c",
   "metadata": {},
   "outputs": [],
   "source": [
    "omdict['k2']=['first step','python',3004.2024]"
   ]
  },
  {
   "cell_type": "code",
   "execution_count": 28,
   "id": "8376f027-897d-4598-9bc3-a0ed98ea8dd5",
   "metadata": {},
   "outputs": [
    {
     "data": {
      "text/plain": [
       "{'k1': ['developer role', 'jai sri ram', 1202.2024],\n",
       " 'k2': ['first step', 'python', 3004.2024]}"
      ]
     },
     "execution_count": 28,
     "metadata": {},
     "output_type": "execute_result"
    }
   ],
   "source": [
    "omdict"
   ]
  },
  {
   "cell_type": "code",
   "execution_count": 30,
   "id": "98572b32-ac41-4678-88ec-4843d18d7a50",
   "metadata": {},
   "outputs": [],
   "source": [
    "omdict['k2']='Amma'"
   ]
  },
  {
   "cell_type": "code",
   "execution_count": 31,
   "id": "b0c849fe-934c-4a7f-85ac-bdd5907a189c",
   "metadata": {},
   "outputs": [
    {
     "data": {
      "text/plain": [
       "{'k1': ['developer role', 'jai sri ram', 1202.2024], 'k2': 'Amma'}"
      ]
     },
     "execution_count": 31,
     "metadata": {},
     "output_type": "execute_result"
    }
   ],
   "source": [
    "omdict"
   ]
  },
  {
   "cell_type": "code",
   "execution_count": 33,
   "id": "ce25ee78-4e56-4e33-93ea-27e9cbea7748",
   "metadata": {},
   "outputs": [
    {
     "data": {
      "text/plain": [
       "dict_keys(['k1', 'k2'])"
      ]
     },
     "execution_count": 33,
     "metadata": {},
     "output_type": "execute_result"
    }
   ],
   "source": [
    "omdict.keys()"
   ]
  },
  {
   "cell_type": "code",
   "execution_count": 34,
   "id": "a888db84-1d68-4a63-9f0f-1f765a096a8a",
   "metadata": {},
   "outputs": [
    {
     "data": {
      "text/plain": [
       "dict_values([['developer role', 'jai sri ram', 1202.2024], 'Amma'])"
      ]
     },
     "execution_count": 34,
     "metadata": {},
     "output_type": "execute_result"
    }
   ],
   "source": [
    "omdict.values()"
   ]
  },
  {
   "cell_type": "code",
   "execution_count": 35,
   "id": "896e65f9-a1c9-4113-bf05-1b03f9f88372",
   "metadata": {},
   "outputs": [
    {
     "data": {
      "text/plain": [
       "dict_items([('k1', ['developer role', 'jai sri ram', 1202.2024]), ('k2', 'Amma')])"
      ]
     },
     "execution_count": 35,
     "metadata": {},
     "output_type": "execute_result"
    }
   ],
   "source": [
    "omdict.items()"
   ]
  },
  {
   "cell_type": "code",
   "execution_count": 7,
   "id": "b8ac886e-7aa9-4f7a-ba42-41b1a1821bd5",
   "metadata": {},
   "outputs": [],
   "source": [
    "dict1={'k1':3004.2024}"
   ]
  },
  {
   "cell_type": "code",
   "execution_count": 8,
   "id": "7096fdf4-a4f7-4264-a0c5-c069e6f5155d",
   "metadata": {},
   "outputs": [
    {
     "data": {
      "text/plain": [
       "1802.0000000000002"
      ]
     },
     "execution_count": 8,
     "metadata": {},
     "output_type": "execute_result"
    }
   ],
   "source": [
    "dict1['k1']-1202.2024"
   ]
  },
  {
   "cell_type": "code",
   "execution_count": 9,
   "id": "3ab2a066-10b1-4433-a8d2-15185803acac",
   "metadata": {},
   "outputs": [
    {
     "data": {
      "text/plain": [
       "{'k1': 3004.2024}"
      ]
     },
     "execution_count": 9,
     "metadata": {},
     "output_type": "execute_result"
    }
   ],
   "source": [
    "dict1"
   ]
  },
  {
   "cell_type": "code",
   "execution_count": 10,
   "id": "8c5b0044-53a8-4c6a-8d98-ee2ce2baad60",
   "metadata": {},
   "outputs": [],
   "source": [
    "dict1['k1']+=1202.2024"
   ]
  },
  {
   "cell_type": "code",
   "execution_count": 12,
   "id": "85902f2b-14ec-4640-bf8d-9f82938888c1",
   "metadata": {},
   "outputs": [
    {
     "data": {
      "text/plain": [
       "{'k1': 4206.4048}"
      ]
     },
     "execution_count": 12,
     "metadata": {},
     "output_type": "execute_result"
    }
   ],
   "source": [
    "dict1"
   ]
  },
  {
   "cell_type": "code",
   "execution_count": 13,
   "id": "c43a0985-5393-4ebc-98e3-1b0a4a57b4b7",
   "metadata": {},
   "outputs": [],
   "source": [
    "dict1['k1']-=4206.4049"
   ]
  },
  {
   "cell_type": "code",
   "execution_count": 14,
   "id": "2f2abf4b-4b02-4545-88e6-ab729d416f4f",
   "metadata": {},
   "outputs": [
    {
     "data": {
      "text/plain": [
       "{'k1': -0.00010000000020227162}"
      ]
     },
     "execution_count": 14,
     "metadata": {},
     "output_type": "execute_result"
    }
   ],
   "source": [
    "dict1"
   ]
  },
  {
   "cell_type": "code",
   "execution_count": 15,
   "id": "32971623-df69-4955-ac79-f2634e01f439",
   "metadata": {},
   "outputs": [],
   "source": [
    "dict2={}"
   ]
  },
  {
   "cell_type": "code",
   "execution_count": 17,
   "id": "a48b9d8d-f5d4-458f-8049-3a953f7b52a9",
   "metadata": {},
   "outputs": [],
   "source": [
    "dict2['role']='software developer lahari'"
   ]
  },
  {
   "cell_type": "code",
   "execution_count": 18,
   "id": "9fb8f876-a357-4b13-8185-dffecdaf90d6",
   "metadata": {},
   "outputs": [],
   "source": [
    "dict2['launchdate']=1202.2024"
   ]
  },
  {
   "cell_type": "code",
   "execution_count": 19,
   "id": "84c754cd-4d98-42eb-bd02-78ffa949eb4c",
   "metadata": {},
   "outputs": [
    {
     "data": {
      "text/plain": [
       "{'role': 'software developer lahari', 'launchdate': 1202.2024}"
      ]
     },
     "execution_count": 19,
     "metadata": {},
     "output_type": "execute_result"
    }
   ],
   "source": [
    "dict2"
   ]
  },
  {
   "cell_type": "markdown",
   "id": "1d7ea30b-430f-4fdc-b41e-0ded7edabda5",
   "metadata": {},
   "source": [
    "dict3={'ok1':{},'ok2':{}}"
   ]
  },
  {
   "cell_type": "code",
   "execution_count": 20,
   "id": "babb5a7d-ff75-44fc-a43f-6dccd7fc5a26",
   "metadata": {},
   "outputs": [],
   "source": [
    "dict3={'ok1':{'i1k1':{'ink1':'Software development engineer'}},'ok2':{'i2k1':{'ink2':1202.2024}}}"
   ]
  },
  {
   "cell_type": "code",
   "execution_count": 24,
   "id": "3457afd9-3694-4038-8c68-9d573576b32f",
   "metadata": {},
   "outputs": [
    {
     "data": {
      "text/plain": [
       "'Software development engineer'"
      ]
     },
     "execution_count": 24,
     "metadata": {},
     "output_type": "execute_result"
    }
   ],
   "source": [
    "dict3['ok1']['i1k1']['ink1']"
   ]
  },
  {
   "cell_type": "code",
   "execution_count": 26,
   "id": "eea8f950-4874-4ed5-941c-d1705914b133",
   "metadata": {},
   "outputs": [],
   "source": [
    "dict10={'1':'python','2':'software developer'}"
   ]
  },
  {
   "cell_type": "code",
   "execution_count": 27,
   "id": "b6d958ed-efda-4af3-a5e1-046c9d98045f",
   "metadata": {},
   "outputs": [
    {
     "data": {
      "text/plain": [
       "{'1': 'python', '2': 'software developer'}"
      ]
     },
     "execution_count": 27,
     "metadata": {},
     "output_type": "execute_result"
    }
   ],
   "source": [
    "dict10"
   ]
  },
  {
   "cell_type": "code",
   "execution_count": 28,
   "id": "4ba69f47-cb40-42bf-9f3b-a80ee077ac09",
   "metadata": {},
   "outputs": [],
   "source": [
    "l1=['software','development','engineer']"
   ]
  },
  {
   "cell_type": "code",
   "execution_count": null,
   "id": "0ff5f0af-a4f5-407b-a736-bd3ce874c099",
   "metadata": {},
   "outputs": [],
   "source": []
  }
 ],
 "metadata": {
  "kernelspec": {
   "display_name": "Python 3 (ipykernel)",
   "language": "python",
   "name": "python3"
  },
  "language_info": {
   "codemirror_mode": {
    "name": "ipython",
    "version": 3
   },
   "file_extension": ".py",
   "mimetype": "text/x-python",
   "name": "python",
   "nbconvert_exporter": "python",
   "pygments_lexer": "ipython3",
   "version": "3.11.7"
  }
 },
 "nbformat": 4,
 "nbformat_minor": 5
}
