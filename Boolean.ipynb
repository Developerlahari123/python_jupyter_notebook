{
 "cells": [
  {
   "cell_type": "code",
   "execution_count": 12,
   "id": "01397713-1581-4a90-98fc-6ff441e4acda",
   "metadata": {},
   "outputs": [],
   "source": [
    "#Python comes with Booleans (with predefined True and False displays that are basically just the integers 1 and 0)"
   ]
  },
  {
   "cell_type": "code",
   "execution_count": 2,
   "id": "b49e1c7e-6a0a-4f6a-8f45-bb573dde7853",
   "metadata": {},
   "outputs": [],
   "source": [
    "#True or False"
   ]
  },
  {
   "cell_type": "code",
   "execution_count": 3,
   "id": "1eba6405-32b8-41ac-b2cf-41f4c655e1ae",
   "metadata": {},
   "outputs": [
    {
     "data": {
      "text/plain": [
       "True"
      ]
     },
     "execution_count": 3,
     "metadata": {},
     "output_type": "execute_result"
    }
   ],
   "source": [
    "True or False"
   ]
  },
  {
   "cell_type": "code",
   "execution_count": 4,
   "id": "056dc723-e9fd-47ce-a7b1-4cecb861b14a",
   "metadata": {},
   "outputs": [
    {
     "data": {
      "text/plain": [
       "bool"
      ]
     },
     "execution_count": 4,
     "metadata": {},
     "output_type": "execute_result"
    }
   ],
   "source": [
    "type(True)"
   ]
  },
  {
   "cell_type": "code",
   "execution_count": 5,
   "id": "d19a19a9-0b9f-403d-afc0-de0b27f9e345",
   "metadata": {},
   "outputs": [
    {
     "data": {
      "text/plain": [
       "False"
      ]
     },
     "execution_count": 5,
     "metadata": {},
     "output_type": "execute_result"
    }
   ],
   "source": [
    "5>9"
   ]
  },
  {
   "cell_type": "code",
   "execution_count": 6,
   "id": "f642243e-f215-4252-963a-6985c0496f7b",
   "metadata": {},
   "outputs": [
    {
     "data": {
      "text/plain": [
       "True"
      ]
     },
     "execution_count": 6,
     "metadata": {},
     "output_type": "execute_result"
    }
   ],
   "source": [
    "9==9"
   ]
  },
  {
   "cell_type": "code",
   "execution_count": 7,
   "id": "8cfe4628-1a0a-44db-bfd5-20b6a348bf02",
   "metadata": {},
   "outputs": [],
   "source": [
    "#when we want to define a variable later in the code we can use None "
   ]
  },
  {
   "cell_type": "code",
   "execution_count": 9,
   "id": "b9c53d06-8f75-41ef-8f28-88890954b490",
   "metadata": {},
   "outputs": [
    {
     "ename": "NameError",
     "evalue": "name 'python' is not defined",
     "output_type": "error",
     "traceback": [
      "\u001b[1;31m---------------------------------------------------------------------------\u001b[0m",
      "\u001b[1;31mNameError\u001b[0m                                 Traceback (most recent call last)",
      "Cell \u001b[1;32mIn[9], line 1\u001b[0m\n\u001b[1;32m----> 1\u001b[0m python\n",
      "\u001b[1;31mNameError\u001b[0m: name 'python' is not defined"
     ]
    }
   ],
   "source": [
    "python"
   ]
  },
  {
   "cell_type": "code",
   "execution_count": 10,
   "id": "fd1990b2-35f1-4fec-8511-ab6a150646f0",
   "metadata": {},
   "outputs": [],
   "source": [
    "python = None"
   ]
  },
  {
   "cell_type": "code",
   "execution_count": 11,
   "id": "8d74c0a3-75ad-4ad6-be7c-0fbfcba49833",
   "metadata": {},
   "outputs": [
    {
     "data": {
      "text/plain": [
       "NoneType"
      ]
     },
     "execution_count": 11,
     "metadata": {},
     "output_type": "execute_result"
    }
   ],
   "source": [
    "type(python)"
   ]
  },
  {
   "cell_type": "code",
   "execution_count": null,
   "id": "b40f72aa-1941-49d6-939a-6609e96ffd9b",
   "metadata": {},
   "outputs": [],
   "source": []
  }
 ],
 "metadata": {
  "kernelspec": {
   "display_name": "Python 3 (ipykernel)",
   "language": "python",
   "name": "python3"
  },
  "language_info": {
   "codemirror_mode": {
    "name": "ipython",
    "version": 3
   },
   "file_extension": ".py",
   "mimetype": "text/x-python",
   "name": "python",
   "nbconvert_exporter": "python",
   "pygments_lexer": "ipython3",
   "version": "3.11.7"
  }
 },
 "nbformat": 4,
 "nbformat_minor": 5
}
