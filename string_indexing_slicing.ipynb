{
 "cells": [
  {
   "cell_type": "code",
   "execution_count": 4,
   "id": "c78a754b-4b7a-44e7-839e-cd936c201bd7",
   "metadata": {},
   "outputs": [],
   "source": [
    "#string[start:end:step]"
   ]
  },
  {
   "cell_type": "code",
   "execution_count": 1,
   "id": "94495978-e639-42e8-9805-d8a571719ee9",
   "metadata": {},
   "outputs": [
    {
     "data": {
      "text/plain": [
       "'Lahari will definitely become a \"software developer\"'"
      ]
     },
     "execution_count": 1,
     "metadata": {},
     "output_type": "execute_result"
    }
   ],
   "source": [
    "'Lahari will definitely become a \"software developer\"'"
   ]
  },
  {
   "cell_type": "code",
   "execution_count": 2,
   "id": "efa76920-53dc-4caa-b5ca-d0e2703aa199",
   "metadata": {},
   "outputs": [],
   "source": [
    "g='Lahari will definitely become a \"software developer\"'"
   ]
  },
  {
   "cell_type": "code",
   "execution_count": 3,
   "id": "7a54066b-f5f1-4594-a310-9e16ea02bbd5",
   "metadata": {},
   "outputs": [
    {
     "name": "stdout",
     "output_type": "stream",
     "text": [
      "Lahari will definitely become a \"software developer\"\n"
     ]
    }
   ],
   "source": [
    "print(g)"
   ]
  },
  {
   "cell_type": "code",
   "execution_count": 4,
   "id": "ad206194-cf4c-4526-9415-48b3ae04298f",
   "metadata": {},
   "outputs": [
    {
     "data": {
      "text/plain": [
       "'L'"
      ]
     },
     "execution_count": 4,
     "metadata": {},
     "output_type": "execute_result"
    }
   ],
   "source": [
    "g[0]"
   ]
  },
  {
   "cell_type": "code",
   "execution_count": 5,
   "id": "7b7183bc-5faf-4433-bb95-1e88011f3907",
   "metadata": {},
   "outputs": [
    {
     "data": {
      "text/plain": [
       "'\"'"
      ]
     },
     "execution_count": 5,
     "metadata": {},
     "output_type": "execute_result"
    }
   ],
   "source": [
    "g[-1]"
   ]
  },
  {
   "cell_type": "code",
   "execution_count": 6,
   "id": "dcb73000-0d08-4f6c-905f-db6488c89cc0",
   "metadata": {},
   "outputs": [
    {
     "data": {
      "text/plain": [
       "'r'"
      ]
     },
     "execution_count": 6,
     "metadata": {},
     "output_type": "execute_result"
    }
   ],
   "source": [
    "g[-2]"
   ]
  },
  {
   "cell_type": "code",
   "execution_count": 36,
   "id": "67473a5c-e51d-4157-8a51-ff463b276419",
   "metadata": {},
   "outputs": [
    {
     "data": {
      "text/plain": [
       "52"
      ]
     },
     "execution_count": 36,
     "metadata": {},
     "output_type": "execute_result"
    }
   ],
   "source": [
    "len(g)"
   ]
  },
  {
   "cell_type": "code",
   "execution_count": 48,
   "id": "3be3f163-b161-440f-8768-ec14844b115a",
   "metadata": {},
   "outputs": [
    {
     "name": "stdout",
     "output_type": "stream",
     "text": [
      "Le\n"
     ]
    }
   ],
   "source": [
    "print(g[0:-1:49])"
   ]
  },
  {
   "cell_type": "code",
   "execution_count": 47,
   "id": "c061f1d6-5005-4bc9-b34c-dd89f172bb7b",
   "metadata": {},
   "outputs": [
    {
     "name": "stdout",
     "output_type": "stream",
     "text": [
      "Lr\n"
     ]
    }
   ],
   "source": [
    "print(g[0:-1:50])"
   ]
  },
  {
   "cell_type": "code",
   "execution_count": 46,
   "id": "6a07e342-77d3-4e2b-b9cb-de89d8671e69",
   "metadata": {},
   "outputs": [
    {
     "name": "stdout",
     "output_type": "stream",
     "text": [
      "L\n"
     ]
    }
   ],
   "source": [
    "print(g[0:-1:51])"
   ]
  },
  {
   "cell_type": "code",
   "execution_count": 42,
   "id": "3f73f128-bcd7-4ac4-870e-57a3e403d3ed",
   "metadata": {},
   "outputs": [
    {
     "name": "stdout",
     "output_type": "stream",
     "text": [
      "L\n"
     ]
    }
   ],
   "source": [
    "print(g[0:-1:52])"
   ]
  },
  {
   "cell_type": "code",
   "execution_count": 49,
   "id": "309b7c8f-6f2d-40bf-b707-8ee61312b017",
   "metadata": {},
   "outputs": [
    {
     "name": "stdout",
     "output_type": "stream",
     "text": [
      "L\n"
     ]
    }
   ],
   "source": [
    "print(g[0:10:12])"
   ]
  },
  {
   "cell_type": "code",
   "execution_count": 52,
   "id": "2cd6fcb5-e05f-4222-bd3b-4c8f9dba5732",
   "metadata": {},
   "outputs": [
    {
     "name": "stdout",
     "output_type": "stream",
     "text": [
      "Ll\n"
     ]
    }
   ],
   "source": [
    "print(g[0:10:9])"
   ]
  },
  {
   "cell_type": "code",
   "execution_count": 50,
   "id": "6e612cdc-cf0e-4c12-aee2-d6074720093d",
   "metadata": {},
   "outputs": [
    {
     "name": "stdout",
     "output_type": "stream",
     "text": [
      "Lahari wil\n"
     ]
    }
   ],
   "source": [
    "print(g[0:10])"
   ]
  },
  {
   "cell_type": "code",
   "execution_count": 43,
   "id": "56376c58-6713-4cfe-ad2c-5161664f6f4e",
   "metadata": {},
   "outputs": [
    {
     "name": "stdout",
     "output_type": "stream",
     "text": [
      "L\n"
     ]
    }
   ],
   "source": [
    "print(g[0:1])"
   ]
  },
  {
   "cell_type": "code",
   "execution_count": 38,
   "id": "d4a3a62e-844f-43ce-88de-9a46f55b3f47",
   "metadata": {},
   "outputs": [
    {
     "name": "stdout",
     "output_type": "stream",
     "text": [
      "Lahari will definitely become a \"software developer\n"
     ]
    }
   ],
   "source": [
    "print(g[0:-1])"
   ]
  },
  {
   "cell_type": "code",
   "execution_count": 53,
   "id": "5779b247-8b55-4c39-b9b8-83ad11bec145",
   "metadata": {},
   "outputs": [
    {
     "name": "stdout",
     "output_type": "stream",
     "text": [
      "\"\n"
     ]
    }
   ],
   "source": [
    "print(g[-1::])"
   ]
  },
  {
   "cell_type": "code",
   "execution_count": 57,
   "id": "a4ce7f9d-8c13-4ff5-a8d9-3039bf3cd0fa",
   "metadata": {},
   "outputs": [
    {
     "name": "stdout",
     "output_type": "stream",
     "text": [
      "r\"\n"
     ]
    }
   ],
   "source": [
    "print(g[-2::])"
   ]
  },
  {
   "cell_type": "code",
   "execution_count": 58,
   "id": "c77c3822-9b0f-449c-a9cb-e7bc204f5baf",
   "metadata": {},
   "outputs": [
    {
     "name": "stdout",
     "output_type": "stream",
     "text": [
      "Lahari will definitely become a \"software developer\"\n"
     ]
    }
   ],
   "source": [
    "print(g[0::])"
   ]
  },
  {
   "cell_type": "code",
   "execution_count": 59,
   "id": "1a918fa4-2981-4d56-bf21-001f259f27e7",
   "metadata": {},
   "outputs": [
    {
     "name": "stdout",
     "output_type": "stream",
     "text": [
      "Lahari will \n"
     ]
    }
   ],
   "source": [
    "print(g[0:12:])"
   ]
  },
  {
   "cell_type": "code",
   "execution_count": 60,
   "id": "de7b407f-8105-4009-9357-7c2bd0ee1b42",
   "metadata": {},
   "outputs": [
    {
     "name": "stdout",
     "output_type": "stream",
     "text": [
      "La l\n"
     ]
    }
   ],
   "source": [
    "print(g[0:12:3])"
   ]
  },
  {
   "cell_type": "markdown",
   "id": "95c9a718-d85f-40ce-9607-83223119339f",
   "metadata": {},
   "source": [
    "String slicing in Python allows you to extract a substring from a string by specifying a start index, an end index (exclusive), and an optional step size. Here is a breakdown of the components of string slicing:\r\n",
    "\r\n",
    "Start Index: The position in the string where the slice begins. It is included in the slice if positive or counted from the end of the string if negative.\r\n",
    "\r\n",
    "End Index (Exclusive): The position in the string where the slice ends. This index is excluded from the slice. If omitted, the slice will go to the end of the string.\r\n",
    "\r\n",
    "Step Size (Optional): The increment used to select elements from the string. It determines how many characters to skip between each selected character. If not specified, the default step size is 1.\r\n",
    "\r\n",
    "The syntax for string slicing is string[start:end:step]."
   ]
  },
  {
   "cell_type": "code",
   "execution_count": 61,
   "id": "d83cba1f-f0f6-4a1c-be97-8d5523dcfa56",
   "metadata": {},
   "outputs": [],
   "source": [
    "L=\"software developer\""
   ]
  },
  {
   "cell_type": "code",
   "execution_count": 62,
   "id": "1bd7ed0d-2773-48ce-8ac3-dc4a25dc6e73",
   "metadata": {},
   "outputs": [
    {
     "name": "stdout",
     "output_type": "stream",
     "text": [
      "software developer\n"
     ]
    }
   ],
   "source": [
    "print(L[::])"
   ]
  },
  {
   "cell_type": "code",
   "execution_count": 66,
   "id": "15202909-0c8d-425f-93d6-77907ffcc7ee",
   "metadata": {},
   "outputs": [
    {
     "name": "stdout",
     "output_type": "stream",
     "text": [
      "per\n"
     ]
    }
   ],
   "source": [
    "print(L[-3::])"
   ]
  },
  {
   "cell_type": "code",
   "execution_count": 65,
   "id": "32357c91-182d-461f-a3a4-c8fe40bc0c74",
   "metadata": {},
   "outputs": [
    {
     "name": "stdout",
     "output_type": "stream",
     "text": [
      "er\n"
     ]
    }
   ],
   "source": [
    "print(L[-2::])"
   ]
  },
  {
   "cell_type": "code",
   "execution_count": 67,
   "id": "a98fa3c1-aaff-4807-818b-026b2bda21ec",
   "metadata": {},
   "outputs": [
    {
     "name": "stdout",
     "output_type": "stream",
     "text": [
      "oftware developer\n"
     ]
    }
   ],
   "source": [
    "print(L[1::])"
   ]
  },
  {
   "cell_type": "code",
   "execution_count": 64,
   "id": "2a2e302a-59f6-4b26-8154-dc067191a2bd",
   "metadata": {},
   "outputs": [
    {
     "name": "stdout",
     "output_type": "stream",
     "text": [
      "r\n"
     ]
    }
   ],
   "source": [
    "print(L[-1::])"
   ]
  },
  {
   "cell_type": "code",
   "execution_count": 63,
   "id": "0fec0a48-5bee-492c-b89b-349ff37526e4",
   "metadata": {},
   "outputs": [
    {
     "name": "stdout",
     "output_type": "stream",
     "text": [
      "software developer\n"
     ]
    }
   ],
   "source": [
    "print(L[0::])"
   ]
  },
  {
   "cell_type": "code",
   "execution_count": 69,
   "id": "9f4bc18b-290d-4233-938a-c4670fcdc52f",
   "metadata": {},
   "outputs": [
    {
     "name": "stdout",
     "output_type": "stream",
     "text": [
      "software \n"
     ]
    }
   ],
   "source": [
    "print(L[0:9:])"
   ]
  },
  {
   "cell_type": "code",
   "execution_count": 70,
   "id": "e1f0b1f7-df45-40c8-852b-201f7c90aeb9",
   "metadata": {},
   "outputs": [
    {
     "name": "stdout",
     "output_type": "stream",
     "text": [
      "sfwr \n"
     ]
    }
   ],
   "source": [
    "print(L[0:9:2])"
   ]
  },
  {
   "cell_type": "code",
   "execution_count": 71,
   "id": "14e92a5b-e559-4221-b06a-8fd4f322632e",
   "metadata": {},
   "outputs": [
    {
     "name": "stdout",
     "output_type": "stream",
     "text": [
      "software develope\n"
     ]
    }
   ],
   "source": [
    "print(L[0:-1:])"
   ]
  },
  {
   "cell_type": "code",
   "execution_count": 73,
   "id": "0eb3e9c0-df3a-47d8-8c3c-5cdf317f0d33",
   "metadata": {},
   "outputs": [
    {
     "data": {
      "text/plain": [
       "17"
      ]
     },
     "execution_count": 73,
     "metadata": {},
     "output_type": "execute_result"
    }
   ],
   "source": [
    "len(L[0:-1:])"
   ]
  },
  {
   "cell_type": "code",
   "execution_count": 72,
   "id": "b56816af-e9d1-49b1-a695-57e557df5909",
   "metadata": {},
   "outputs": [
    {
     "name": "stdout",
     "output_type": "stream",
     "text": [
      "sfwr eeoe\n"
     ]
    }
   ],
   "source": [
    "print(L[0:-1:2])"
   ]
  },
  {
   "cell_type": "code",
   "execution_count": 76,
   "id": "cafe1d8d-0f1e-4e98-b06c-7d0ca724c38a",
   "metadata": {},
   "outputs": [],
   "source": [
    "h=\"Developer\""
   ]
  },
  {
   "cell_type": "code",
   "execution_count": 77,
   "id": "fe4ba283-9e96-4123-8239-34854ebf80a3",
   "metadata": {},
   "outputs": [
    {
     "data": {
      "text/plain": [
       "9"
      ]
     },
     "execution_count": 77,
     "metadata": {},
     "output_type": "execute_result"
    }
   ],
   "source": [
    "len(h)"
   ]
  },
  {
   "cell_type": "code",
   "execution_count": 78,
   "id": "44f5f0ae-70c6-4cc4-9862-7844c3995b9e",
   "metadata": {},
   "outputs": [
    {
     "name": "stdout",
     "output_type": "stream",
     "text": [
      "Develope\n"
     ]
    }
   ],
   "source": [
    "print(h[0:-1:])"
   ]
  },
  {
   "cell_type": "code",
   "execution_count": 79,
   "id": "e99ff8fc-ab40-47e8-b657-245dc22b8535",
   "metadata": {},
   "outputs": [
    {
     "name": "stdout",
     "output_type": "stream",
     "text": [
      "D\n"
     ]
    }
   ],
   "source": [
    "print(h[0:-1:9])"
   ]
  },
  {
   "cell_type": "code",
   "execution_count": 80,
   "id": "944f8901-2e0c-4347-820b-f341fa33c75e",
   "metadata": {},
   "outputs": [
    {
     "name": "stdout",
     "output_type": "stream",
     "text": [
      "D\n"
     ]
    }
   ],
   "source": [
    "print(h[0:-1:8])"
   ]
  },
  {
   "cell_type": "code",
   "execution_count": 81,
   "id": "37c1c634-fff7-4295-b0c6-be14be0ce800",
   "metadata": {},
   "outputs": [
    {
     "name": "stdout",
     "output_type": "stream",
     "text": [
      "De\n"
     ]
    }
   ],
   "source": [
    "print(h[0:-1:7])"
   ]
  },
  {
   "cell_type": "code",
   "execution_count": 82,
   "id": "07ec25e1-1316-46d8-add4-e5313a656465",
   "metadata": {},
   "outputs": [
    {
     "name": "stdout",
     "output_type": "stream",
     "text": [
      "Dp\n"
     ]
    }
   ],
   "source": [
    "print(h[0:-1:6])"
   ]
  },
  {
   "cell_type": "code",
   "execution_count": 87,
   "id": "9268e94f-21fd-4cab-8a1c-6eb163c65a41",
   "metadata": {},
   "outputs": [
    {
     "name": "stdout",
     "output_type": "stream",
     "text": [
      "Develope\n"
     ]
    }
   ],
   "source": [
    "print(h[0:8:])"
   ]
  },
  {
   "cell_type": "code",
   "execution_count": 86,
   "id": "6b856b9c-f74a-4b1c-b664-f8f60f2bd72f",
   "metadata": {},
   "outputs": [
    {
     "name": "stdout",
     "output_type": "stream",
     "text": [
      "Developer\n"
     ]
    }
   ],
   "source": [
    "print(h[0:9:])"
   ]
  },
  {
   "cell_type": "code",
   "execution_count": 88,
   "id": "a0bbed55-633f-4566-b56f-89d0fca0ec89",
   "metadata": {},
   "outputs": [
    {
     "name": "stdout",
     "output_type": "stream",
     "text": [
      "D\n"
     ]
    }
   ],
   "source": [
    "print(h[0:9:10])"
   ]
  },
  {
   "cell_type": "code",
   "execution_count": 89,
   "id": "80b5bc6c-c1d9-4809-8b9c-9516cc53b8a5",
   "metadata": {},
   "outputs": [
    {
     "name": "stdout",
     "output_type": "stream",
     "text": [
      "Dr\n"
     ]
    }
   ],
   "source": [
    "print(h[0:9:8])"
   ]
  },
  {
   "cell_type": "code",
   "execution_count": 90,
   "id": "7493909f-ed26-45b3-b03e-31d842e4e5db",
   "metadata": {},
   "outputs": [
    {
     "name": "stdout",
     "output_type": "stream",
     "text": [
      "De\n"
     ]
    }
   ],
   "source": [
    "print(h[0:9:7])"
   ]
  },
  {
   "cell_type": "code",
   "execution_count": 91,
   "id": "43458230-6312-4e02-956c-14c974a1e0de",
   "metadata": {},
   "outputs": [
    {
     "name": "stdout",
     "output_type": "stream",
     "text": [
      "Developer\n"
     ]
    }
   ],
   "source": [
    "print(h[0::])"
   ]
  },
  {
   "cell_type": "code",
   "execution_count": 92,
   "id": "69b66a32-1f7c-43e3-b939-6807b870b9c5",
   "metadata": {},
   "outputs": [
    {
     "name": "stdout",
     "output_type": "stream",
     "text": [
      "\n"
     ]
    }
   ],
   "source": [
    "print(h[:0:])"
   ]
  },
  {
   "cell_type": "code",
   "execution_count": 93,
   "id": "29d696e8-2c02-45e1-955e-4224ce007ed2",
   "metadata": {},
   "outputs": [
    {
     "name": "stdout",
     "output_type": "stream",
     "text": [
      "D\n"
     ]
    }
   ],
   "source": [
    "print(h[:1:])"
   ]
  },
  {
   "cell_type": "code",
   "execution_count": 94,
   "id": "d92db6af-c51f-4bc3-aab4-29335dde5b9d",
   "metadata": {},
   "outputs": [
    {
     "name": "stdout",
     "output_type": "stream",
     "text": [
      "De\n"
     ]
    }
   ],
   "source": [
    "print(h[:2:])"
   ]
  },
  {
   "cell_type": "code",
   "execution_count": 95,
   "id": "5b8f721c-ffb5-4b65-b584-562dfaf7ac35",
   "metadata": {},
   "outputs": [
    {
     "name": "stdout",
     "output_type": "stream",
     "text": [
      "Develope\n"
     ]
    }
   ],
   "source": [
    "print(h[:-1:])"
   ]
  },
  {
   "cell_type": "code",
   "execution_count": 96,
   "id": "d5025ebb-1c5f-4750-94ec-07a66e55efc1",
   "metadata": {},
   "outputs": [
    {
     "name": "stdout",
     "output_type": "stream",
     "text": [
      "r\n"
     ]
    }
   ],
   "source": [
    "print(h[-1::])"
   ]
  },
  {
   "cell_type": "code",
   "execution_count": 97,
   "id": "54409cab-5201-49ea-9bcd-459e651ba1ba",
   "metadata": {},
   "outputs": [
    {
     "name": "stdout",
     "output_type": "stream",
     "text": [
      "Develop\n"
     ]
    }
   ],
   "source": [
    "print(h[:-2:])"
   ]
  },
  {
   "cell_type": "code",
   "execution_count": 99,
   "id": "13ad6479-07f7-40ac-9bad-d0330bee9772",
   "metadata": {},
   "outputs": [
    {
     "name": "stdout",
     "output_type": "stream",
     "text": [
      "er\n"
     ]
    }
   ],
   "source": [
    "print(h[-2::])"
   ]
  },
  {
   "cell_type": "code",
   "execution_count": 100,
   "id": "56160379-e4f8-4bc9-b907-6dba2ef7c034",
   "metadata": {},
   "outputs": [
    {
     "name": "stdout",
     "output_type": "stream",
     "text": [
      "Dvlpr\n"
     ]
    }
   ],
   "source": [
    "print(h[::2])"
   ]
  },
  {
   "cell_type": "code",
   "execution_count": 101,
   "id": "1fac9764-f9fc-48e5-abc2-d311be60aab5",
   "metadata": {},
   "outputs": [
    {
     "name": "stdout",
     "output_type": "stream",
     "text": [
      "Dlr\n"
     ]
    }
   ],
   "source": [
    "print(h[::4])"
   ]
  },
  {
   "cell_type": "code",
   "execution_count": 102,
   "id": "a53e1f7f-ad45-4098-bfc8-1ffa27c0b538",
   "metadata": {},
   "outputs": [
    {
     "name": "stdout",
     "output_type": "stream",
     "text": [
      "Developer\n"
     ]
    }
   ],
   "source": [
    "print(h[::])"
   ]
  },
  {
   "cell_type": "code",
   "execution_count": 103,
   "id": "c0200cb4-9fde-4493-a8fe-d66c4edddc32",
   "metadata": {},
   "outputs": [
    {
     "name": "stdout",
     "output_type": "stream",
     "text": [
      "repoleveD\n"
     ]
    }
   ],
   "source": [
    "print(h[::-1])"
   ]
  },
  {
   "cell_type": "code",
   "execution_count": 104,
   "id": "057e2042-2af2-4251-ab03-8591a09aaf60",
   "metadata": {},
   "outputs": [
    {
     "name": "stdout",
     "output_type": "stream",
     "text": [
      "rplvD\n"
     ]
    }
   ],
   "source": [
    "print(h[::-2])"
   ]
  },
  {
   "cell_type": "code",
   "execution_count": 105,
   "id": "c1c07528-89fc-417f-9627-07e8d310e018",
   "metadata": {},
   "outputs": [
    {
     "name": "stdout",
     "output_type": "stream",
     "text": [
      "rov\n"
     ]
    }
   ],
   "source": [
    "print(h[::-3])"
   ]
  },
  {
   "cell_type": "code",
   "execution_count": 106,
   "id": "113688da-1ad0-48d6-8482-35be91f56322",
   "metadata": {},
   "outputs": [
    {
     "name": "stdout",
     "output_type": "stream",
     "text": [
      "p\n"
     ]
    }
   ],
   "source": [
    "print(h[-3])"
   ]
  },
  {
   "cell_type": "code",
   "execution_count": 107,
   "id": "afcdb96b-df47-4df7-a096-e8e498da3c6d",
   "metadata": {},
   "outputs": [
    {
     "name": "stdout",
     "output_type": "stream",
     "text": [
      "e\n"
     ]
    }
   ],
   "source": [
    "print(h[-2])"
   ]
  },
  {
   "cell_type": "code",
   "execution_count": 108,
   "id": "427e5f5f-2cff-4cb6-9b48-129999dbfbbb",
   "metadata": {},
   "outputs": [
    {
     "name": "stdout",
     "output_type": "stream",
     "text": [
      "r\n"
     ]
    }
   ],
   "source": [
    "print(h[-1])"
   ]
  },
  {
   "cell_type": "code",
   "execution_count": 109,
   "id": "cab8f423-36be-403e-93db-7e36dd6087ea",
   "metadata": {},
   "outputs": [
    {
     "name": "stdout",
     "output_type": "stream",
     "text": [
      "D\n"
     ]
    }
   ],
   "source": [
    "print(h[0])"
   ]
  },
  {
   "cell_type": "code",
   "execution_count": 110,
   "id": "e8fb9bc7-ccc2-4593-82b7-54e083465a5e",
   "metadata": {},
   "outputs": [
    {
     "name": "stdout",
     "output_type": "stream",
     "text": [
      "e\n"
     ]
    }
   ],
   "source": [
    "print(h[1])"
   ]
  },
  {
   "cell_type": "code",
   "execution_count": 1,
   "id": "a4c82b89-42a9-4355-b0ed-1362ddb29d22",
   "metadata": {},
   "outputs": [
    {
     "data": {
      "text/plain": [
       "'r'"
      ]
     },
     "execution_count": 1,
     "metadata": {},
     "output_type": "execute_result"
    }
   ],
   "source": [
    "'Hello World'[8]"
   ]
  },
  {
   "cell_type": "code",
   "execution_count": 2,
   "id": "05b6456a-86eb-42ac-8451-b251d8be676d",
   "metadata": {},
   "outputs": [
    {
     "data": {
      "text/plain": [
       "'e'"
      ]
     },
     "execution_count": 2,
     "metadata": {},
     "output_type": "execute_result"
    }
   ],
   "source": [
    "'ganesh'[3]"
   ]
  },
  {
   "cell_type": "code",
   "execution_count": 1,
   "id": "df70d84f-5172-40a3-90df-9705bfb96986",
   "metadata": {},
   "outputs": [],
   "source": [
    "g='ganapati bappa'"
   ]
  },
  {
   "cell_type": "code",
   "execution_count": 3,
   "id": "3c4585d5-075b-4849-a2b3-d82d7cb0a877",
   "metadata": {},
   "outputs": [
    {
     "data": {
      "text/plain": [
       "'a'"
      ]
     },
     "execution_count": 3,
     "metadata": {},
     "output_type": "execute_result"
    }
   ],
   "source": [
    "g[-1:]"
   ]
  },
  {
   "cell_type": "code",
   "execution_count": 12,
   "id": "e55925b6-61df-4719-9026-8d4c65064112",
   "metadata": {},
   "outputs": [
    {
     "data": {
      "text/plain": [
       "'ganapati bapp'"
      ]
     },
     "execution_count": 12,
     "metadata": {},
     "output_type": "execute_result"
    }
   ],
   "source": [
    "g[:-1]"
   ]
  },
  {
   "cell_type": "code",
   "execution_count": 5,
   "id": "16f453ca-2069-48a1-8316-b95e8c39913d",
   "metadata": {},
   "outputs": [
    {
     "data": {
      "text/plain": [
       "'pa'"
      ]
     },
     "execution_count": 5,
     "metadata": {},
     "output_type": "execute_result"
    }
   ],
   "source": [
    "g[-2:]"
   ]
  },
  {
   "cell_type": "code",
   "execution_count": 8,
   "id": "5047b11e-e11b-43eb-8fe4-711d81dde0f6",
   "metadata": {},
   "outputs": [
    {
     "data": {
      "text/plain": [
       "'ppa'"
      ]
     },
     "execution_count": 8,
     "metadata": {},
     "output_type": "execute_result"
    }
   ],
   "source": [
    "g[-3:]"
   ]
  },
  {
   "cell_type": "code",
   "execution_count": 11,
   "id": "a4df4e4d-2b5f-4f7e-9949-07144736734d",
   "metadata": {},
   "outputs": [
    {
     "data": {
      "text/plain": [
       "'ganapati bappa'"
      ]
     },
     "execution_count": 11,
     "metadata": {},
     "output_type": "execute_result"
    }
   ],
   "source": [
    "g[:]"
   ]
  },
  {
   "cell_type": "code",
   "execution_count": null,
   "id": "1e88f1ae-fe3d-455d-96dd-e65b443e2798",
   "metadata": {},
   "outputs": [],
   "source": []
  }
 ],
 "metadata": {
  "kernelspec": {
   "display_name": "Python 3 (ipykernel)",
   "language": "python",
   "name": "python3"
  },
  "language_info": {
   "codemirror_mode": {
    "name": "ipython",
    "version": 3
   },
   "file_extension": ".py",
   "mimetype": "text/x-python",
   "name": "python",
   "nbconvert_exporter": "python",
   "pygments_lexer": "ipython3",
   "version": "3.11.7"
  }
 },
 "nbformat": 4,
 "nbformat_minor": 5
}
