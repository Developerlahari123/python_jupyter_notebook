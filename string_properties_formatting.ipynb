{
 "cells": [
  {
   "cell_type": "markdown",
   "id": "e17cdee9-302f-4b47-a969-98cd6e3c1683",
   "metadata": {},
   "source": [
    "Immutability"
   ]
  },
  {
   "cell_type": "code",
   "execution_count": 2,
   "id": "1688624f-97ee-49de-adce-7db0724ccace",
   "metadata": {},
   "outputs": [],
   "source": [
    "n='ganesh'"
   ]
  },
  {
   "cell_type": "code",
   "execution_count": 3,
   "id": "070ef7a9-aaea-4c32-b736-b3f1ac9a8711",
   "metadata": {},
   "outputs": [],
   "source": [
    "n='python'"
   ]
  },
  {
   "cell_type": "code",
   "execution_count": 4,
   "id": "16bfbd9f-299e-4a33-8ee4-9f138f3affd8",
   "metadata": {},
   "outputs": [
    {
     "name": "stdout",
     "output_type": "stream",
     "text": [
      "python\n"
     ]
    }
   ],
   "source": [
    "print(n)"
   ]
  },
  {
   "cell_type": "code",
   "execution_count": 27,
   "id": "f3140c06-c3e7-434b-945b-87584c51871f",
   "metadata": {},
   "outputs": [],
   "source": [
    "#n[3]='o'"
   ]
  },
  {
   "cell_type": "code",
   "execution_count": 7,
   "id": "9be24e42-7545-47e1-960d-9565ca1b559c",
   "metadata": {},
   "outputs": [],
   "source": [
    "L='mpytkhonc'"
   ]
  },
  {
   "cell_type": "code",
   "execution_count": 9,
   "id": "936e4109-b67f-4176-ac07-2aab93326d30",
   "metadata": {},
   "outputs": [
    {
     "data": {
      "text/plain": [
       "'pytkhonc'"
      ]
     },
     "execution_count": 9,
     "metadata": {},
     "output_type": "execute_result"
    }
   ],
   "source": [
    "L[1::]"
   ]
  },
  {
   "cell_type": "code",
   "execution_count": 10,
   "id": "4ad0638f-a0d4-4386-988b-6bae6d0f8c32",
   "metadata": {},
   "outputs": [
    {
     "name": "stdout",
     "output_type": "stream",
     "text": [
      "mpytkhonc\n"
     ]
    }
   ],
   "source": [
    "print(L)"
   ]
  },
  {
   "cell_type": "code",
   "execution_count": 11,
   "id": "dff092e4-abbe-4ebd-b00b-d250b31a5d12",
   "metadata": {},
   "outputs": [
    {
     "data": {
      "text/plain": [
       "'pyt'"
      ]
     },
     "execution_count": 11,
     "metadata": {},
     "output_type": "execute_result"
    }
   ],
   "source": [
    "L[1:4:]"
   ]
  },
  {
   "cell_type": "code",
   "execution_count": 18,
   "id": "723f66f2-2098-4d01-b489-8030d9664785",
   "metadata": {},
   "outputs": [
    {
     "data": {
      "text/plain": [
       "'hon'"
      ]
     },
     "execution_count": 18,
     "metadata": {},
     "output_type": "execute_result"
    }
   ],
   "source": [
    "L[5:8:]"
   ]
  },
  {
   "cell_type": "markdown",
   "id": "9b3fd327-d26e-4f4e-8725-1abfeb607662",
   "metadata": {},
   "source": [
    "concatination"
   ]
  },
  {
   "cell_type": "code",
   "execution_count": 14,
   "id": "2b4bc474-1053-465f-8039-6d5eebcd2b80",
   "metadata": {},
   "outputs": [],
   "source": [
    "new=L[1:4:]+L[5:8:]"
   ]
  },
  {
   "cell_type": "code",
   "execution_count": 38,
   "id": "c5cf5818-bd3d-45fa-8c33-61fe60884d25",
   "metadata": {},
   "outputs": [
    {
     "name": "stdout",
     "output_type": "stream",
     "text": [
      "pythonpythonpythonpythonpython\n"
     ]
    }
   ],
   "source": [
    "print(new*5)"
   ]
  },
  {
   "cell_type": "code",
   "execution_count": 16,
   "id": "fd47b3da-d0fb-480d-b244-0a4356a03225",
   "metadata": {},
   "outputs": [],
   "source": [
    "n=L[1:4:]"
   ]
  },
  {
   "cell_type": "code",
   "execution_count": 17,
   "id": "8a7d75bd-a673-42d2-a10a-12ea812c0ab5",
   "metadata": {},
   "outputs": [
    {
     "name": "stdout",
     "output_type": "stream",
     "text": [
      "pyt\n"
     ]
    }
   ],
   "source": [
    "print(n)"
   ]
  },
  {
   "cell_type": "code",
   "execution_count": 21,
   "id": "34ab5ef7-3ee2-466a-8ac4-40bcbd68f60e",
   "metadata": {},
   "outputs": [],
   "source": [
    "#n[1]=h"
   ]
  },
  {
   "cell_type": "code",
   "execution_count": 34,
   "id": "70143f22-893b-44d1-9b59-f3922d9894a6",
   "metadata": {},
   "outputs": [],
   "source": [
    "role='developer'"
   ]
  },
  {
   "cell_type": "code",
   "execution_count": 25,
   "id": "af3758f5-5b9c-4253-b040-571f09237580",
   "metadata": {},
   "outputs": [],
   "source": [
    "designation='software '+role"
   ]
  },
  {
   "cell_type": "code",
   "execution_count": 26,
   "id": "9aa63ec0-f413-4ec5-8fdf-68ce613857c1",
   "metadata": {},
   "outputs": [
    {
     "name": "stdout",
     "output_type": "stream",
     "text": [
      "software developer\n"
     ]
    }
   ],
   "source": [
    "print(designation)"
   ]
  },
  {
   "cell_type": "code",
   "execution_count": 36,
   "id": "3fdd32b9-95b9-49d8-848b-78f88a4d1167",
   "metadata": {},
   "outputs": [],
   "source": [
    "#role='software '+role"
   ]
  },
  {
   "cell_type": "code",
   "execution_count": 35,
   "id": "3542720c-45b0-4a88-96d3-2ef41d1fcc3d",
   "metadata": {},
   "outputs": [
    {
     "name": "stdout",
     "output_type": "stream",
     "text": [
      "developer\n"
     ]
    }
   ],
   "source": [
    "print(role)"
   ]
  },
  {
   "cell_type": "code",
   "execution_count": 37,
   "id": "a04af899-d84a-4b1a-84c6-fae81cbb074c",
   "metadata": {},
   "outputs": [
    {
     "name": "stdout",
     "output_type": "stream",
     "text": [
      "software developersoftware developersoftware developersoftware developersoftware developersoftware developersoftware developersoftware developersoftware developersoftware developer\n"
     ]
    }
   ],
   "source": [
    "print(designation*10)"
   ]
  },
  {
   "cell_type": "code",
   "execution_count": 39,
   "id": "44c4817e-9604-4e0d-ac10-4ad70218ae11",
   "metadata": {},
   "outputs": [
    {
     "data": {
      "text/plain": [
       "'56'"
      ]
     },
     "execution_count": 39,
     "metadata": {},
     "output_type": "execute_result"
    }
   ],
   "source": [
    "'5'+'6'"
   ]
  },
  {
   "cell_type": "code",
   "execution_count": 40,
   "id": "79c00652-a9d8-4d08-b6cb-36f2bfabd224",
   "metadata": {},
   "outputs": [
    {
     "data": {
      "text/plain": [
       "11"
      ]
     },
     "execution_count": 40,
     "metadata": {},
     "output_type": "execute_result"
    }
   ],
   "source": [
    "5+6"
   ]
  },
  {
   "cell_type": "code",
   "execution_count": 43,
   "id": "4e3b244c-e361-4442-8b63-96c7bc8db490",
   "metadata": {},
   "outputs": [
    {
     "data": {
      "text/plain": [
       "'DEVELOPER'"
      ]
     },
     "execution_count": 43,
     "metadata": {},
     "output_type": "execute_result"
    }
   ],
   "source": [
    "role.upper()"
   ]
  },
  {
   "cell_type": "code",
   "execution_count": 44,
   "id": "6b64a761-1ed9-43b8-ac6c-c8bb9a99f2d3",
   "metadata": {},
   "outputs": [
    {
     "data": {
      "text/plain": [
       "'developer'"
      ]
     },
     "execution_count": 44,
     "metadata": {},
     "output_type": "execute_result"
    }
   ],
   "source": [
    "role.lower()"
   ]
  },
  {
   "cell_type": "code",
   "execution_count": 46,
   "id": "c78f4ee5-09aa-4565-b3a8-97ef08f2d50a",
   "metadata": {},
   "outputs": [
    {
     "data": {
      "text/plain": [
       "['software', 'developer']"
      ]
     },
     "execution_count": 46,
     "metadata": {},
     "output_type": "execute_result"
    }
   ],
   "source": [
    "designation.split()"
   ]
  },
  {
   "cell_type": "code",
   "execution_count": 48,
   "id": "695d3314-ac0f-4ef9-adad-74177c7bdf9d",
   "metadata": {},
   "outputs": [
    {
     "data": {
      "text/plain": [
       "['softwar', ' d', 'v', 'lop', 'r']"
      ]
     },
     "execution_count": 48,
     "metadata": {},
     "output_type": "execute_result"
    }
   ],
   "source": [
    "designation.split('e')"
   ]
  },
  {
   "cell_type": "code",
   "execution_count": 50,
   "id": "f2146a7a-2ccb-4ada-9841-cf80d7883c80",
   "metadata": {},
   "outputs": [
    {
     "name": "stdout",
     "output_type": "stream",
     "text": [
      "software developer\n"
     ]
    }
   ],
   "source": [
    "print('software '+role) "
   ]
  },
  {
   "cell_type": "code",
   "execution_count": 51,
   "id": "8c2b7ad5-8ec1-4698-b865-2de18e7f049d",
   "metadata": {},
   "outputs": [],
   "source": [
    "#string interpolation - string formatting"
   ]
  },
  {
   "cell_type": "code",
   "execution_count": 62,
   "id": "2979f523-cce0-404a-8087-0c7ff78b9cde",
   "metadata": {},
   "outputs": [
    {
     "name": "stdout",
     "output_type": "stream",
     "text": [
      "software developer lahari\n"
     ]
    }
   ],
   "source": [
    "print('software developer{}'.format(' lahari'))"
   ]
  },
  {
   "cell_type": "code",
   "execution_count": 1,
   "id": "42fdcc45-85e3-45bf-8958-a2c312ddf6d2",
   "metadata": {},
   "outputs": [],
   "source": [
    "#syntax: 'string{}string{}string{}'.format('a1','a2')"
   ]
  },
  {
   "cell_type": "code",
   "execution_count": 3,
   "id": "0344bd60-07c0-4b21-880c-f6ec520a96be",
   "metadata": {},
   "outputs": [
    {
     "name": "stdout",
     "output_type": "stream",
     "text": [
      "lahari will complete python course\n"
     ]
    }
   ],
   "source": [
    "print('{} {} {}'.format('lahari','will complete','python course'))"
   ]
  },
  {
   "cell_type": "code",
   "execution_count": 5,
   "id": "993ebedd-64e5-417b-830c-4243e45cd120",
   "metadata": {},
   "outputs": [
    {
     "name": "stdout",
     "output_type": "stream",
     "text": [
      "lahari software developer\n"
     ]
    }
   ],
   "source": [
    "print('{2} {0} {1}'.format('software','developer','lahari'))"
   ]
  },
  {
   "cell_type": "code",
   "execution_count": 7,
   "id": "bce57740-00c1-4204-b150-579573ea2b11",
   "metadata": {},
   "outputs": [
    {
     "name": "stdout",
     "output_type": "stream",
     "text": [
      "developer developer developer\n"
     ]
    }
   ],
   "source": [
    "print('{1} {1} {1}'.format('software','developer','lahari'))"
   ]
  },
  {
   "cell_type": "code",
   "execution_count": 15,
   "id": "5d2f0a2e-c2b6-427b-9534-b54f63b12ad7",
   "metadata": {},
   "outputs": [],
   "source": [
    "#assigning string value to keywords/varibales"
   ]
  },
  {
   "cell_type": "code",
   "execution_count": 11,
   "id": "114e46b0-c0e3-4d00-97cc-61294ab584b5",
   "metadata": {},
   "outputs": [
    {
     "name": "stdout",
     "output_type": "stream",
     "text": [
      "software developer lahari\n"
     ]
    }
   ],
   "source": [
    "print('{s} {d} {l}'.format(s='software',l='lahari',d='developer'))"
   ]
  },
  {
   "cell_type": "code",
   "execution_count": 16,
   "id": "2448f279-66fd-4f9d-9bb8-db04075e2474",
   "metadata": {},
   "outputs": [
    {
     "name": "stdout",
     "output_type": "stream",
     "text": [
      "developer developer developer\n"
     ]
    }
   ],
   "source": [
    "print('{d} {d} {d}'.format(s='software',l='lahari',d='developer'))"
   ]
  },
  {
   "cell_type": "code",
   "execution_count": 30,
   "id": "59dd3dd5-ab5b-4ef0-9d95-6368eebfab4a",
   "metadata": {},
   "outputs": [],
   "source": [
    "#flow formatting with .format method to adjust the width & precision of floating point number - \"{value:width.precisionf}\" "
   ]
  },
  {
   "cell_type": "code",
   "execution_count": 21,
   "id": "440baa55-31be-4a72-b186-4400677ac753",
   "metadata": {},
   "outputs": [],
   "source": [
    "output=100/777"
   ]
  },
  {
   "cell_type": "code",
   "execution_count": 22,
   "id": "8429880d-55ef-48c4-a793-4b0eda21b1fb",
   "metadata": {},
   "outputs": [
    {
     "data": {
      "text/plain": [
       "0.1287001287001287"
      ]
     },
     "execution_count": 22,
     "metadata": {},
     "output_type": "execute_result"
    }
   ],
   "source": [
    "output"
   ]
  },
  {
   "cell_type": "code",
   "execution_count": 37,
   "id": "b5eb1605-315c-4e73-9c94-577fe28ecb30",
   "metadata": {},
   "outputs": [
    {
     "name": "stdout",
     "output_type": "stream",
     "text": [
      "result is 0.12870\n"
     ]
    }
   ],
   "source": [
    "print('result is {o:1.5f}'.format(o=output))"
   ]
  },
  {
   "cell_type": "code",
   "execution_count": 42,
   "id": "7b1c2bc7-f0b5-48da-a450-9ddb23196087",
   "metadata": {},
   "outputs": [],
   "source": [
    "irrational=3/7"
   ]
  },
  {
   "cell_type": "code",
   "execution_count": 48,
   "id": "c5fb6c99-6c61-4f9e-8be1-4b7a5e088261",
   "metadata": {},
   "outputs": [
    {
     "name": "stdout",
     "output_type": "stream",
     "text": [
      "   0.42857\n"
     ]
    }
   ],
   "source": [
    "print('{i:10.5f}'.format(i=irrational))"
   ]
  },
  {
   "cell_type": "code",
   "execution_count": 1,
   "id": "cada5e6f-39c8-4a21-a576-7cbca1f3ff9f",
   "metadata": {},
   "outputs": [],
   "source": [
    "#formatted string literals method to print strings"
   ]
  },
  {
   "cell_type": "code",
   "execution_count": 5,
   "id": "cfba6e5f-75cf-4fde-ba3e-32df28049c50",
   "metadata": {},
   "outputs": [],
   "source": [
    "name1='padmavathi'"
   ]
  },
  {
   "cell_type": "code",
   "execution_count": 7,
   "id": "4fd450bd-f269-43ad-b7b2-5d1135f7a59f",
   "metadata": {},
   "outputs": [
    {
     "name": "stdout",
     "output_type": "stream",
     "text": [
      "padmavathi is a Hindhu deitie\n"
     ]
    }
   ],
   "source": [
    "print(f'{name1} is a Hindhu deitie')"
   ]
  },
  {
   "cell_type": "code",
   "execution_count": 8,
   "id": "06c76c13-afac-4694-89c9-19cdde858eaf",
   "metadata": {},
   "outputs": [],
   "source": [
    "name2='lakshmi'"
   ]
  },
  {
   "cell_type": "code",
   "execution_count": 10,
   "id": "6227ef38-6c8d-4065-88b0-e697ce97b8f6",
   "metadata": {},
   "outputs": [],
   "source": [
    "verb='goddess'"
   ]
  },
  {
   "cell_type": "code",
   "execution_count": 11,
   "id": "9d9e6004-d16a-4cae-8bce-85ab35f0111f",
   "metadata": {},
   "outputs": [
    {
     "name": "stdout",
     "output_type": "stream",
     "text": [
      "lakshmi is a goddess of love and compassion\n"
     ]
    }
   ],
   "source": [
    "print(f'{name2} is a {verb} of love and compassion')"
   ]
  },
  {
   "cell_type": "code",
   "execution_count": 7,
   "id": "173f2461-f138-4f00-ad46-3303da3708cc",
   "metadata": {},
   "outputs": [
    {
     "name": "stdout",
     "output_type": "stream",
     "text": [
      "formatting with placeholders 7 'string\\t' string\t 3.146\n"
     ]
    }
   ],
   "source": [
    "print(\"formatting with placeholders %d %r %s %5.3f\"%(7.89,'string\\t','string\\t',3.14567))"
   ]
  },
  {
   "cell_type": "code",
   "execution_count": 10,
   "id": "3a4e9e74-fc0a-45c5-9f7f-a21b8680859d",
   "metadata": {},
   "outputs": [
    {
     "name": "stdout",
     "output_type": "stream",
     "text": [
      "formatting with placeholders 3 '3.14567\\n' 3.14567\n",
      " 3.146\n"
     ]
    }
   ],
   "source": [
    "print(\"formatting with placeholders %d %r %s %5.3f\"%(3.14567,'3.14567\\n','3.14567\\n',3.14567))"
   ]
  },
  {
   "cell_type": "code",
   "execution_count": 11,
   "id": "ee309d54-3bd3-4549-b06e-827c1a67ee29",
   "metadata": {},
   "outputs": [],
   "source": [
    "dformatvalue=9.875"
   ]
  },
  {
   "cell_type": "code",
   "execution_count": 13,
   "id": "6d7f5d18-0b3e-4172-8b99-0f73c5f0b7da",
   "metadata": {},
   "outputs": [],
   "source": [
    "sformatvalue='sstring'"
   ]
  },
  {
   "cell_type": "code",
   "execution_count": 15,
   "id": "0b27ee23-6ba4-4161-a2f2-bef39cdaac3a",
   "metadata": {},
   "outputs": [
    {
     "name": "stdout",
     "output_type": "stream",
     "text": [
      "9 sstring\n"
     ]
    }
   ],
   "source": [
    "print(\"%d %s\"%(dformatvalue,sformatvalue))"
   ]
  },
  {
   "cell_type": "code",
   "execution_count": 16,
   "id": "0499310e-5ed2-4da7-9326-ccb136edaebe",
   "metadata": {},
   "outputs": [],
   "source": [
    "#.format() method"
   ]
  },
  {
   "cell_type": "code",
   "execution_count": 29,
   "id": "faa04ee1-0216-42c7-b3b8-2365b5391cc8",
   "metadata": {},
   "outputs": [
    {
     "name": "stdout",
     "output_type": "stream",
     "text": [
      "complete python course by 30april2024 in 21days complete\n"
     ]
    }
   ],
   "source": [
    "print(\"{2} {0} {4} {1} {3} {2}\".format('python','by 30april2024','complete','in 21days','course'))"
   ]
  },
  {
   "cell_type": "code",
   "execution_count": 19,
   "id": "449adb3e-06fa-406a-9fde-3f56946091b6",
   "metadata": {},
   "outputs": [],
   "source": [
    "name='lahari'"
   ]
  },
  {
   "cell_type": "code",
   "execution_count": 20,
   "id": "8d2716d9-e85d-4cc7-995d-2c1eb9d5390a",
   "metadata": {},
   "outputs": [],
   "source": [
    "role='software development engineer'"
   ]
  },
  {
   "cell_type": "code",
   "execution_count": 28,
   "id": "00af57e9-7100-43f1-8fc0-961fa5c123c3",
   "metadata": {},
   "outputs": [
    {
     "name": "stdout",
     "output_type": "stream",
     "text": [
      "lahari is software development engineer \tsoftware development engineer\n"
     ]
    }
   ],
   "source": [
    "print(\"{name} is {role} \\t{role}\".format(name='lahari',role='software development engineer'))"
   ]
  },
  {
   "cell_type": "code",
   "execution_count": 31,
   "id": "c1b05729-8a1b-4ed0-8cfa-ee72059acc16",
   "metadata": {},
   "outputs": [],
   "source": [
    "#Alignment, padding and precision with .format()"
   ]
  },
  {
   "cell_type": "code",
   "execution_count": 9,
   "id": "fd1e4a02-ff96-471e-8009-eba6f2755ab6",
   "metadata": {},
   "outputs": [
    {
     "name": "stdout",
     "output_type": "stream",
     "text": [
      "python    | 3004.2024\n"
     ]
    }
   ],
   "source": [
    "print('{0:9} | {1:9}'.format('python',3004.2024)) #by default test is aligned to left and numbers are aligned to right"
   ]
  },
  {
   "cell_type": "code",
   "execution_count": 13,
   "id": "bd1d19c3-2b7a-4bea-b1bc-9c06bf40d22c",
   "metadata": {},
   "outputs": [
    {
     "name": "stdout",
     "output_type": "stream",
     "text": [
      "python       |    3004.2024\n"
     ]
    }
   ],
   "source": [
    "print('{0:12} | {1:12}'.format('python',3004.2024))  #left <   right >   center ^"
   ]
  },
  {
   "cell_type": "code",
   "execution_count": 10,
   "id": "6d5eab61-ba3f-4761-aa56-744400b5a8cb",
   "metadata": {},
   "outputs": [
    {
     "name": "stdout",
     "output_type": "stream",
     "text": [
      "python       | 3004.2024   \n"
     ]
    }
   ],
   "source": [
    "print('{0:>12} | {1:<12}'.format('python',3004.2024))"
   ]
  },
  {
   "cell_type": "code",
   "execution_count": 8,
   "id": "c21ba5cc-7e96-4f47-82ea-864a2c5d33b5",
   "metadata": {},
   "outputs": [
    {
     "name": "stdout",
     "output_type": "stream",
     "text": [
      "   3004.2024 | python      \n"
     ]
    }
   ],
   "source": [
    "print('{1:12} | {0:12}'.format('python',3004.2024))"
   ]
  },
  {
   "cell_type": "code",
   "execution_count": 27,
   "id": "a49505ec-6f9f-4555-8509-462b5c1a8586",
   "metadata": {},
   "outputs": [],
   "source": [
    "course_type='python'"
   ]
  },
  {
   "cell_type": "code",
   "execution_count": 16,
   "id": "4e1bab55-1c05-4e40-9e19-bbc59d500343",
   "metadata": {},
   "outputs": [],
   "source": [
    "targetdate=3004.2024"
   ]
  },
  {
   "cell_type": "code",
   "execution_count": 22,
   "id": "6b35f9b6-f406-4276-8b81-8cbe2ef8f8aa",
   "metadata": {},
   "outputs": [],
   "source": [
    "daysleft=20"
   ]
  },
  {
   "cell_type": "markdown",
   "id": "a0c41436-f226-4ca0-8d3c-904fe96ede9f",
   "metadata": {},
   "source": [
    "#print('{3} {course} by {targetdate} in {daysleft} days'.format(targetdate,daysleft,course_type,'complete')) wrong variables values have to be given\n",
    "format method only"
   ]
  },
  {
   "cell_type": "code",
   "execution_count": 45,
   "id": "67e5831c-19da-4d76-9de3-75d4792e18bf",
   "metadata": {},
   "outputs": [
    {
     "ename": "SyntaxError",
     "evalue": "positional argument follows keyword argument (3848789129.py, line 1)",
     "output_type": "error",
     "traceback": [
      "\u001b[1;36m  Cell \u001b[1;32mIn[45], line 1\u001b[1;36m\u001b[0m\n\u001b[1;33m    print('{0} {course_type} by {targetdate} {4} in {daysleft} days'.format('complete',daysleft=20,targetdate=3004.2024,course_type='python','om'))\u001b[0m\n\u001b[1;37m                                                                                                                                                 ^\u001b[0m\n\u001b[1;31mSyntaxError\u001b[0m\u001b[1;31m:\u001b[0m positional argument follows keyword argument\n"
     ]
    }
   ],
   "source": [
    "print('{0} {course_type} by {targetdate} {4} in {daysleft} days'.format('complete',daysleft=20,targetdate=3004.2024,course_type='python','om'))"
   ]
  },
  {
   "cell_type": "code",
   "execution_count": 66,
   "id": "d96d768c-14cc-47ef-8a94-1865080d6a46",
   "metadata": {},
   "outputs": [
    {
     "name": "stdout",
     "output_type": "stream",
     "text": [
      "complete     python       by =3004.2024== in -----20----- days\n"
     ]
    }
   ],
   "source": [
    "print('{0:12} {course_type:12} by {targetdate:=^12} in {daysleft:-^12} days'.format('complete',daysleft=20,targetdate=3004.2024,course_type='python'))"
   ]
  },
  {
   "cell_type": "code",
   "execution_count": 78,
   "id": "d19db69e-636d-4451-a907-b1fa5272c3ff",
   "metadata": {},
   "outputs": [
    {
     "name": "stdout",
     "output_type": "stream",
     "text": [
      "technology      | ----version----\n",
      "python          | 3.12...........\n",
      "alteryx         | 2023.3---------\n",
      "Informatica     | ===========10.5\n"
     ]
    }
   ],
   "source": [
    "print('{0:15} | {1:-^15}'.format('technology','version'))\n",
    "print('{0:15} | {1:.<15}'.format('python',3.12))\n",
    "print('{0:15} | {1:-<15}'.format('alteryx',2023.3))\n",
    "print('{0:15} | {1:=>15}'.format('Informatica',10.5))"
   ]
  },
  {
   "cell_type": "code",
   "execution_count": 86,
   "id": "78584997-585b-4f62-a968-5bf30c41752a",
   "metadata": {},
   "outputs": [
    {
     "name": "stdout",
     "output_type": "stream",
     "text": [
      "--9.2348--\n"
     ]
    }
   ],
   "source": [
    "print('{:-^10.4f}'.format(009.234766))"
   ]
  },
  {
   "cell_type": "code",
   "execution_count": 87,
   "id": "1f2ee020-e93f-4837-b9fe-34092c7ea9e3",
   "metadata": {},
   "outputs": [],
   "source": [
    "#formatted string literals - fstrings"
   ]
  },
  {
   "cell_type": "code",
   "execution_count": 89,
   "id": "95a867c9-9620-4ea2-af62-769bb4a0b056",
   "metadata": {},
   "outputs": [
    {
     "name": "stdout",
     "output_type": "stream",
     "text": [
      "complete python by 3004.2024 in 20 days\n"
     ]
    }
   ],
   "source": [
    "print(f'complete {course_type} by {targetdate} in {daysleft} days')"
   ]
  },
  {
   "cell_type": "code",
   "execution_count": 95,
   "id": "7c6ecc34-d44c-4e81-aed2-036904017907",
   "metadata": {},
   "outputs": [
    {
     "name": "stdout",
     "output_type": "stream",
     "text": [
      "complete 'python' by 3004.2024 in 20 days\n"
     ]
    }
   ],
   "source": [
    "print(f'complete {course_type!r} by {targetdate} in {daysleft!r} days')"
   ]
  },
  {
   "cell_type": "code",
   "execution_count": 118,
   "id": "82cac56c-22e5-4cdb-aa86-cedacc2bb335",
   "metadata": {},
   "outputs": [],
   "source": [
    "flotnum=9.923344567"
   ]
  },
  {
   "cell_type": "code",
   "execution_count": 101,
   "id": "03d4abde-15ea-42b9-9469-232ba7dcf926",
   "metadata": {},
   "outputs": [
    {
     "name": "stdout",
     "output_type": "stream",
     "text": [
      "9.9233----\n"
     ]
    }
   ],
   "source": [
    "print(f\"{flotnum:-<{10}.{5}}\")"
   ]
  },
  {
   "cell_type": "code",
   "execution_count": 103,
   "id": "9928a9eb-036a-414d-be60-5e8f110448c3",
   "metadata": {},
   "outputs": [
    {
     "name": "stdout",
     "output_type": "stream",
     "text": [
      "9.923344\n"
     ]
    }
   ],
   "source": [
    "print('{flotnum}'.format(flotnum=9.923344))"
   ]
  },
  {
   "cell_type": "code",
   "execution_count": 107,
   "id": "08f91836-9135-4f5b-bfed-6416c4ef9c4f",
   "metadata": {},
   "outputs": [],
   "source": [
    "string2='ganesh_python'"
   ]
  },
  {
   "cell_type": "code",
   "execution_count": 114,
   "id": "35bd68b8-fc63-418f-a9d0-6a7ee9b8a283",
   "metadata": {},
   "outputs": [
    {
     "name": "stdout",
     "output_type": "stream",
     "text": [
      "                ||          9.9233\n"
     ]
    }
   ],
   "source": [
    "print(f\"{string2:{15}.{0}} || {flotnum:{15}.{5}}\")"
   ]
  },
  {
   "cell_type": "code",
   "execution_count": 115,
   "id": "113633ec-8146-4f43-9989-aeb6376c3b29",
   "metadata": {},
   "outputs": [
    {
     "name": "stdout",
     "output_type": "stream",
     "text": [
      "ganesh_pyt      ||          9.9233\n"
     ]
    }
   ],
   "source": [
    "print(f\"{string2:{15}.10} || {flotnum:{15}.{5}}\")"
   ]
  },
  {
   "cell_type": "code",
   "execution_count": 116,
   "id": "a247e7d3-5cde-4a1d-9888-f3e7d443655e",
   "metadata": {},
   "outputs": [
    {
     "name": "stdout",
     "output_type": "stream",
     "text": [
      "ganesh_pyt      ||          9.9233\n"
     ]
    }
   ],
   "source": [
    "print(f\"{string2:{15}.{10}} || {flotnum:{15}.{5}}\")"
   ]
  },
  {
   "cell_type": "code",
   "execution_count": 123,
   "id": "77e485bb-af53-4d73-bcdc-d5ee2d6bdea3",
   "metadata": {},
   "outputs": [
    {
     "name": "stdout",
     "output_type": "stream",
     "text": [
      "-ganesh_python- || 9.9233.........\n"
     ]
    }
   ],
   "source": [
    "print(f\"{string2:-^{15}.{13}} || {flotnum:.<{15}.{5}}\")"
   ]
  },
  {
   "cell_type": "code",
   "execution_count": 125,
   "id": "6b821ef5-11b3-4679-874f-6a4dcef10a0c",
   "metadata": {},
   "outputs": [],
   "source": [
    "flotnum2=9.926"
   ]
  },
  {
   "cell_type": "code",
   "execution_count": 133,
   "id": "f615eac5-b484-41c8-93d9-4d6ed777595e",
   "metadata": {},
   "outputs": [
    {
     "name": "stdout",
     "output_type": "stream",
     "text": [
      "               9.926\n"
     ]
    }
   ],
   "source": [
    "print(f\"{flotnum2:{20}.{10}}\")"
   ]
  },
  {
   "cell_type": "code",
   "execution_count": 141,
   "id": "871f397c-6b55-492d-b54f-f5ead6dfa604",
   "metadata": {},
   "outputs": [
    {
     "name": "stdout",
     "output_type": "stream",
     "text": [
      "9.9260000000||||||||\n"
     ]
    }
   ],
   "source": [
    "print('{flotnum2:|<20.10f}'.format(flotnum2=9.926))"
   ]
  },
  {
   "cell_type": "code",
   "execution_count": 140,
   "id": "403f7d23-41a2-4b2c-af73-03880c9154b9",
   "metadata": {},
   "outputs": [
    {
     "name": "stdout",
     "output_type": "stream",
     "text": [
      "9.9260000000::::::::\n"
     ]
    }
   ],
   "source": [
    "print(f\"{flotnum2::<20.10f}\")"
   ]
  },
  {
   "cell_type": "code",
   "execution_count": 143,
   "id": "548a2218-3a27-4b28-ac90-d0bf45106f77",
   "metadata": {},
   "outputs": [
    {
     "name": "stdout",
     "output_type": "stream",
     "text": [
      ";;;;9.9260000000;;;;\n"
     ]
    }
   ],
   "source": [
    "print(f\"{flotnum2:;^20.10f}\")"
   ]
  },
  {
   "cell_type": "code",
   "execution_count": 145,
   "id": "604b3ffb-5b8a-475f-a2af-7d8482f9e21b",
   "metadata": {},
   "outputs": [
    {
     "name": "stdout",
     "output_type": "stream",
     "text": [
      "********9.9260000000\n"
     ]
    }
   ],
   "source": [
    "print(f\"{flotnum2:*>20.10f}\")"
   ]
  },
  {
   "cell_type": "code",
   "execution_count": 2,
   "id": "8d9f3c33-5d93-4dfb-8b95-1185737ec7ac",
   "metadata": {},
   "outputs": [
    {
     "name": "stdout",
     "output_type": "stream",
     "text": [
      "python 30042024\n"
     ]
    }
   ],
   "source": [
    "print('{} {}'.format('python',30042024))"
   ]
  },
  {
   "cell_type": "code",
   "execution_count": 3,
   "id": "adf26f08-b3df-480c-9f90-72a22a9d86b1",
   "metadata": {},
   "outputs": [],
   "source": [
    "#print(''.format())"
   ]
  },
  {
   "cell_type": "code",
   "execution_count": 4,
   "id": "45c4ed62-ab8b-4083-9142-28eae8f6a79b",
   "metadata": {},
   "outputs": [
    {
     "name": "stdout",
     "output_type": "stream",
     "text": [
      "str repr 'str repr'\n"
     ]
    }
   ],
   "source": [
    "print('{0!s} {0!r}'.format('str repr'))"
   ]
  },
  {
   "cell_type": "code",
   "execution_count": 5,
   "id": "1cd5e005-b77d-4ac0-9d89-e332a5f396d4",
   "metadata": {},
   "outputs": [
    {
     "name": "stdout",
     "output_type": "stream",
     "text": [
      "'räpr' 'r\\xe4pr'\n"
     ]
    }
   ],
   "source": [
    "print('{0!r} {0!a}' .format('räpr'))"
   ]
  },
  {
   "cell_type": "code",
   "execution_count": 8,
   "id": "cff356e7-8c65-4c1a-b03c-58a52525ee90",
   "metadata": {},
   "outputs": [
    {
     "name": "stdout",
     "output_type": "stream",
     "text": [
      "            software developer\n"
     ]
    }
   ],
   "source": [
    "print('%30s'%('software developer'))"
   ]
  },
  {
   "cell_type": "code",
   "execution_count": 14,
   "id": "04e371a8-c76c-4146-88c1-66921e1d276f",
   "metadata": {},
   "outputs": [
    {
     "name": "stdout",
     "output_type": "stream",
     "text": [
      "                      12022024\n"
     ]
    }
   ],
   "source": [
    "print('%30s'%(12022024))"
   ]
  },
  {
   "cell_type": "code",
   "execution_count": 18,
   "id": "a40423ee-8548-4f82-8a1a-3648fe669386",
   "metadata": {},
   "outputs": [
    {
     "name": "stdout",
     "output_type": "stream",
     "text": [
      "software developer            \n"
     ]
    }
   ],
   "source": [
    "print('{:30}'.format('software developer'))"
   ]
  },
  {
   "cell_type": "code",
   "execution_count": 12,
   "id": "2a7b707b-4c0b-41ec-8e39-ea0a2e10a900",
   "metadata": {},
   "outputs": [
    {
     "name": "stdout",
     "output_type": "stream",
     "text": [
      "                      12022024\n"
     ]
    }
   ],
   "source": [
    "print('{:30}'.format(12022024))"
   ]
  },
  {
   "cell_type": "code",
   "execution_count": 19,
   "id": "45235970-e706-452c-8be4-269dfbb7e1c6",
   "metadata": {},
   "outputs": [
    {
     "name": "stdout",
     "output_type": "stream",
     "text": [
      "%html%%\n"
     ]
    }
   ],
   "source": [
    "print('{:%^7}'.format('html'))"
   ]
  },
  {
   "cell_type": "code",
   "execution_count": 23,
   "id": "42be8279-8bdc-4cc3-a26c-d9aae9ca576a",
   "metadata": {},
   "outputs": [
    {
     "name": "stdout",
     "output_type": "stream",
     "text": [
      "develop             \n"
     ]
    }
   ],
   "source": [
    "print('{:20.7}'.format('development engineer'))"
   ]
  },
  {
   "cell_type": "code",
   "execution_count": 29,
   "id": "b46a0220-3134-4963-a63b-e8922616fd12",
   "metadata": {},
   "outputs": [
    {
     "name": "stdout",
     "output_type": "stream",
     "text": [
      "develop             \n"
     ]
    }
   ],
   "source": [
    "print('%-20.7s'%('development engineer'))"
   ]
  },
  {
   "cell_type": "code",
   "execution_count": 41,
   "id": "544d0c43-7e28-4638-8b56-b76a8ef82982",
   "metadata": {},
   "outputs": [
    {
     "name": "stdout",
     "output_type": "stream",
     "text": [
      "+030042024\n"
     ]
    }
   ],
   "source": [
    "print('{:+010d}'.format(30042024))"
   ]
  },
  {
   "cell_type": "code",
   "execution_count": 42,
   "id": "f9622f48-8989-4b94-b32a-80c48fb46dcf",
   "metadata": {},
   "outputs": [
    {
     "name": "stdout",
     "output_type": "stream",
     "text": [
      "0030042024\n"
     ]
    }
   ],
   "source": [
    "print('{:010d}'.format(30042024))"
   ]
  },
  {
   "cell_type": "code",
   "execution_count": 43,
   "id": "e62c7ea4-931c-4e37-8221-5b79e380e060",
   "metadata": {},
   "outputs": [
    {
     "name": "stdout",
     "output_type": "stream",
     "text": [
      "-0000000003004.20240\n"
     ]
    }
   ],
   "source": [
    "print('{:020.5f}'.format(- 3004.2024))"
   ]
  },
  {
   "cell_type": "code",
   "execution_count": null,
   "id": "c1130856-09c7-4c31-97ba-23c008f66e33",
   "metadata": {},
   "outputs": [],
   "source": []
  },
  {
   "cell_type": "code",
   "execution_count": 44,
   "id": "da67d843-7f91-4ffb-9956-1ff8989469f1",
   "metadata": {},
   "outputs": [
    {
     "name": "stdout",
     "output_type": "stream",
     "text": [
      " 3004\n"
     ]
    }
   ],
   "source": [
    "print('{: d}'.format(3004))"
   ]
  },
  {
   "cell_type": "code",
   "execution_count": 46,
   "id": "88cb57cf-a0d0-4ce1-bf0d-8faf30e4fe82",
   "metadata": {},
   "outputs": [
    {
     "name": "stdout",
     "output_type": "stream",
     "text": [
      "+  3004\n"
     ]
    }
   ],
   "source": [
    "print('{:=+7d}'.format(3004))"
   ]
  },
  {
   "cell_type": "code",
   "execution_count": 48,
   "id": "5be41588-17b9-4a82-9c31-bdc0f293245b",
   "metadata": {},
   "outputs": [
    {
     "name": "stdout",
     "output_type": "stream",
     "text": [
      "-&&3004\n"
     ]
    }
   ],
   "source": [
    "print('{:&=7d}'.format(-3004))"
   ]
  },
  {
   "cell_type": "code",
   "execution_count": 49,
   "id": "9d9eb9fe-c494-4a56-a6eb-d2d5336477d3",
   "metadata": {},
   "outputs": [
    {
     "name": "stdout",
     "output_type": "stream",
     "text": [
      "-&&3004\n"
     ]
    }
   ],
   "source": [
    "print('{:&=7d}'.format(- 3004))"
   ]
  },
  {
   "cell_type": "code",
   "execution_count": 50,
   "id": "69a37d26-721d-4471-b0eb-4a8d0834c407",
   "metadata": {},
   "outputs": [
    {
     "name": "stdout",
     "output_type": "stream",
     "text": [
      "-==3004\n"
     ]
    }
   ],
   "source": [
    "print('{:==7d}'.format(- 3004))"
   ]
  },
  {
   "cell_type": "code",
   "execution_count": 52,
   "id": "d3c29032-2a21-406a-a49c-7de39ae75467",
   "metadata": {},
   "outputs": [
    {
     "name": "stdout",
     "output_type": "stream",
     "text": [
      "-  3004\n"
     ]
    }
   ],
   "source": [
    "print('{:=7d}'.format(- 3004))"
   ]
  },
  {
   "cell_type": "code",
   "execution_count": 53,
   "id": "d3914dd8-be11-4dd1-94fc-f3f0fe6f8df6",
   "metadata": {},
   "outputs": [],
   "source": [
    "#parameter"
   ]
  },
  {
   "cell_type": "code",
   "execution_count": 56,
   "id": "fcaec3cd-e66c-41fd-bf20-c30b613cff9e",
   "metadata": {},
   "outputs": [
    {
     "name": "stdout",
     "output_type": "stream",
     "text": [
      "$$$$$$software developer$$$$$$\n"
     ]
    }
   ],
   "source": [
    "print('{:{pattern}{align}{width}}'.format('software developer', pattern='$', align='^', width='30'))"
   ]
  },
  {
   "cell_type": "code",
   "execution_count": 59,
   "id": "491655c0-6de1-4bec-9b61-cc03dd08e589",
   "metadata": {},
   "outputs": [
    {
     "name": "stdout",
     "output_type": "stream",
     "text": [
      "$$$$$$$$$$3004.20240$$$$$$$$$$\n"
     ]
    }
   ],
   "source": [
    "print('{:{pattern}{align}{width}.{precision}f}'.format(3004.2024, pattern='$', align='^', width='30', precision='5'))"
   ]
  },
  {
   "cell_type": "code",
   "execution_count": 60,
   "id": "ec8e3e55-cc27-4a9d-9919-97c552154be2",
   "metadata": {},
   "outputs": [],
   "source": [
    "#Parametrized precision:"
   ]
  },
  {
   "cell_type": "code",
   "execution_count": 6,
   "id": "288bb297-3454-4576-b7b1-c7882d23db54",
   "metadata": {},
   "outputs": [
    {
     "name": "stdout",
     "output_type": "stream",
     "text": [
      "python || 3004.202400\n"
     ]
    }
   ],
   "source": [
    "print('{:.{prec}} || {:.{prec}f}'.format('python',3004.2024,prec=6))"
   ]
  },
  {
   "cell_type": "code",
   "execution_count": 5,
   "id": "cb5980e8-bf6a-4b85-a5ac-c6df98b3e2a2",
   "metadata": {},
   "outputs": [
    {
     "name": "stdout",
     "output_type": "stream",
     "text": [
      "python || 3004.20240\n"
     ]
    }
   ],
   "source": [
    "print('%.*s || %.*f'%(6,'python',5,3004.2024))"
   ]
  },
  {
   "cell_type": "code",
   "execution_count": 7,
   "id": "bc629f4d-1801-4af8-94dc-848cb85b01a2",
   "metadata": {},
   "outputs": [
    {
     "name": "stdout",
     "output_type": "stream",
     "text": [
      "python || 3004.20240\n"
     ]
    }
   ],
   "source": [
    "print('{:.{prec}} || {:.{precf}f}'.format('python',3004.2024,prec=6,precf=5))"
   ]
  },
  {
   "cell_type": "code",
   "execution_count": 10,
   "id": "55495a77-58e6-48de-a486-6b7851c0b4f4",
   "metadata": {},
   "outputs": [
    {
     "name": "stdout",
     "output_type": "stream",
     "text": [
      " 1202.2024\n"
     ]
    }
   ],
   "source": [
    "print('{:{width}.{prec}f}'.format(1202.2024,width=10,prec=4))"
   ]
  },
  {
   "cell_type": "code",
   "execution_count": 11,
   "id": "a4ded49f-08f3-4561-9581-7d7ad8c10bc6",
   "metadata": {},
   "outputs": [
    {
     "name": "stdout",
     "output_type": "stream",
     "text": [
      " 1202.2024\n"
     ]
    }
   ],
   "source": [
    "print('%*.*f'%(10,4,1202.2024))"
   ]
  },
  {
   "cell_type": "code",
   "execution_count": 16,
   "id": "e9182672-b19d-4ebf-a4b2-3c112d56e0da",
   "metadata": {},
   "outputs": [
    {
     "name": "stdout",
     "output_type": "stream",
     "text": [
      "python || 3004.202400\n"
     ]
    }
   ],
   "source": [
    "print('{:{prec}} || {:{prec}f}'.format('python',3004.2024,prec=.6))"
   ]
  },
  {
   "cell_type": "code",
   "execution_count": 18,
   "id": "149f1f29-944f-4ca2-bb28-0612c408e629",
   "metadata": {},
   "outputs": [
    {
     "ename": "IndexError",
     "evalue": "Replacement index 0 out of range for positional args tuple",
     "output_type": "error",
     "traceback": [
      "\u001b[1;31m---------------------------------------------------------------------------\u001b[0m",
      "\u001b[1;31mIndexError\u001b[0m                                Traceback (most recent call last)",
      "Cell \u001b[1;32mIn[18], line 1\u001b[0m\n\u001b[1;32m----> 1\u001b[0m \u001b[38;5;28mprint\u001b[39m(\u001b[38;5;124m'\u001b[39m\u001b[38;5;124m{\u001b[39m\u001b[38;5;124m:\u001b[39m\u001b[38;5;132;01m{dfmt}\u001b[39;00m\u001b[38;5;124m \u001b[39m\u001b[38;5;132;01m{tfmt}\u001b[39;00m\u001b[38;5;124m}\u001b[39m\u001b[38;5;124m'\u001b[39m\u001b[38;5;241m.\u001b[39mformat(dt\u001b[38;5;241m=\u001b[39m\u001b[38;5;124m'\u001b[39m\u001b[38;5;124m2024/04/30 10:30\u001b[39m\u001b[38;5;124m'\u001b[39m,dfmt\u001b[38;5;241m=\u001b[39m\u001b[38;5;124m'\u001b[39m\u001b[38;5;124m%\u001b[39m\u001b[38;5;124mY-\u001b[39m\u001b[38;5;124m%\u001b[39m\u001b[38;5;124mm-\u001b[39m\u001b[38;5;132;01m%d\u001b[39;00m\u001b[38;5;124m'\u001b[39m,tfmt\u001b[38;5;241m=\u001b[39m\u001b[38;5;124m'\u001b[39m\u001b[38;5;124m%\u001b[39m\u001b[38;5;124mH:\u001b[39m\u001b[38;5;124m%\u001b[39m\u001b[38;5;124mM\u001b[39m\u001b[38;5;124m'\u001b[39m))\n",
      "\u001b[1;31mIndexError\u001b[0m: Replacement index 0 out of range for positional args tuple"
     ]
    }
   ],
   "source": [
    "print('{:{dfmt} {tfmt}}'.format(dt='2024/04/30 10:30',dfmt='%Y-%m-%d',tfmt='%H:%M'))"
   ]
  },
  {
   "cell_type": "code",
   "execution_count": 21,
   "id": "cd571fbe-c8be-4df1-8eb6-84ce045cb90e",
   "metadata": {},
   "outputs": [
    {
     "name": "stdout",
     "output_type": "stream",
     "text": [
      "+1202.2024                                                                                          \n"
     ]
    }
   ],
   "source": [
    "print('{:{}{}{}{}f}'.format(1202.2024,'<','+',10,.4))"
   ]
  },
  {
   "cell_type": "code",
   "execution_count": 34,
   "id": "40804105-ed7e-4b8d-81cf-82857722c016",
   "metadata": {},
   "outputs": [
    {
     "name": "stdout",
     "output_type": "stream",
     "text": [
      "                                             1202.2024                                              \n"
     ]
    }
   ],
   "source": [
    "print('{:{}{}{}{}f}'.format(1202.2024,'^','-',10,.4))"
   ]
  },
  {
   "cell_type": "code",
   "execution_count": 36,
   "id": "11aee3bd-5e56-4745-b8a4-6a1224e6c60e",
   "metadata": {},
   "outputs": [
    {
     "name": "stdout",
     "output_type": "stream",
     "text": [
      "+1202.2024                                                                                          \n"
     ]
    }
   ],
   "source": [
    "print('{:{}{sign}{}{}f}'.format(1202.2024,'<',10,.4,sign='+'))"
   ]
  },
  {
   "cell_type": "code",
   "execution_count": 37,
   "id": "140c9956-320b-43fd-9256-07efbf503c66",
   "metadata": {},
   "outputs": [
    {
     "ename": "SyntaxError",
     "evalue": "positional argument follows keyword argument (2830112137.py, line 1)",
     "output_type": "error",
     "traceback": [
      "\u001b[1;36m  Cell \u001b[1;32mIn[37], line 1\u001b[1;36m\u001b[0m\n\u001b[1;33m    print('{:{}{sign}{}{}f}'.format(1202.2024,sign='+','<',10,.4))\u001b[0m\n\u001b[1;37m                                                                ^\u001b[0m\n\u001b[1;31mSyntaxError\u001b[0m\u001b[1;31m:\u001b[0m positional argument follows keyword argument\n"
     ]
    }
   ],
   "source": [
    "print('{:{}{sign}{}{}f}'.format(1202.2024,sign='+','<',10,.4))"
   ]
  },
  {
   "cell_type": "code",
   "execution_count": null,
   "id": "f859140c-e719-463f-9ca0-17f00cdfa938",
   "metadata": {},
   "outputs": [],
   "source": []
  },
  {
   "cell_type": "code",
   "execution_count": null,
   "id": "aebfbea7-2539-4963-92dc-45459a6206a5",
   "metadata": {},
   "outputs": [],
   "source": []
  },
  {
   "cell_type": "code",
   "execution_count": null,
   "id": "d092c466-e4a4-459c-8731-7a4960040992",
   "metadata": {},
   "outputs": [],
   "source": []
  }
 ],
 "metadata": {
  "kernelspec": {
   "display_name": "Python 3 (ipykernel)",
   "language": "python",
   "name": "python3"
  },
  "language_info": {
   "codemirror_mode": {
    "name": "ipython",
    "version": 3
   },
   "file_extension": ".py",
   "mimetype": "text/x-python",
   "name": "python",
   "nbconvert_exporter": "python",
   "pygments_lexer": "ipython3",
   "version": "3.11.7"
  }
 },
 "nbformat": 4,
 "nbformat_minor": 5
}
