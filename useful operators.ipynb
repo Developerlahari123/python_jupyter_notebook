{
 "cells": [
  {
   "cell_type": "code",
   "execution_count": 1,
   "id": "c0a915a3-08a0-4566-82bb-c9113f2dda28",
   "metadata": {},
   "outputs": [
    {
     "name": "stdout",
     "output_type": "stream",
     "text": [
      "0\n",
      "1\n",
      "2\n",
      "3\n",
      "4\n",
      "5\n",
      "6\n",
      "7\n",
      "8\n",
      "9\n"
     ]
    }
   ],
   "source": [
    "for i in range(10):\n",
    "    print(i)"
   ]
  },
  {
   "cell_type": "code",
   "execution_count": 2,
   "id": "3dcae49f-c566-4fcb-94fe-0e52abb39aad",
   "metadata": {},
   "outputs": [
    {
     "name": "stdout",
     "output_type": "stream",
     "text": [
      "2\n",
      "3\n",
      "4\n",
      "5\n",
      "6\n",
      "7\n",
      "8\n",
      "9\n"
     ]
    }
   ],
   "source": [
    "for i in range(2,10):\n",
    "    print(i)"
   ]
  },
  {
   "cell_type": "code",
   "execution_count": 3,
   "id": "dda29190-abc4-4390-a716-902eb8baf3c8",
   "metadata": {},
   "outputs": [
    {
     "name": "stdout",
     "output_type": "stream",
     "text": [
      "2\n",
      "4\n",
      "6\n",
      "8\n"
     ]
    }
   ],
   "source": [
    "for i in range(2,10,2):\n",
    "    print(i)"
   ]
  },
  {
   "cell_type": "code",
   "execution_count": 6,
   "id": "239f984c-5384-433a-b232-c2c17b77cbff",
   "metadata": {},
   "outputs": [
    {
     "data": {
      "text/plain": [
       "range(0, 10, 2)"
      ]
     },
     "execution_count": 6,
     "metadata": {},
     "output_type": "execute_result"
    }
   ],
   "source": [
    "range(0,10,2)"
   ]
  },
  {
   "cell_type": "code",
   "execution_count": 7,
   "id": "8072c8d7-4564-4f65-b384-82a27ac1acd8",
   "metadata": {},
   "outputs": [
    {
     "data": {
      "text/plain": [
       "[0, 2, 4, 6, 8]"
      ]
     },
     "execution_count": 7,
     "metadata": {},
     "output_type": "execute_result"
    }
   ],
   "source": [
    "list(range(0,10,2))"
   ]
  },
  {
   "cell_type": "code",
   "execution_count": 8,
   "id": "3eb7bdf4-baaf-4660-89b3-6fbc49b37657",
   "metadata": {},
   "outputs": [],
   "source": [
    "#enumerate"
   ]
  },
  {
   "cell_type": "code",
   "execution_count": 9,
   "id": "2c396d2e-9149-4921-9a39-d938596e2d7f",
   "metadata": {},
   "outputs": [
    {
     "name": "stdout",
     "output_type": "stream",
     "text": [
      "letter at index 0 is o\n",
      "letter at index 1 is m\n",
      "letter at index 2 is  \n",
      "letter at index 3 is g\n",
      "letter at index 4 is a\n",
      "letter at index 5 is m\n",
      "letter at index 6 is  \n",
      "letter at index 7 is g\n",
      "letter at index 8 is a\n",
      "letter at index 9 is n\n",
      "letter at index 10 is a\n",
      "letter at index 11 is p\n",
      "letter at index 12 is a\n",
      "letter at index 13 is t\n",
      "letter at index 14 is a\n",
      "letter at index 15 is y\n",
      "letter at index 16 is e\n",
      "letter at index 17 is  \n",
      "letter at index 18 is n\n",
      "letter at index 19 is a\n",
      "letter at index 20 is m\n",
      "letter at index 21 is a\n",
      "letter at index 22 is h\n",
      "letter at index 23 is a\n"
     ]
    }
   ],
   "source": [
    "index_count=0\n",
    "for le in 'om gam ganapataye namaha':\n",
    "    print(f'letter at index {index_count} is {le}')\n",
    "    index_count+=1"
   ]
  },
  {
   "cell_type": "code",
   "execution_count": 10,
   "id": "46ecd329-5188-4947-afb8-2bb26edc36cf",
   "metadata": {},
   "outputs": [
    {
     "name": "stdout",
     "output_type": "stream",
     "text": [
      "o\n",
      "m\n",
      " \n",
      "g\n",
      "a\n",
      "m\n",
      " \n",
      "g\n",
      "a\n",
      "n\n",
      "a\n",
      "p\n",
      "a\n",
      "t\n",
      "a\n",
      "y\n",
      "e\n",
      " \n",
      "n\n",
      "a\n",
      "m\n",
      "a\n",
      "h\n",
      "a\n"
     ]
    }
   ],
   "source": [
    "index_count=0\n",
    "word='om gam ganapataye namaha'\n",
    "for le in word:\n",
    "    print(word[index_count])\n",
    "    index_count+=1"
   ]
  },
  {
   "cell_type": "code",
   "execution_count": 11,
   "id": "dca5ef90-1d45-4bbd-be7d-82420c4a6779",
   "metadata": {},
   "outputs": [
    {
     "name": "stdout",
     "output_type": "stream",
     "text": [
      "(0, 'o')\n",
      "(1, 'm')\n",
      "(2, ' ')\n",
      "(3, 'g')\n",
      "(4, 'a')\n",
      "(5, 'm')\n",
      "(6, ' ')\n",
      "(7, 'g')\n",
      "(8, 'a')\n",
      "(9, 'n')\n",
      "(10, 'a')\n",
      "(11, 'p')\n",
      "(12, 'a')\n",
      "(13, 't')\n",
      "(14, 'a')\n",
      "(15, 'y')\n",
      "(16, 'e')\n",
      "(17, ' ')\n",
      "(18, 'n')\n",
      "(19, 'a')\n",
      "(20, 'm')\n",
      "(21, 'a')\n",
      "(22, 'h')\n",
      "(23, 'a')\n"
     ]
    }
   ],
   "source": [
    "word='om gam ganapataye namaha'\n",
    "for item in enumerate(word):\n",
    "    print(item)"
   ]
  },
  {
   "cell_type": "code",
   "execution_count": 12,
   "id": "2a8e8d4b-77b9-48cf-a9a0-14b2f3ea831d",
   "metadata": {},
   "outputs": [
    {
     "name": "stdout",
     "output_type": "stream",
     "text": [
      "0\n",
      "o\n",
      "\n",
      "\n",
      "1\n",
      "m\n",
      "\n",
      "\n",
      "2\n",
      " \n",
      "\n",
      "\n",
      "3\n",
      "g\n",
      "\n",
      "\n",
      "4\n",
      "a\n",
      "\n",
      "\n",
      "5\n",
      "m\n",
      "\n",
      "\n",
      "6\n",
      " \n",
      "\n",
      "\n",
      "7\n",
      "g\n",
      "\n",
      "\n",
      "8\n",
      "a\n",
      "\n",
      "\n",
      "9\n",
      "n\n",
      "\n",
      "\n",
      "10\n",
      "a\n",
      "\n",
      "\n",
      "11\n",
      "p\n",
      "\n",
      "\n",
      "12\n",
      "a\n",
      "\n",
      "\n",
      "13\n",
      "t\n",
      "\n",
      "\n",
      "14\n",
      "a\n",
      "\n",
      "\n",
      "15\n",
      "y\n",
      "\n",
      "\n",
      "16\n",
      "e\n",
      "\n",
      "\n",
      "17\n",
      " \n",
      "\n",
      "\n",
      "18\n",
      "n\n",
      "\n",
      "\n",
      "19\n",
      "a\n",
      "\n",
      "\n",
      "20\n",
      "m\n",
      "\n",
      "\n",
      "21\n",
      "a\n",
      "\n",
      "\n",
      "22\n",
      "h\n",
      "\n",
      "\n",
      "23\n",
      "a\n",
      "\n",
      "\n"
     ]
    }
   ],
   "source": [
    "word='om gam ganapataye namaha'\n",
    "for index,letter in enumerate(word):\n",
    "    print(index)\n",
    "    print(letter)\n",
    "    print('\\n')"
   ]
  },
  {
   "cell_type": "code",
   "execution_count": 1,
   "id": "0a14c3d9-3f50-41f5-94a7-cd1d5710a7ef",
   "metadata": {},
   "outputs": [],
   "source": [
    "list1=['a',1,True]\n",
    "list2=[1,'e',3,False]"
   ]
  },
  {
   "cell_type": "code",
   "execution_count": 2,
   "id": "e6d30473-620c-4e89-8135-2eabe9a1848b",
   "metadata": {},
   "outputs": [
    {
     "data": {
      "text/plain": [
       "<zip at 0x219cd9e8580>"
      ]
     },
     "execution_count": 2,
     "metadata": {},
     "output_type": "execute_result"
    }
   ],
   "source": [
    "zip(list1,list2)"
   ]
  },
  {
   "cell_type": "code",
   "execution_count": 3,
   "id": "e358fc5e-9cf0-4cd8-892c-c784da324607",
   "metadata": {},
   "outputs": [
    {
     "name": "stdout",
     "output_type": "stream",
     "text": [
      "('a', 1)\n",
      "(1, 'e')\n",
      "(True, 3)\n"
     ]
    }
   ],
   "source": [
    "for item in zip(list1,list2):\n",
    "    print(item)\n",
    "    "
   ]
  },
  {
   "cell_type": "code",
   "execution_count": 12,
   "id": "fae19ea8-2ecc-4ee3-a3e1-bdf3db7e3dde",
   "metadata": {},
   "outputs": [],
   "source": [
    "list3=[1,2,3]\n",
    "list4=['c','d','e']\n",
    "list5=[2**2,3**2,4**2]"
   ]
  },
  {
   "cell_type": "code",
   "execution_count": 10,
   "id": "7336cd77-b349-4958-af3b-9874faea005d",
   "metadata": {},
   "outputs": [
    {
     "name": "stdout",
     "output_type": "stream",
     "text": [
      "(1, 'c', 4)\n",
      "(2, 'd', 9)\n",
      "(3, 'e', 16)\n"
     ]
    }
   ],
   "source": [
    "for item in zip(list3,list4,list5):\n",
    "    print(item)"
   ]
  },
  {
   "cell_type": "code",
   "execution_count": 8,
   "id": "c65d0a43-43b8-4a82-959d-bdd0eaa7dd65",
   "metadata": {},
   "outputs": [
    {
     "data": {
      "text/plain": [
       "[4, 9, 16]"
      ]
     },
     "execution_count": 8,
     "metadata": {},
     "output_type": "execute_result"
    }
   ],
   "source": [
    "list5"
   ]
  },
  {
   "cell_type": "code",
   "execution_count": 11,
   "id": "02d1d96f-e132-4e8f-ad18-c9b291a23459",
   "metadata": {},
   "outputs": [
    {
     "data": {
      "text/plain": [
       "[(1, 'c', 4), (2, 'd', 9), (3, 'e', 16)]"
      ]
     },
     "execution_count": 11,
     "metadata": {},
     "output_type": "execute_result"
    }
   ],
   "source": [
    "list(zip(list3,list4,list5))"
   ]
  },
  {
   "cell_type": "code",
   "execution_count": 16,
   "id": "60fe56d6-7e05-4118-9f73-21f41fb07f60",
   "metadata": {},
   "outputs": [
    {
     "name": "stdout",
     "output_type": "stream",
     "text": [
      "c\n",
      "d\n",
      "e\n"
     ]
    }
   ],
   "source": [
    "for m,n,v in zip(list3,list4,list5):\n",
    "    print(n)\n",
    "    "
   ]
  },
  {
   "cell_type": "code",
   "execution_count": 17,
   "id": "233752d0-6e2b-4afe-b620-2c45b295c379",
   "metadata": {},
   "outputs": [
    {
     "name": "stdout",
     "output_type": "stream",
     "text": [
      "c\n",
      "1\n",
      "d\n",
      "2\n",
      "e\n",
      "3\n"
     ]
    }
   ],
   "source": [
    "for m,n,v in zip(list3,list4,list5):\n",
    "    print(n)\n",
    "    print(m)"
   ]
  },
  {
   "cell_type": "code",
   "execution_count": 18,
   "id": "b614de52-5db5-4b95-89fb-e8b4e75524a3",
   "metadata": {},
   "outputs": [],
   "source": [
    "# operator - IN "
   ]
  },
  {
   "cell_type": "code",
   "execution_count": 19,
   "id": "ba79bd0b-690a-4471-900d-325b88ac3c91",
   "metadata": {},
   "outputs": [
    {
     "data": {
      "text/plain": [
       "True"
      ]
     },
     "execution_count": 19,
     "metadata": {},
     "output_type": "execute_result"
    }
   ],
   "source": [
    "'d' in (1,2,'d')"
   ]
  },
  {
   "cell_type": "code",
   "execution_count": 20,
   "id": "f55b45d7-9dd7-41f8-b6db-53f4de3426ca",
   "metadata": {},
   "outputs": [
    {
     "data": {
      "text/plain": [
       "True"
      ]
     },
     "execution_count": 20,
     "metadata": {},
     "output_type": "execute_result"
    }
   ],
   "source": [
    "'e' in [2,'e',3]"
   ]
  },
  {
   "cell_type": "code",
   "execution_count": 22,
   "id": "39c684ca-89ba-498e-8d1b-be1cf7a31ce9",
   "metadata": {},
   "outputs": [
    {
     "data": {
      "text/plain": [
       "True"
      ]
     },
     "execution_count": 22,
     "metadata": {},
     "output_type": "execute_result"
    }
   ],
   "source": [
    "1 in ['a',8,0,True]"
   ]
  },
  {
   "cell_type": "code",
   "execution_count": 23,
   "id": "1b91c46e-e9a4-42c2-b8d6-7789fe38618c",
   "metadata": {},
   "outputs": [
    {
     "data": {
      "text/plain": [
       "False"
      ]
     },
     "execution_count": 23,
     "metadata": {},
     "output_type": "execute_result"
    }
   ],
   "source": [
    "0 in ['a',8,1,True]"
   ]
  },
  {
   "cell_type": "code",
   "execution_count": 28,
   "id": "faf45f6e-2417-41f5-8c03-03861ee23a8e",
   "metadata": {},
   "outputs": [
    {
     "data": {
      "text/plain": [
       "True"
      ]
     },
     "execution_count": 28,
     "metadata": {},
     "output_type": "execute_result"
    }
   ],
   "source": [
    "'a' in ['a','b',1]"
   ]
  },
  {
   "cell_type": "code",
   "execution_count": 29,
   "id": "ddfc14d0-1a6e-42a2-bcfa-eb91a0376fb8",
   "metadata": {},
   "outputs": [
    {
     "data": {
      "text/plain": [
       "True"
      ]
     },
     "execution_count": 29,
     "metadata": {},
     "output_type": "execute_result"
    }
   ],
   "source": [
    "'a' in ['a',8,1,True]"
   ]
  },
  {
   "cell_type": "code",
   "execution_count": 30,
   "id": "1e21446e-4595-431e-92fd-90d2a0be98df",
   "metadata": {},
   "outputs": [
    {
     "data": {
      "text/plain": [
       "True"
      ]
     },
     "execution_count": 30,
     "metadata": {},
     "output_type": "execute_result"
    }
   ],
   "source": [
    "True in ['a',8,1,True]"
   ]
  },
  {
   "cell_type": "code",
   "execution_count": 31,
   "id": "2e1f9022-2ec6-4e09-8bb1-b42126431b7c",
   "metadata": {},
   "outputs": [
    {
     "data": {
      "text/plain": [
       "True"
      ]
     },
     "execution_count": 31,
     "metadata": {},
     "output_type": "execute_result"
    }
   ],
   "source": [
    "True in ['a',8,1]"
   ]
  },
  {
   "cell_type": "code",
   "execution_count": 32,
   "id": "65b340c2-763d-4655-83dc-78cd92f2a34d",
   "metadata": {},
   "outputs": [
    {
     "data": {
      "text/plain": [
       "True"
      ]
     },
     "execution_count": 32,
     "metadata": {},
     "output_type": "execute_result"
    }
   ],
   "source": [
    "False in ['a',8,0]"
   ]
  },
  {
   "cell_type": "code",
   "execution_count": 33,
   "id": "2ec0e449-02bb-4051-a764-e1f082f05c04",
   "metadata": {},
   "outputs": [
    {
     "data": {
      "text/plain": [
       "True"
      ]
     },
     "execution_count": 33,
     "metadata": {},
     "output_type": "execute_result"
    }
   ],
   "source": [
    "False in ['a',8,0,False]"
   ]
  },
  {
   "cell_type": "code",
   "execution_count": 34,
   "id": "22cf3433-1ea4-43d0-b0c9-4353edffc3b5",
   "metadata": {},
   "outputs": [
    {
     "data": {
      "text/plain": [
       "True"
      ]
     },
     "execution_count": 34,
     "metadata": {},
     "output_type": "execute_result"
    }
   ],
   "source": [
    "False in ['a',8,False]"
   ]
  },
  {
   "cell_type": "code",
   "execution_count": 1,
   "id": "46fb78d2-c46b-4ab7-82c3-46e37afa26c6",
   "metadata": {},
   "outputs": [
    {
     "data": {
      "text/plain": [
       "True"
      ]
     },
     "execution_count": 1,
     "metadata": {},
     "output_type": "execute_result"
    }
   ],
   "source": [
    "'e' in 'developer'"
   ]
  },
  {
   "cell_type": "code",
   "execution_count": 2,
   "id": "a8e24ada-4e22-40e9-a7d9-87b57e4c2bbc",
   "metadata": {},
   "outputs": [
    {
     "data": {
      "text/plain": [
       "True"
      ]
     },
     "execution_count": 2,
     "metadata": {},
     "output_type": "execute_result"
    }
   ],
   "source": [
    "'k1'in {'k2':1,'k1':'k'}"
   ]
  },
  {
   "cell_type": "code",
   "execution_count": 3,
   "id": "373a4d3e-6f2b-408c-b532-6a966d2607d8",
   "metadata": {},
   "outputs": [
    {
     "data": {
      "text/plain": [
       "False"
      ]
     },
     "execution_count": 3,
     "metadata": {},
     "output_type": "execute_result"
    }
   ],
   "source": [
    "'k'in {'k2':1,'k1':'k'}"
   ]
  },
  {
   "cell_type": "code",
   "execution_count": 7,
   "id": "52893930-5983-47d8-9f83-e613a2a27f75",
   "metadata": {},
   "outputs": [
    {
     "data": {
      "text/plain": [
       "{1, 2, 3}"
      ]
     },
     "execution_count": 7,
     "metadata": {},
     "output_type": "execute_result"
    }
   ],
   "source": [
    "set([1,2,3])"
   ]
  },
  {
   "cell_type": "code",
   "execution_count": 8,
   "id": "aad92675-9664-487b-b036-ce7d8da68916",
   "metadata": {},
   "outputs": [
    {
     "data": {
      "text/plain": [
       "False"
      ]
     },
     "execution_count": 8,
     "metadata": {},
     "output_type": "execute_result"
    }
   ],
   "source": [
    "'a' in set([1,2,3])"
   ]
  },
  {
   "cell_type": "code",
   "execution_count": 9,
   "id": "1073e045-fb0b-4fc5-a1c9-29f25ca6a141",
   "metadata": {},
   "outputs": [],
   "source": [
    "dict1={'k2':1,'k1':'k'}"
   ]
  },
  {
   "cell_type": "code",
   "execution_count": 10,
   "id": "56d1d90a-fc97-4cdb-8f34-e7375d50a9ff",
   "metadata": {},
   "outputs": [
    {
     "data": {
      "text/plain": [
       "False"
      ]
     },
     "execution_count": 10,
     "metadata": {},
     "output_type": "execute_result"
    }
   ],
   "source": [
    "'k2' in dict1.items()"
   ]
  },
  {
   "cell_type": "code",
   "execution_count": 11,
   "id": "999663ac-6f50-4247-a754-cc840d194823",
   "metadata": {},
   "outputs": [
    {
     "data": {
      "text/plain": [
       "dict_items([('k2', 1), ('k1', 'k')])"
      ]
     },
     "execution_count": 11,
     "metadata": {},
     "output_type": "execute_result"
    }
   ],
   "source": [
    "dict1.items()"
   ]
  },
  {
   "cell_type": "code",
   "execution_count": 12,
   "id": "0331dd18-869d-4e49-be59-b38f22d37ce9",
   "metadata": {},
   "outputs": [
    {
     "data": {
      "text/plain": [
       "True"
      ]
     },
     "execution_count": 12,
     "metadata": {},
     "output_type": "execute_result"
    }
   ],
   "source": [
    "('k2', 1) in dict1.items()"
   ]
  },
  {
   "cell_type": "code",
   "execution_count": 13,
   "id": "88c8d7ff-b16d-4417-b62f-37b6b30a0698",
   "metadata": {},
   "outputs": [
    {
     "data": {
      "text/plain": [
       "True"
      ]
     },
     "execution_count": 13,
     "metadata": {},
     "output_type": "execute_result"
    }
   ],
   "source": [
    "'k' in dict1.values()"
   ]
  },
  {
   "cell_type": "code",
   "execution_count": 14,
   "id": "b98a591b-3fbb-4994-9173-6d4e37c1a476",
   "metadata": {},
   "outputs": [
    {
     "data": {
      "text/plain": [
       "True"
      ]
     },
     "execution_count": 14,
     "metadata": {},
     "output_type": "execute_result"
    }
   ],
   "source": [
    "'k1' in dict1.keys()"
   ]
  },
  {
   "cell_type": "code",
   "execution_count": 15,
   "id": "40053c5b-ba6e-490e-91b3-3cd86738d9a5",
   "metadata": {},
   "outputs": [],
   "source": [
    "# mathematical functions"
   ]
  },
  {
   "cell_type": "code",
   "execution_count": 16,
   "id": "1a61a8df-b637-486f-8db2-b9f1a0e6b27f",
   "metadata": {},
   "outputs": [],
   "source": [
    "list2=[9,8,19,36,42]"
   ]
  },
  {
   "cell_type": "code",
   "execution_count": 17,
   "id": "e9ead44d-739b-41a2-b6d1-f251e72cc9cb",
   "metadata": {},
   "outputs": [
    {
     "data": {
      "text/plain": [
       "8"
      ]
     },
     "execution_count": 17,
     "metadata": {},
     "output_type": "execute_result"
    }
   ],
   "source": [
    "min(list2)"
   ]
  },
  {
   "cell_type": "code",
   "execution_count": 22,
   "id": "1e5edf9d-d04d-42c2-835f-777f5ad398f8",
   "metadata": {},
   "outputs": [],
   "source": [
    "tup1=(9,2,1,3,5,9)"
   ]
  },
  {
   "cell_type": "code",
   "execution_count": 21,
   "id": "026b7743-74c2-4412-ba51-8fe88f82d92c",
   "metadata": {},
   "outputs": [
    {
     "data": {
      "text/plain": [
       "9"
      ]
     },
     "execution_count": 21,
     "metadata": {},
     "output_type": "execute_result"
    }
   ],
   "source": [
    "max(tup1)"
   ]
  },
  {
   "cell_type": "code",
   "execution_count": 23,
   "id": "dd334cce-db1e-41bf-a6e8-4c2e21d4c6a2",
   "metadata": {},
   "outputs": [],
   "source": [
    "#importing functions from random library"
   ]
  },
  {
   "cell_type": "code",
   "execution_count": 24,
   "id": "09fe5eca-178b-4292-95f0-8ed0dadcd7ed",
   "metadata": {},
   "outputs": [
    {
     "data": {
      "text/plain": [
       "[3, 2, 4, 1, 6, 5]"
      ]
     },
     "execution_count": 24,
     "metadata": {},
     "output_type": "execute_result"
    }
   ],
   "source": [
    "from random import shuffle\n",
    "list2=[1,2,3,4,5,6]\n",
    "shuffle(list2)\n",
    "list2"
   ]
  },
  {
   "cell_type": "code",
   "execution_count": 25,
   "id": "8ee6eab1-48cc-4bc1-8f16-87529a80acf4",
   "metadata": {},
   "outputs": [
    {
     "data": {
      "text/plain": [
       "[2, 4, 3, 1, 6, 5]"
      ]
     },
     "execution_count": 25,
     "metadata": {},
     "output_type": "execute_result"
    }
   ],
   "source": [
    "shuffle(list2) #shuffle function will not return anything and shuffle is inplace function\n",
    "list2"
   ]
  },
  {
   "cell_type": "code",
   "execution_count": 26,
   "id": "a5153934-ae47-4649-9e8e-c9a8a41ff207",
   "metadata": {},
   "outputs": [],
   "source": [
    "shufled_list=shuffle(list2) \n",
    "shufled_list"
   ]
  },
  {
   "cell_type": "code",
   "execution_count": 27,
   "id": "0d8c4761-cec8-4a63-acae-1397abbd7cad",
   "metadata": {},
   "outputs": [
    {
     "data": {
      "text/plain": [
       "NoneType"
      ]
     },
     "execution_count": 27,
     "metadata": {},
     "output_type": "execute_result"
    }
   ],
   "source": [
    "type(shufled_list)"
   ]
  },
  {
   "cell_type": "code",
   "execution_count": 28,
   "id": "3df761d2-16de-4154-b602-7dcae6562366",
   "metadata": {},
   "outputs": [
    {
     "data": {
      "text/plain": [
       "15"
      ]
     },
     "execution_count": 28,
     "metadata": {},
     "output_type": "execute_result"
    }
   ],
   "source": [
    "# function to grab a randon integer\n",
    "from random import randint\n",
    "randint(0,50)"
   ]
  },
  {
   "cell_type": "code",
   "execution_count": 29,
   "id": "07707075-6911-4adf-b816-1e8b7096e533",
   "metadata": {},
   "outputs": [
    {
     "data": {
      "text/plain": [
       "27"
      ]
     },
     "execution_count": 29,
     "metadata": {},
     "output_type": "execute_result"
    }
   ],
   "source": [
    "randint(0,50)"
   ]
  },
  {
   "cell_type": "code",
   "execution_count": 30,
   "id": "00df7ea0-dfb3-4786-a0da-357d55b1dac4",
   "metadata": {},
   "outputs": [
    {
     "data": {
      "text/plain": [
       "6"
      ]
     },
     "execution_count": 30,
     "metadata": {},
     "output_type": "execute_result"
    }
   ],
   "source": [
    "ranint1=randint(0,50)\n",
    "ranint1"
   ]
  },
  {
   "cell_type": "code",
   "execution_count": 1,
   "id": "ea156c16-0582-4bc0-96eb-65290cdea547",
   "metadata": {},
   "outputs": [
    {
     "name": "stdin",
     "output_type": "stream",
     "text": [
      "enter:  1\n"
     ]
    },
    {
     "data": {
      "text/plain": [
       "'1'"
      ]
     },
     "execution_count": 1,
     "metadata": {},
     "output_type": "execute_result"
    }
   ],
   "source": [
    "#input() function to accept user input\n",
    "input('enter: ')"
   ]
  },
  {
   "cell_type": "code",
   "execution_count": 4,
   "id": "00bfdb94-165f-4026-8324-7731dd622746",
   "metadata": {},
   "outputs": [
    {
     "name": "stdin",
     "output_type": "stream",
     "text": [
      "enter:  Ganesh\n"
     ]
    }
   ],
   "source": [
    "name=input('enter: ')"
   ]
  },
  {
   "cell_type": "code",
   "execution_count": 6,
   "id": "72c63ff3-784f-4734-910a-ce3f65408762",
   "metadata": {},
   "outputs": [
    {
     "data": {
      "text/plain": [
       "'Ganesh'"
      ]
     },
     "execution_count": 6,
     "metadata": {},
     "output_type": "execute_result"
    }
   ],
   "source": [
    "name"
   ]
  },
  {
   "cell_type": "code",
   "execution_count": 5,
   "id": "3cb62b8d-d802-4885-87ce-432ae00826e0",
   "metadata": {},
   "outputs": [
    {
     "name": "stdin",
     "output_type": "stream",
     "text": [
      "enter:  4\n"
     ]
    }
   ],
   "source": [
    "num=input('enter: ')"
   ]
  },
  {
   "cell_type": "code",
   "execution_count": 7,
   "id": "0d7a23c8-3748-40a3-9cf9-360b7fb66f54",
   "metadata": {},
   "outputs": [
    {
     "data": {
      "text/plain": [
       "'4'"
      ]
     },
     "execution_count": 7,
     "metadata": {},
     "output_type": "execute_result"
    }
   ],
   "source": [
    "num"
   ]
  },
  {
   "cell_type": "code",
   "execution_count": 1,
   "id": "5a3322b9-15f5-4906-a343-11af39831769",
   "metadata": {},
   "outputs": [
    {
     "name": "stdin",
     "output_type": "stream",
     "text": [
      " om\n"
     ]
    }
   ],
   "source": [
    "name=input('')"
   ]
  },
  {
   "cell_type": "code",
   "execution_count": 2,
   "id": "72d47b58-aa5f-4d94-9db1-d26ddd3dceab",
   "metadata": {},
   "outputs": [
    {
     "data": {
      "text/plain": [
       "'om'"
      ]
     },
     "execution_count": 2,
     "metadata": {},
     "output_type": "execute_result"
    }
   ],
   "source": [
    "name"
   ]
  },
  {
   "cell_type": "code",
   "execution_count": 3,
   "id": "6afe2750-9d97-4e59-8e86-f7cf37364863",
   "metadata": {},
   "outputs": [
    {
     "name": "stdin",
     "output_type": "stream",
     "text": [
      " 'lahari'\n"
     ]
    }
   ],
   "source": [
    "name=input('')"
   ]
  },
  {
   "cell_type": "code",
   "execution_count": 4,
   "id": "c85293a4-59cb-46f7-b4da-3fa025787778",
   "metadata": {},
   "outputs": [
    {
     "data": {
      "text/plain": [
       "\"'lahari'\""
      ]
     },
     "execution_count": 4,
     "metadata": {},
     "output_type": "execute_result"
    }
   ],
   "source": [
    "name"
   ]
  },
  {
   "cell_type": "code",
   "execution_count": 10,
   "id": "8252338a-e137-44c6-b37b-c75415a7c2f4",
   "metadata": {},
   "outputs": [
    {
     "name": "stdin",
     "output_type": "stream",
     "text": [
      " h\n"
     ]
    }
   ],
   "source": [
    "num2=str(input())"
   ]
  },
  {
   "cell_type": "code",
   "execution_count": 11,
   "id": "affd47d8-72ba-41af-ba5f-9b64230a0379",
   "metadata": {},
   "outputs": [
    {
     "data": {
      "text/plain": [
       "'h'"
      ]
     },
     "execution_count": 11,
     "metadata": {},
     "output_type": "execute_result"
    }
   ],
   "source": [
    "num2\n"
   ]
  },
  {
   "cell_type": "code",
   "execution_count": 1,
   "id": "8256e990-5bc6-46ce-b4b8-bb3fe26a3f06",
   "metadata": {},
   "outputs": [
    {
     "name": "stdin",
     "output_type": "stream",
     "text": [
      " 4\n"
     ]
    }
   ],
   "source": [
    "num3=input()"
   ]
  },
  {
   "cell_type": "code",
   "execution_count": 3,
   "id": "5f2b8648-1cbd-43bf-b136-f56afe81d168",
   "metadata": {},
   "outputs": [
    {
     "data": {
      "text/plain": [
       "str"
      ]
     },
     "execution_count": 3,
     "metadata": {},
     "output_type": "execute_result"
    }
   ],
   "source": [
    "type(num3)"
   ]
  },
  {
   "cell_type": "code",
   "execution_count": 4,
   "id": "4b286952-dd57-4d68-a490-43f4e428cee5",
   "metadata": {},
   "outputs": [
    {
     "data": {
      "text/plain": [
       "4.0"
      ]
     },
     "execution_count": 4,
     "metadata": {},
     "output_type": "execute_result"
    }
   ],
   "source": [
    "float(num3)"
   ]
  },
  {
   "cell_type": "code",
   "execution_count": 6,
   "id": "ae8037d4-405c-452a-b88e-753de620f593",
   "metadata": {},
   "outputs": [
    {
     "name": "stdin",
     "output_type": "stream",
     "text": [
      " 9\n"
     ]
    }
   ],
   "source": [
    "favnum = int(input())"
   ]
  },
  {
   "cell_type": "code",
   "execution_count": 7,
   "id": "d528e2db-4146-40e5-b053-046a97c4f257",
   "metadata": {},
   "outputs": [
    {
     "data": {
      "text/plain": [
       "9"
      ]
     },
     "execution_count": 7,
     "metadata": {},
     "output_type": "execute_result"
    }
   ],
   "source": [
    "favnum\n"
   ]
  },
  {
   "cell_type": "code",
   "execution_count": 8,
   "id": "734f8870-b2a7-4b58-87e9-3b370aa0efa9",
   "metadata": {},
   "outputs": [
    {
     "data": {
      "text/plain": [
       "[20, 22, 24, 26, 28, 30]"
      ]
     },
     "execution_count": 8,
     "metadata": {},
     "output_type": "execute_result"
    }
   ],
   "source": [
    "list(range(20,31,2))"
   ]
  },
  {
   "cell_type": "code",
   "execution_count": 9,
   "id": "faf4d445-31e0-453a-8760-11acc081cf79",
   "metadata": {},
   "outputs": [
    {
     "name": "stdout",
     "output_type": "stream",
     "text": [
      "index: 0, letter: j\n",
      "index: 1, letter: a\n",
      "index: 2, letter: i\n",
      "index: 3, letter:  \n",
      "index: 4, letter: g\n",
      "index: 5, letter: a\n",
      "index: 6, letter: n\n",
      "index: 7, letter: e\n",
      "index: 8, letter: s\n",
      "index: 9, letter: h\n"
     ]
    }
   ],
   "source": [
    "for count,let in enumerate('jai ganesh'):\n",
    "    print(f'index: {count}, letter: {let}')"
   ]
  },
  {
   "cell_type": "code",
   "execution_count": 10,
   "id": "13cf7223-c464-408c-b7d6-5416b674d89a",
   "metadata": {},
   "outputs": [
    {
     "data": {
      "text/plain": [
       "[(0, 's'),\n",
       " (1, 'o'),\n",
       " (2, 'f'),\n",
       " (3, 't'),\n",
       " (4, 'w'),\n",
       " (5, 'a'),\n",
       " (6, 'r'),\n",
       " (7, 'e'),\n",
       " (8, ' '),\n",
       " (9, 'd'),\n",
       " (10, 'e'),\n",
       " (11, 'v'),\n",
       " (12, 'e'),\n",
       " (13, 'l'),\n",
       " (14, 'o'),\n",
       " (15, 'p'),\n",
       " (16, 'e'),\n",
       " (17, 'r')]"
      ]
     },
     "execution_count": 10,
     "metadata": {},
     "output_type": "execute_result"
    }
   ],
   "source": [
    "list(enumerate('software developer'))"
   ]
  },
  {
   "cell_type": "code",
   "execution_count": 11,
   "id": "8c465282-01f9-4c4e-9fe1-1e447c45591e",
   "metadata": {},
   "outputs": [
    {
     "name": "stdout",
     "output_type": "stream",
     "text": [
      "index: 0\n",
      "letter: j\n",
      "index: 1\n",
      "letter: a\n",
      "index: 2\n",
      "letter: i\n",
      "index: 3\n",
      "letter:  \n",
      "index: 4\n",
      "letter: g\n",
      "index: 5\n",
      "letter: a\n",
      "index: 6\n",
      "letter: n\n",
      "index: 7\n",
      "letter: e\n",
      "index: 8\n",
      "letter: s\n",
      "index: 9\n",
      "letter: h\n"
     ]
    }
   ],
   "source": [
    "for count,let in enumerate('jai ganesh'):\n",
    "    print(f'index: {count}')\n",
    "    print(f'letter: {let}')"
   ]
  },
  {
   "cell_type": "code",
   "execution_count": 15,
   "id": "882ba88b-13bc-4ab1-b388-8641011d7033",
   "metadata": {},
   "outputs": [
    {
     "data": {
      "text/plain": [
       "[('a', 'c'), ('b', 'd')]"
      ]
     },
     "execution_count": 15,
     "metadata": {},
     "output_type": "execute_result"
    }
   ],
   "source": [
    "list1=['a','b']\n",
    "list2=['c','d']\n",
    "list(zip(list1,list2))"
   ]
  },
  {
   "cell_type": "code",
   "execution_count": 16,
   "id": "79be48a1-59c3-48fb-b301-3b1b4d045dda",
   "metadata": {},
   "outputs": [
    {
     "name": "stdout",
     "output_type": "stream",
     "text": [
      "a:c\n",
      "b:d\n"
     ]
    }
   ],
   "source": [
    "for i1,i2 in zip(list1,list2):\n",
    "    print(f'{i1}:{i2}')"
   ]
  },
  {
   "cell_type": "code",
   "execution_count": 17,
   "id": "17bfc01d-e7b5-401b-9dde-06bae8a6da17",
   "metadata": {},
   "outputs": [
    {
     "data": {
      "text/plain": [
       "False"
      ]
     },
     "execution_count": 17,
     "metadata": {},
     "output_type": "execute_result"
    }
   ],
   "source": [
    "'a' not in 'Software Developer'"
   ]
  },
  {
   "cell_type": "code",
   "execution_count": 18,
   "id": "b3d609f5-56ed-4462-914d-cad7dfce9032",
   "metadata": {},
   "outputs": [
    {
     "data": {
      "text/plain": [
       "True"
      ]
     },
     "execution_count": 18,
     "metadata": {},
     "output_type": "execute_result"
    }
   ],
   "source": [
    "'z' not in 'Software Developer'"
   ]
  },
  {
   "cell_type": "code",
   "execution_count": null,
   "id": "063857a5-bc89-4ea5-a680-a9904fa6695f",
   "metadata": {},
   "outputs": [],
   "source": []
  }
 ],
 "metadata": {
  "kernelspec": {
   "display_name": "Python 3 (ipykernel)",
   "language": "python",
   "name": "python3"
  },
  "language_info": {
   "codemirror_mode": {
    "name": "ipython",
    "version": 3
   },
   "file_extension": ".py",
   "mimetype": "text/x-python",
   "name": "python",
   "nbconvert_exporter": "python",
   "pygments_lexer": "ipython3",
   "version": "3.11.7"
  }
 },
 "nbformat": 4,
 "nbformat_minor": 5
}
