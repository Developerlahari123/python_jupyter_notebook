{
 "cells": [
  {
   "cell_type": "code",
   "execution_count": 1,
   "id": "c2051461-784b-408a-9f18-e4106ab15a78",
   "metadata": {},
   "outputs": [
    {
     "data": {
      "text/plain": [
       "True"
      ]
     },
     "execution_count": 1,
     "metadata": {},
     "output_type": "execute_result"
    }
   ],
   "source": [
    "5.0==5"
   ]
  },
  {
   "cell_type": "code",
   "execution_count": 3,
   "id": "3869235a-cbcd-4b81-a275-b5c8d51538a7",
   "metadata": {},
   "outputs": [
    {
     "data": {
      "text/plain": [
       "False"
      ]
     },
     "execution_count": 3,
     "metadata": {},
     "output_type": "execute_result"
    }
   ],
   "source": [
    "'g'=='a'"
   ]
  },
  {
   "cell_type": "code",
   "execution_count": 4,
   "id": "a8c10e2d-5b15-49eb-8958-0494ac1e0c2c",
   "metadata": {},
   "outputs": [
    {
     "data": {
      "text/plain": [
       "False"
      ]
     },
     "execution_count": 4,
     "metadata": {},
     "output_type": "execute_result"
    }
   ],
   "source": [
    "'G'=='g'"
   ]
  },
  {
   "cell_type": "code",
   "execution_count": 5,
   "id": "efac323d-aa1c-4dd2-b24b-78199abd20df",
   "metadata": {},
   "outputs": [
    {
     "data": {
      "text/plain": [
       "False"
      ]
     },
     "execution_count": 5,
     "metadata": {},
     "output_type": "execute_result"
    }
   ],
   "source": [
    "'True'==True"
   ]
  },
  {
   "cell_type": "code",
   "execution_count": 7,
   "id": "7a9335b5-a0e8-42f0-ab7e-a88255da421b",
   "metadata": {},
   "outputs": [
    {
     "data": {
      "text/plain": [
       "False"
      ]
     },
     "execution_count": 7,
     "metadata": {},
     "output_type": "execute_result"
    }
   ],
   "source": [
    "3.0 != 3"
   ]
  },
  {
   "cell_type": "code",
   "execution_count": 8,
   "id": "1c090b29-88c7-4891-8807-7fbca8919c4e",
   "metadata": {},
   "outputs": [
    {
     "data": {
      "text/plain": [
       "True"
      ]
     },
     "execution_count": 8,
     "metadata": {},
     "output_type": "execute_result"
    }
   ],
   "source": [
    "5>=5.0"
   ]
  },
  {
   "cell_type": "markdown",
   "id": "2ba3adee-da40-4c5f-93da-966c8049be51",
   "metadata": {},
   "source": [
    "logical operators - \n",
    "and\n",
    "or\n",
    "not"
   ]
  },
  {
   "cell_type": "code",
   "execution_count": 9,
   "id": "67d9f394-32bc-4739-bd60-47ed4b0451d6",
   "metadata": {},
   "outputs": [
    {
     "data": {
      "text/plain": [
       "True"
      ]
     },
     "execution_count": 9,
     "metadata": {},
     "output_type": "execute_result"
    }
   ],
   "source": [
    "4<8"
   ]
  },
  {
   "cell_type": "code",
   "execution_count": 10,
   "id": "ee003514-f618-4eba-8068-4dd6ed276677",
   "metadata": {},
   "outputs": [
    {
     "data": {
      "text/plain": [
       "True"
      ]
     },
     "execution_count": 10,
     "metadata": {},
     "output_type": "execute_result"
    }
   ],
   "source": [
    "8>6"
   ]
  },
  {
   "cell_type": "code",
   "execution_count": 11,
   "id": "e7dbb22a-acc4-4487-be4a-5e8c2b9fcfca",
   "metadata": {},
   "outputs": [
    {
     "data": {
      "text/plain": [
       "True"
      ]
     },
     "execution_count": 11,
     "metadata": {},
     "output_type": "execute_result"
    }
   ],
   "source": [
    "4<6<8"
   ]
  },
  {
   "cell_type": "code",
   "execution_count": 13,
   "id": "1233ccb2-7cad-4eac-ad7c-e968370d83b5",
   "metadata": {},
   "outputs": [
    {
     "data": {
      "text/plain": [
       "False"
      ]
     },
     "execution_count": 13,
     "metadata": {},
     "output_type": "execute_result"
    }
   ],
   "source": [
    "4<6>8"
   ]
  },
  {
   "cell_type": "code",
   "execution_count": 14,
   "id": "29167c40-c5d7-47b4-90da-82619c22a376",
   "metadata": {},
   "outputs": [
    {
     "data": {
      "text/plain": [
       "False"
      ]
     },
     "execution_count": 14,
     "metadata": {},
     "output_type": "execute_result"
    }
   ],
   "source": [
    "4<6 and 6>8"
   ]
  },
  {
   "cell_type": "code",
   "execution_count": 15,
   "id": "2b688f0b-1d3c-4432-9db7-3212942ebaf6",
   "metadata": {},
   "outputs": [
    {
     "data": {
      "text/plain": [
       "True"
      ]
     },
     "execution_count": 15,
     "metadata": {},
     "output_type": "execute_result"
    }
   ],
   "source": [
    "4<6 and 6<8"
   ]
  },
  {
   "cell_type": "code",
   "execution_count": 22,
   "id": "59304aa0-9755-4ac9-8a9a-76a8dd9cc6b0",
   "metadata": {},
   "outputs": [
    {
     "data": {
      "text/plain": [
       "False"
      ]
     },
     "execution_count": 22,
     "metadata": {},
     "output_type": "execute_result"
    }
   ],
   "source": [
    "('G'<'g') and (10<10.0)"
   ]
  },
  {
   "cell_type": "code",
   "execution_count": 23,
   "id": "af72f12e-ac63-45c1-b687-cc048e1afe2f",
   "metadata": {},
   "outputs": [
    {
     "data": {
      "text/plain": [
       "True"
      ]
     },
     "execution_count": 23,
     "metadata": {},
     "output_type": "execute_result"
    }
   ],
   "source": [
    "('G'<'g') or (10<10.0)"
   ]
  },
  {
   "cell_type": "code",
   "execution_count": 24,
   "id": "24b55214-4e08-4604-b7aa-085b0a4ba705",
   "metadata": {},
   "outputs": [
    {
     "data": {
      "text/plain": [
       "False"
      ]
     },
     "execution_count": 24,
     "metadata": {},
     "output_type": "execute_result"
    }
   ],
   "source": [
    "not(('G'<'g') or (10<10.0))"
   ]
  },
  {
   "cell_type": "code",
   "execution_count": 20,
   "id": "e989a25e-cdac-4d02-84f3-d0844522ccdf",
   "metadata": {},
   "outputs": [
    {
     "data": {
      "text/plain": [
       "True"
      ]
     },
     "execution_count": 20,
     "metadata": {},
     "output_type": "execute_result"
    }
   ],
   "source": [
    "'G'<'g'"
   ]
  },
  {
   "cell_type": "code",
   "execution_count": 21,
   "id": "681ab20f-eba8-4637-9832-ae02b162456e",
   "metadata": {},
   "outputs": [
    {
     "data": {
      "text/plain": [
       "False"
      ]
     },
     "execution_count": 21,
     "metadata": {},
     "output_type": "execute_result"
    }
   ],
   "source": [
    "10<10.0"
   ]
  },
  {
   "cell_type": "code",
   "execution_count": 25,
   "id": "a1e8b307-9c7f-454c-b63a-8c50bfbd024c",
   "metadata": {},
   "outputs": [
    {
     "data": {
      "text/plain": [
       "False"
      ]
     },
     "execution_count": 25,
     "metadata": {},
     "output_type": "execute_result"
    }
   ],
   "source": [
    "not 1!=2"
   ]
  },
  {
   "cell_type": "code",
   "execution_count": 27,
   "id": "355c765c-3f1b-4ebe-a99c-332afb285d9a",
   "metadata": {},
   "outputs": [
    {
     "data": {
      "text/plain": [
       "False"
      ]
     },
     "execution_count": 27,
     "metadata": {},
     "output_type": "execute_result"
    }
   ],
   "source": [
    "not  'G'=='G'"
   ]
  },
  {
   "cell_type": "code",
   "execution_count": null,
   "id": "8d424305-a78f-48e1-9ffa-d22ea0994847",
   "metadata": {},
   "outputs": [],
   "source": []
  }
 ],
 "metadata": {
  "kernelspec": {
   "display_name": "Python 3 (ipykernel)",
   "language": "python",
   "name": "python3"
  },
  "language_info": {
   "codemirror_mode": {
    "name": "ipython",
    "version": 3
   },
   "file_extension": ".py",
   "mimetype": "text/x-python",
   "name": "python",
   "nbconvert_exporter": "python",
   "pygments_lexer": "ipython3",
   "version": "3.11.7"
  }
 },
 "nbformat": 4,
 "nbformat_minor": 5
}
