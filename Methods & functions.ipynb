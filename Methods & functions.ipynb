{
 "cells": [
  {
   "cell_type": "markdown",
   "id": "2100edad-00d6-4a91-8584-db1bd115bb77",
   "metadata": {},
   "source": [
    "built in objects in python have a variety of methods\n",
    "\n",
    "methods are functions that are built into objects\n",
    "\n",
    "own objects and methods can be created using object oriented programming\n",
    "\n"
   ]
  },
  {
   "cell_type": "markdown",
   "id": "7e6b81e3-73ec-4593-b8db-71fe8630276a",
   "metadata": {},
   "source": [
    "How to find methods and how to get information about them for built in objects in python"
   ]
  },
  {
   "cell_type": "code",
   "execution_count": 1,
   "id": "b3ad3043-64d5-40b6-8529-21f2834f1c9e",
   "metadata": {},
   "outputs": [
    {
     "data": {
      "text/plain": [
       "['s', 1, 9, 0]"
      ]
     },
     "execution_count": 1,
     "metadata": {},
     "output_type": "execute_result"
    }
   ],
   "source": [
    "list1=['s',1,9]\n",
    "list1.append(0)\n",
    "list1"
   ]
  },
  {
   "cell_type": "code",
   "execution_count": 2,
   "id": "38a94623-8053-4cd4-903c-7c9ce572dc09",
   "metadata": {},
   "outputs": [
    {
     "data": {
      "text/plain": [
       "0"
      ]
     },
     "execution_count": 2,
     "metadata": {},
     "output_type": "execute_result"
    }
   ],
   "source": [
    "list1.pop()"
   ]
  },
  {
   "cell_type": "code",
   "execution_count": 3,
   "id": "465bb034-16c7-4a14-8895-4ca08f3a47df",
   "metadata": {},
   "outputs": [
    {
     "data": {
      "text/plain": [
       "['s', 1, 9]"
      ]
     },
     "execution_count": 3,
     "metadata": {},
     "output_type": "execute_result"
    }
   ],
   "source": [
    "list1"
   ]
  },
  {
   "cell_type": "markdown",
   "id": "e7760f16-9cfc-49a3-bf0f-26469cae55dd",
   "metadata": {},
   "source": [
    "ways to get the list oof methods in python for various built-in objects"
   ]
  },
  {
   "cell_type": "code",
   "execution_count": 8,
   "id": "92ea8a7c-c447-4dda-a8de-732866837c32",
   "metadata": {},
   "outputs": [],
   "source": [
    "list1.insert(2,8)"
   ]
  },
  {
   "cell_type": "code",
   "execution_count": 5,
   "id": "9b3df662-7cb4-43c9-b563-85b8c5fc01a3",
   "metadata": {},
   "outputs": [
    {
     "data": {
      "text/plain": [
       "['s', 1, 8, 9]"
      ]
     },
     "execution_count": 5,
     "metadata": {},
     "output_type": "execute_result"
    }
   ],
   "source": [
    "list1"
   ]
  },
  {
   "cell_type": "code",
   "execution_count": 11,
   "id": "e53fdccd-95da-4f98-a0f7-b6ac0e1c28a7",
   "metadata": {},
   "outputs": [
    {
     "name": "stdout",
     "output_type": "stream",
     "text": [
      "Help on built-in function insert:\n",
      "\n",
      "insert(index, object, /) method of builtins.list instance\n",
      "    Insert object before index.\n",
      "\n"
     ]
    }
   ],
   "source": [
    "help(list1.insert)"
   ]
  },
  {
   "cell_type": "code",
   "execution_count": 12,
   "id": "ad322c54-0f84-4039-b1ca-ec654c3a2d61",
   "metadata": {},
   "outputs": [],
   "source": [
    "#python documentation\n",
    "#https://docs.python.org/"
   ]
  },
  {
   "cell_type": "code",
   "execution_count": 15,
   "id": "88941d63-4bf5-4dda-be08-4d07ea495517",
   "metadata": {},
   "outputs": [],
   "source": [
    "def evennums(n):\n",
    "    for i in range(0,n):\n",
    "        if i%2==0:\n",
    "            print(i)\n",
    "        "
   ]
  },
  {
   "cell_type": "code",
   "execution_count": 16,
   "id": "190ee0d5-b167-4faf-ad4c-017dcecc7a80",
   "metadata": {},
   "outputs": [
    {
     "name": "stdout",
     "output_type": "stream",
     "text": [
      "0\n",
      "2\n",
      "4\n",
      "6\n",
      "8\n",
      "10\n"
     ]
    }
   ],
   "source": [
    "l=evennums(11)"
   ]
  },
  {
   "cell_type": "code",
   "execution_count": 20,
   "id": "ac4a1ad1-8ccf-4b0d-8982-f151b7bdea5d",
   "metadata": {},
   "outputs": [],
   "source": [
    "l"
   ]
  },
  {
   "cell_type": "code",
   "execution_count": 19,
   "id": "23e10fa9-c94f-48e9-a5a2-554063958143",
   "metadata": {},
   "outputs": [
    {
     "data": {
      "text/plain": [
       "NoneType"
      ]
     },
     "execution_count": 19,
     "metadata": {},
     "output_type": "execute_result"
    }
   ],
   "source": [
    "type(l)"
   ]
  },
  {
   "cell_type": "code",
   "execution_count": 21,
   "id": "96064962-8931-465c-8a44-608ddf15da9e",
   "metadata": {},
   "outputs": [],
   "source": [
    "def evennums(n):\n",
    "    for i in range(0,n):\n",
    "        if i%2==0:\n",
    "            return(i)\n",
    "        "
   ]
  },
  {
   "cell_type": "code",
   "execution_count": 22,
   "id": "418da3f3-0882-4b8f-af5f-4ae89aee233d",
   "metadata": {},
   "outputs": [],
   "source": [
    "j=evennums(11)"
   ]
  },
  {
   "cell_type": "code",
   "execution_count": 23,
   "id": "5b217cbc-f8eb-459c-b94e-2a587c4bd489",
   "metadata": {},
   "outputs": [
    {
     "data": {
      "text/plain": [
       "0"
      ]
     },
     "execution_count": 23,
     "metadata": {},
     "output_type": "execute_result"
    }
   ],
   "source": [
    "j"
   ]
  },
  {
   "cell_type": "code",
   "execution_count": 25,
   "id": "4803d4af-8a14-4e9d-814f-8fadfbbf85d9",
   "metadata": {},
   "outputs": [
    {
     "data": {
      "text/plain": [
       "int"
      ]
     },
     "execution_count": 25,
     "metadata": {},
     "output_type": "execute_result"
    }
   ],
   "source": [
    "type(j)"
   ]
  },
  {
   "cell_type": "code",
   "execution_count": null,
   "id": "8759ac56-778e-4448-b647-6ce560996bff",
   "metadata": {},
   "outputs": [],
   "source": [
    "#print a random integer b/w 2 numbers"
   ]
  },
  {
   "cell_type": "code",
   "execution_count": 28,
   "id": "70525822-a01b-4568-930b-5ad7c5ee6a93",
   "metadata": {},
   "outputs": [
    {
     "data": {
      "text/plain": [
       "9"
      ]
     },
     "execution_count": 28,
     "metadata": {},
     "output_type": "execute_result"
    }
   ],
   "source": [
    "import random\n",
    "randnum1=random.randint(1,11)\n",
    "randnum1"
   ]
  },
  {
   "cell_type": "code",
   "execution_count": 29,
   "id": "3e6f5c3f-4540-4659-a67e-f21b5f84ef28",
   "metadata": {},
   "outputs": [
    {
     "data": {
      "text/plain": [
       "5"
      ]
     },
     "execution_count": 29,
     "metadata": {},
     "output_type": "execute_result"
    }
   ],
   "source": [
    "randnum2=random.randint(1,11)\n",
    "randnum2"
   ]
  },
  {
   "cell_type": "code",
   "execution_count": 32,
   "id": "039ef939-3b50-47e9-9940-f428f73fda18",
   "metadata": {},
   "outputs": [],
   "source": [
    "def devotion(diety='om gam ganapataye namaha'):\n",
    "    print(f'jai sri {diety}')"
   ]
  },
  {
   "cell_type": "code",
   "execution_count": 33,
   "id": "5100a99c-0279-48da-836a-a5bf378d2c3e",
   "metadata": {},
   "outputs": [
    {
     "name": "stdout",
     "output_type": "stream",
     "text": [
      "jai sri ram\n"
     ]
    }
   ],
   "source": [
    "devotion('ram')"
   ]
  },
  {
   "cell_type": "code",
   "execution_count": 34,
   "id": "f9ed6f2d-a1b9-48d1-b74c-abeec75952c7",
   "metadata": {},
   "outputs": [
    {
     "name": "stdout",
     "output_type": "stream",
     "text": [
      "jai sri om gam ganapataye namaha\n"
     ]
    }
   ],
   "source": [
    "devotion()"
   ]
  },
  {
   "cell_type": "code",
   "execution_count": 37,
   "id": "ceee79b5-90af-49cd-9bbe-6a54cf6cd78c",
   "metadata": {},
   "outputs": [],
   "source": [
    "def odd_check(n1):\n",
    "    r=n1%2!=0\n",
    "    return r"
   ]
  },
  {
   "cell_type": "code",
   "execution_count": 38,
   "id": "8790beff-6c25-4497-baea-b7aa8b280310",
   "metadata": {},
   "outputs": [
    {
     "data": {
      "text/plain": [
       "True"
      ]
     },
     "execution_count": 38,
     "metadata": {},
     "output_type": "execute_result"
    }
   ],
   "source": [
    "odd_check(11)"
   ]
  },
  {
   "cell_type": "code",
   "execution_count": 39,
   "id": "12d21760-d4d6-41ee-8cca-6bf89ef628b8",
   "metadata": {},
   "outputs": [],
   "source": [
    "def odd_check(n1):\n",
    "    return n1%2!=0"
   ]
  },
  {
   "cell_type": "code",
   "execution_count": 40,
   "id": "d5e68c88-6ca9-4c01-82ec-0c5a106d25c8",
   "metadata": {},
   "outputs": [
    {
     "data": {
      "text/plain": [
       "True"
      ]
     },
     "execution_count": 40,
     "metadata": {},
     "output_type": "execute_result"
    }
   ],
   "source": [
    "odd_check(21)"
   ]
  },
  {
   "cell_type": "code",
   "execution_count": 8,
   "id": "24496bde-2d9f-4178-9013-032dc8b912cc",
   "metadata": {},
   "outputs": [],
   "source": [
    "def sum_double(a, b):\n",
    "  if a!=b:\n",
    "    return a+b\n",
    "  else:\n",
    "      return 2*(a+b)\n",
    "\n"
   ]
  },
  {
   "cell_type": "code",
   "execution_count": 9,
   "id": "f76a2cba-377b-46cc-b5b7-bedc4044496a",
   "metadata": {},
   "outputs": [
    {
     "data": {
      "text/plain": [
       "16"
      ]
     },
     "execution_count": 9,
     "metadata": {},
     "output_type": "execute_result"
    }
   ],
   "source": [
    "sum_double(4, 4)"
   ]
  },
  {
   "cell_type": "code",
   "execution_count": null,
   "id": "2f776444-41c6-4438-b7f2-7f266f9d002b",
   "metadata": {},
   "outputs": [],
   "source": []
  }
 ],
 "metadata": {
  "kernelspec": {
   "display_name": "Python 3 (ipykernel)",
   "language": "python",
   "name": "python3"
  },
  "language_info": {
   "codemirror_mode": {
    "name": "ipython",
    "version": 3
   },
   "file_extension": ".py",
   "mimetype": "text/x-python",
   "name": "python",
   "nbconvert_exporter": "python",
   "pygments_lexer": "ipython3",
   "version": "3.11.7"
  }
 },
 "nbformat": 4,
 "nbformat_minor": 5
}
