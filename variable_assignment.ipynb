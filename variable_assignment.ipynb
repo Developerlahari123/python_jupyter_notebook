{
 "cells": [
  {
   "cell_type": "code",
   "execution_count": 2,
   "id": "81f7c088-fd15-4f5c-947f-6992ca60c4fa",
   "metadata": {},
   "outputs": [],
   "source": [
    "g=9"
   ]
  },
  {
   "cell_type": "code",
   "execution_count": 3,
   "id": "7b8f19ed-7bab-4581-b59e-b8463ed44834",
   "metadata": {},
   "outputs": [
    {
     "data": {
      "text/plain": [
       "9"
      ]
     },
     "execution_count": 3,
     "metadata": {},
     "output_type": "execute_result"
    }
   ],
   "source": [
    "g"
   ]
  },
  {
   "cell_type": "code",
   "execution_count": 4,
   "id": "146d7b51-8709-4195-92e7-5ebc3e6d86b1",
   "metadata": {},
   "outputs": [],
   "source": [
    "g=2"
   ]
  },
  {
   "cell_type": "code",
   "execution_count": 5,
   "id": "d0dcf1fb-e5d4-4909-9498-ba601c734d2f",
   "metadata": {},
   "outputs": [
    {
     "data": {
      "text/plain": [
       "2"
      ]
     },
     "execution_count": 5,
     "metadata": {},
     "output_type": "execute_result"
    }
   ],
   "source": [
    "g"
   ]
  },
  {
   "cell_type": "code",
   "execution_count": 6,
   "id": "2d4d5105-4c97-4810-ac89-15da3317ac06",
   "metadata": {},
   "outputs": [
    {
     "data": {
      "text/plain": [
       "4"
      ]
     },
     "execution_count": 6,
     "metadata": {},
     "output_type": "execute_result"
    }
   ],
   "source": [
    "g**2"
   ]
  },
  {
   "cell_type": "code",
   "execution_count": 7,
   "id": "8c7aff77-4b2c-471a-818c-168319d56332",
   "metadata": {},
   "outputs": [
    {
     "data": {
      "text/plain": [
       "32"
      ]
     },
     "execution_count": 7,
     "metadata": {},
     "output_type": "execute_result"
    }
   ],
   "source": [
    "g**5"
   ]
  },
  {
   "cell_type": "code",
   "execution_count": 8,
   "id": "780d1d99-cfa8-4f61-9457-a4ba32cf279c",
   "metadata": {},
   "outputs": [],
   "source": [
    "g=20"
   ]
  },
  {
   "cell_type": "code",
   "execution_count": 16,
   "id": "6590370a-5aeb-4bc9-a9b0-91bdc9f3531b",
   "metadata": {},
   "outputs": [],
   "source": [
    "g=g+g"
   ]
  },
  {
   "cell_type": "code",
   "execution_count": 17,
   "id": "36ce0d3a-4312-4d41-9e6c-6852afde95b2",
   "metadata": {},
   "outputs": [
    {
     "data": {
      "text/plain": [
       "320"
      ]
     },
     "execution_count": 17,
     "metadata": {},
     "output_type": "execute_result"
    }
   ],
   "source": [
    "g"
   ]
  },
  {
   "cell_type": "code",
   "execution_count": 18,
   "id": "28054c8a-309d-4920-8aa8-114e7dd4e8e4",
   "metadata": {},
   "outputs": [
    {
     "data": {
      "text/plain": [
       "int"
      ]
     },
     "execution_count": 18,
     "metadata": {},
     "output_type": "execute_result"
    }
   ],
   "source": [
    "type(g)"
   ]
  },
  {
   "cell_type": "code",
   "execution_count": 19,
   "id": "c6a7d02a-cd36-4174-b227-c1d081d60ec2",
   "metadata": {},
   "outputs": [],
   "source": [
    "g=19.6"
   ]
  },
  {
   "cell_type": "code",
   "execution_count": 20,
   "id": "80825e02-f1f2-4048-ad94-656b55abef6b",
   "metadata": {},
   "outputs": [
    {
     "data": {
      "text/plain": [
       "float"
      ]
     },
     "execution_count": 20,
     "metadata": {},
     "output_type": "execute_result"
    }
   ],
   "source": [
    "type(g)"
   ]
  },
  {
   "cell_type": "code",
   "execution_count": 21,
   "id": "94757dc6-b1d7-41c4-ad6d-8d6f97cca213",
   "metadata": {},
   "outputs": [],
   "source": [
    "g=\"ganesh\""
   ]
  },
  {
   "cell_type": "code",
   "execution_count": 22,
   "id": "79e80240-a677-440f-953f-331ff7e1c5bc",
   "metadata": {},
   "outputs": [
    {
     "data": {
      "text/plain": [
       "str"
      ]
     },
     "execution_count": 22,
     "metadata": {},
     "output_type": "execute_result"
    }
   ],
   "source": [
    "type(g)"
   ]
  },
  {
   "cell_type": "code",
   "execution_count": 23,
   "id": "f63acbfb-47ff-4de0-9854-f4798cc4e949",
   "metadata": {},
   "outputs": [],
   "source": [
    "income=30000"
   ]
  },
  {
   "cell_type": "code",
   "execution_count": 25,
   "id": "c839bf30-fa1d-4758-8a20-114600d7fa67",
   "metadata": {},
   "outputs": [],
   "source": [
    "tax_rate=0.2"
   ]
  },
  {
   "cell_type": "code",
   "execution_count": 26,
   "id": "e987297a-a26f-441c-9251-df3ab4ce82d0",
   "metadata": {},
   "outputs": [],
   "source": [
    "tax=income*tax_rate"
   ]
  },
  {
   "cell_type": "code",
   "execution_count": 27,
   "id": "ca687937-d1fd-4ec2-abb5-e6dd15498b8b",
   "metadata": {},
   "outputs": [
    {
     "data": {
      "text/plain": [
       "6000.0"
      ]
     },
     "execution_count": 27,
     "metadata": {},
     "output_type": "execute_result"
    }
   ],
   "source": [
    "tax"
   ]
  },
  {
   "cell_type": "code",
   "execution_count": 28,
   "id": "189fee1b-02dd-4ba7-bd37-d9e7d615a5a8",
   "metadata": {},
   "outputs": [],
   "source": [
    "inhand=income-tax"
   ]
  },
  {
   "cell_type": "code",
   "execution_count": 29,
   "id": "6a14c4df-8538-4ecf-85c0-26a9f5593c57",
   "metadata": {},
   "outputs": [
    {
     "data": {
      "text/plain": [
       "24000.0"
      ]
     },
     "execution_count": 29,
     "metadata": {},
     "output_type": "execute_result"
    }
   ],
   "source": [
    "inhand"
   ]
  },
  {
   "cell_type": "code",
   "execution_count": 1,
   "id": "6becbc45-6ddc-4da4-92f4-52ab2cefff46",
   "metadata": {},
   "outputs": [],
   "source": [
    "#shortcut reassignment operator"
   ]
  },
  {
   "cell_type": "code",
   "execution_count": 21,
   "id": "4e357cf6-c0d7-4129-a83e-067e76c5815b",
   "metadata": {},
   "outputs": [],
   "source": [
    "q=17544 "
   ]
  },
  {
   "cell_type": "code",
   "execution_count": 25,
   "id": "1160dc4f-ce4f-4561-ba9d-76cd831f50de",
   "metadata": {},
   "outputs": [],
   "source": [
    "q+=9  #q=q+9"
   ]
  },
  {
   "cell_type": "code",
   "execution_count": 26,
   "id": "96b81076-a2bc-4ca8-97f1-bfb28880e110",
   "metadata": {},
   "outputs": [
    {
     "data": {
      "text/plain": [
       "17535"
      ]
     },
     "execution_count": 26,
     "metadata": {},
     "output_type": "execute_result"
    }
   ],
   "source": [
    "q"
   ]
  },
  {
   "cell_type": "code",
   "execution_count": 11,
   "id": "23686c5b-9274-4d41-97ca-4b9842218f1d",
   "metadata": {},
   "outputs": [],
   "source": [
    "w=5"
   ]
  },
  {
   "cell_type": "code",
   "execution_count": 12,
   "id": "9485328b-6e5b-4b5b-9ea5-229ed6a49d71",
   "metadata": {},
   "outputs": [],
   "source": [
    "w*=4 #w=w*4"
   ]
  },
  {
   "cell_type": "code",
   "execution_count": 13,
   "id": "ddaf6a3f-6fe0-4e1f-97f3-068f47f5aa28",
   "metadata": {},
   "outputs": [
    {
     "data": {
      "text/plain": [
       "20"
      ]
     },
     "execution_count": 13,
     "metadata": {},
     "output_type": "execute_result"
    }
   ],
   "source": [
    "w"
   ]
  },
  {
   "cell_type": "code",
   "execution_count": 14,
   "id": "f530de99-0f08-4763-903c-e02acaf2ed2a",
   "metadata": {},
   "outputs": [],
   "source": [
    "e=180"
   ]
  },
  {
   "cell_type": "code",
   "execution_count": 15,
   "id": "4a12a458-b55a-4760-aa0e-4e3ec0a3eedb",
   "metadata": {},
   "outputs": [],
   "source": [
    "e/=9 #e=e/9"
   ]
  },
  {
   "cell_type": "code",
   "execution_count": 16,
   "id": "cd5ad962-b001-408b-b1df-21871ffd5ecd",
   "metadata": {},
   "outputs": [
    {
     "data": {
      "text/plain": [
       "20.0"
      ]
     },
     "execution_count": 16,
     "metadata": {},
     "output_type": "execute_result"
    }
   ],
   "source": [
    "e"
   ]
  },
  {
   "cell_type": "code",
   "execution_count": 28,
   "id": "b9a42552-53c0-438c-83e2-95b83d235fd4",
   "metadata": {},
   "outputs": [],
   "source": [
    "h=98877"
   ]
  },
  {
   "cell_type": "code",
   "execution_count": 29,
   "id": "d7de68e8-ec6e-4099-9c4c-4697430611f5",
   "metadata": {},
   "outputs": [],
   "source": [
    "h-=26 #h=h-26"
   ]
  },
  {
   "cell_type": "code",
   "execution_count": 30,
   "id": "8ed3e47c-d93d-4cf9-bed2-2fce42e8f070",
   "metadata": {},
   "outputs": [
    {
     "data": {
      "text/plain": [
       "98851"
      ]
     },
     "execution_count": 30,
     "metadata": {},
     "output_type": "execute_result"
    }
   ],
   "source": [
    "h"
   ]
  },
  {
   "cell_type": "code",
   "execution_count": null,
   "id": "59177ef9-9f94-4095-894b-529d215b2698",
   "metadata": {},
   "outputs": [],
   "source": []
  }
 ],
 "metadata": {
  "kernelspec": {
   "display_name": "Python 3 (ipykernel)",
   "language": "python",
   "name": "python3"
  },
  "language_info": {
   "codemirror_mode": {
    "name": "ipython",
    "version": 3
   },
   "file_extension": ".py",
   "mimetype": "text/x-python",
   "name": "python",
   "nbconvert_exporter": "python",
   "pygments_lexer": "ipython3",
   "version": "3.11.7"
  }
 },
 "nbformat": 4,
 "nbformat_minor": 5
}
