{
 "cells": [
  {
   "cell_type": "code",
   "execution_count": 1,
   "id": "b8d78574-e08a-4b61-9095-d9289509b7ae",
   "metadata": {},
   "outputs": [
    {
     "data": {
      "text/plain": [
       "3"
      ]
     },
     "execution_count": 1,
     "metadata": {},
     "output_type": "execute_result"
    }
   ],
   "source": [
    "7%4"
   ]
  },
  {
   "cell_type": "code",
   "execution_count": 2,
   "id": "4604a7f3-242e-4f6f-bb20-cf46c84fd13d",
   "metadata": {},
   "outputs": [
    {
     "data": {
      "text/plain": [
       "1.75"
      ]
     },
     "execution_count": 2,
     "metadata": {},
     "output_type": "execute_result"
    }
   ],
   "source": [
    "7/4"
   ]
  },
  {
   "cell_type": "code",
   "execution_count": 3,
   "id": "cc63a4b2-3dfb-4f78-8c7d-8527fb56aa03",
   "metadata": {},
   "outputs": [
    {
     "data": {
      "text/plain": [
       "8"
      ]
     },
     "execution_count": 3,
     "metadata": {},
     "output_type": "execute_result"
    }
   ],
   "source": [
    "2 ** 3"
   ]
  },
  {
   "cell_type": "markdown",
   "id": "d4dbdd0d-c1a3-4b5b-8608-8d491448ecb6",
   "metadata": {},
   "source": [
    "2 to the power 3 = 8"
   ]
  },
  {
   "cell_type": "code",
   "execution_count": 4,
   "id": "04be18ce-bb72-4e49-8be5-c678e4e542a9",
   "metadata": {},
   "outputs": [
    {
     "data": {
      "text/plain": [
       "60"
      ]
     },
     "execution_count": 4,
     "metadata": {},
     "output_type": "execute_result"
    }
   ],
   "source": [
    "3+9*6+3"
   ]
  },
  {
   "cell_type": "code",
   "execution_count": 5,
   "id": "d3287cfb-2aa8-45d9-aa96-3c7684c3e364",
   "metadata": {},
   "outputs": [
    {
     "data": {
      "text/plain": [
       "108"
      ]
     },
     "execution_count": 5,
     "metadata": {},
     "output_type": "execute_result"
    }
   ],
   "source": [
    "(3+9)*(6+3)"
   ]
  },
  {
   "cell_type": "code",
   "execution_count": 1,
   "id": "fdf4f0be-6022-486b-9422-39c0a8b30e09",
   "metadata": {},
   "outputs": [],
   "source": [
    "#floor division - cuts the numbers after decimal points only give whole numbers without rounding to nearest integer"
   ]
  },
  {
   "cell_type": "code",
   "execution_count": 2,
   "id": "76deec50-a027-465b-86fc-62faa2959b24",
   "metadata": {},
   "outputs": [
    {
     "data": {
      "text/plain": [
       "1"
      ]
     },
     "execution_count": 2,
     "metadata": {},
     "output_type": "execute_result"
    }
   ],
   "source": [
    "7//4"
   ]
  },
  {
   "cell_type": "code",
   "execution_count": 3,
   "id": "8ebf5f35-3556-4542-b577-bbbdfb413871",
   "metadata": {},
   "outputs": [
    {
     "data": {
      "text/plain": [
       "24"
      ]
     },
     "execution_count": 3,
     "metadata": {},
     "output_type": "execute_result"
    }
   ],
   "source": [
    "123//5"
   ]
  },
  {
   "cell_type": "code",
   "execution_count": 5,
   "id": "06f3151b-43ca-46f3-99d3-439a135b6a18",
   "metadata": {},
   "outputs": [
    {
     "data": {
      "text/plain": [
       "1.4142135623730951"
      ]
     },
     "execution_count": 5,
     "metadata": {},
     "output_type": "execute_result"
    }
   ],
   "source": [
    "2**0.5 #root"
   ]
  },
  {
   "cell_type": "code",
   "execution_count": null,
   "id": "cbdd151d-281a-4c87-9969-6a0686e05f6e",
   "metadata": {},
   "outputs": [],
   "source": []
  }
 ],
 "metadata": {
  "kernelspec": {
   "display_name": "Python 3 (ipykernel)",
   "language": "python",
   "name": "python3"
  },
  "language_info": {
   "codemirror_mode": {
    "name": "ipython",
    "version": 3
   },
   "file_extension": ".py",
   "mimetype": "text/x-python",
   "name": "python",
   "nbconvert_exporter": "python",
   "pygments_lexer": "ipython3",
   "version": "3.11.7"
  }
 },
 "nbformat": 4,
 "nbformat_minor": 5
}
