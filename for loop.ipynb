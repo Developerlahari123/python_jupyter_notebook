{
 "cells": [
  {
   "cell_type": "markdown",
   "id": "e8cf0e13-0002-4c45-aad5-a7f37dfe0fcf",
   "metadata": {},
   "source": [
    "syntax\n",
    "\n",
    "eg: list1=[1,2,3,2]\n",
    "\n",
    "for e in list1:\n",
    "    print(e)"
   ]
  },
  {
   "cell_type": "code",
   "execution_count": 60,
   "id": "e73e3c46-12e5-43d3-aff0-2b2720bce217",
   "metadata": {},
   "outputs": [
    {
     "name": "stdout",
     "output_type": "stream",
     "text": [
      "1\n",
      "2\n",
      "3\n",
      "2\n"
     ]
    }
   ],
   "source": [
    " list1=[1,2,3,2]\n",
    "for e in list1:\n",
    "    print(e);\n"
   ]
  },
  {
   "cell_type": "code",
   "execution_count": 2,
   "id": "491bee23-793f-43a4-93fa-cfddd3d04275",
   "metadata": {},
   "outputs": [
    {
     "name": "stdout",
     "output_type": "stream",
     "text": [
      "om\n",
      "om\n",
      "om\n",
      "om\n"
     ]
    }
   ],
   "source": [
    "for e in list1:\n",
    "    print('om')"
   ]
  },
  {
   "cell_type": "code",
   "execution_count": 3,
   "id": "74cf91fe-f0d3-4486-aa78-bf72c51ea806",
   "metadata": {},
   "outputs": [],
   "source": [
    "list2=[11,12,13,14,15,16,17,18,19,20]"
   ]
  },
  {
   "cell_type": "code",
   "execution_count": 4,
   "id": "d27f3a10-e643-4ae8-ba78-1fe6ce6ab8b8",
   "metadata": {},
   "outputs": [
    {
     "name": "stdout",
     "output_type": "stream",
     "text": [
      "12\n",
      "14\n",
      "16\n",
      "18\n",
      "20\n"
     ]
    }
   ],
   "source": [
    "for n in list2:\n",
    "    if n%2==0:\n",
    "        print(n)\n",
    "    "
   ]
  },
  {
   "cell_type": "code",
   "execution_count": 12,
   "id": "8d7c6ae0-6104-48da-84bd-82d24dd2ebfd",
   "metadata": {},
   "outputs": [
    {
     "name": "stdout",
     "output_type": "stream",
     "text": [
      "odd: 5\n",
      "even: 5\n"
     ]
    }
   ],
   "source": [
    "ecount=0\n",
    "ocount=0\n",
    "for n in list2:\n",
    "    if n%2==0:\n",
    "        ecount+=1\n",
    "    if n%2!=0:\n",
    "        ocount+=1\n",
    "print('odd: %s'%ocount)\n",
    "print('even: %s'%ecount)"
   ]
  },
  {
   "cell_type": "code",
   "execution_count": 17,
   "id": "c9f0ecc6-0b65-4968-ab02-0549ef61ed58",
   "metadata": {},
   "outputs": [
    {
     "name": "stdout",
     "output_type": "stream",
     "text": [
      "odd: 5\n",
      "even: 5\n"
     ]
    }
   ],
   "source": [
    "ecount=0\n",
    "ocount=0\n",
    "for n in list2:\n",
    "    if n%2==0:\n",
    "        ecount+=1\n",
    "    if n%2!=0:\n",
    "        ocount+=1\n",
    "print(f'odd: {ocount}')\n",
    "print(f'even: {ecount}')"
   ]
  },
  {
   "cell_type": "code",
   "execution_count": null,
   "id": "57c7b8fa-dc3b-4964-9d91-2128484a27a3",
   "metadata": {},
   "outputs": [],
   "source": []
  },
  {
   "cell_type": "code",
   "execution_count": 15,
   "id": "e92de4f9-4a0a-4764-aed0-66584e9f2b79",
   "metadata": {},
   "outputs": [
    {
     "name": "stdout",
     "output_type": "stream",
     "text": [
      "12\n",
      "14\n",
      "16\n",
      "18\n",
      "20\n",
      "5\n"
     ]
    }
   ],
   "source": [
    "count=0\n",
    "for n in list2:\n",
    "    if n%2==0:\n",
    "        print(n)\n",
    "    else:\n",
    "        count+=1\n",
    "print(count)"
   ]
  },
  {
   "cell_type": "code",
   "execution_count": 16,
   "id": "3f8090b6-23b6-4171-97b6-1f2d19739310",
   "metadata": {},
   "outputs": [
    {
     "name": "stdout",
     "output_type": "stream",
     "text": [
      "not even 11\n",
      "12\n",
      "not even 13\n",
      "14\n",
      "not even 15\n",
      "16\n",
      "not even 17\n",
      "18\n",
      "not even 19\n",
      "20\n"
     ]
    }
   ],
   "source": [
    "for n in list2:\n",
    "    if n%2==0:\n",
    "        print(n)\n",
    "    else:\n",
    "        print(f'not even {n}')"
   ]
  },
  {
   "cell_type": "code",
   "execution_count": 18,
   "id": "23a6ea6a-0f3e-4c1b-a7ed-cc7d878f1b04",
   "metadata": {},
   "outputs": [
    {
     "name": "stdout",
     "output_type": "stream",
     "text": [
      "155\n"
     ]
    }
   ],
   "source": [
    "sum=0\n",
    "for n in list2:\n",
    "    sum=sum+n\n",
    "print(sum)"
   ]
  },
  {
   "cell_type": "code",
   "execution_count": 19,
   "id": "47d4d908-c86e-49f9-9bd7-8aabcf64e485",
   "metadata": {},
   "outputs": [
    {
     "name": "stdout",
     "output_type": "stream",
     "text": [
      "11\n",
      "23\n",
      "36\n",
      "50\n",
      "65\n",
      "81\n",
      "98\n",
      "116\n",
      "135\n",
      "155\n"
     ]
    }
   ],
   "source": [
    "sum=0\n",
    "for n in list2:\n",
    "    sum=sum+n\n",
    "    print(sum)"
   ]
  },
  {
   "cell_type": "code",
   "execution_count": 21,
   "id": "1ea598f9-f1e1-4b56-a451-8649f87b4764",
   "metadata": {},
   "outputs": [
    {
     "name": "stdout",
     "output_type": "stream",
     "text": [
      "o\n",
      "m\n",
      " \n",
      "g\n",
      "a\n",
      "m\n",
      " \n",
      "g\n",
      "a\n",
      "n\n",
      "a\n",
      "p\n",
      "a\n",
      "t\n",
      "a\n",
      "y\n",
      "e\n",
      " \n",
      "n\n",
      "a\n",
      "m\n",
      "a\n",
      "h\n",
      "a\n"
     ]
    }
   ],
   "source": [
    "for c in 'om gam ganapataye namaha':\n",
    "    print(c)"
   ]
  },
  {
   "cell_type": "code",
   "execution_count": 25,
   "id": "ef7fea10-e215-4553-b2f1-65f81c1fba70",
   "metadata": {},
   "outputs": [
    {
     "name": "stdout",
     "output_type": "stream",
     "text": [
      "om gam ganapataye namaha\n",
      "om gam ganapataye namaha\n",
      "om gam ganapataye namaha\n",
      "om gam ganapataye namaha\n",
      "om gam ganapataye namaha\n",
      "om gam ganapataye namaha\n",
      "om gam ganapataye namaha\n",
      "om gam ganapataye namaha\n",
      "om gam ganapataye namaha\n",
      "om gam ganapataye namaha\n",
      "om gam ganapataye namaha\n",
      "om gam ganapataye namaha\n",
      "om gam ganapataye namaha\n",
      "om gam ganapataye namaha\n",
      "om gam ganapataye namaha\n",
      "om gam ganapataye namaha\n",
      "om gam ganapataye namaha\n",
      "om gam ganapataye namaha\n",
      "om gam ganapataye namaha\n",
      "om gam ganapataye namaha\n",
      "om gam ganapataye namaha\n",
      "om gam ganapataye namaha\n",
      "om gam ganapataye namaha\n",
      "om gam ganapataye namaha\n"
     ]
    }
   ],
   "source": [
    "for _ in 'om gam ganapataye namaha':\n",
    "    print('om gam ganapataye namaha')"
   ]
  },
  {
   "cell_type": "code",
   "execution_count": 23,
   "id": "9d520bfa-041f-4432-9dce-094e087a1c0c",
   "metadata": {},
   "outputs": [
    {
     "name": "stdout",
     "output_type": "stream",
     "text": [
      "peaceful\n",
      "peaceful\n",
      "peaceful\n",
      "peaceful\n",
      "peaceful\n",
      "peaceful\n",
      "peaceful\n",
      "peaceful\n",
      "peaceful\n",
      "peaceful\n",
      "peaceful\n",
      "peaceful\n",
      "peaceful\n",
      "peaceful\n",
      "peaceful\n",
      "peaceful\n",
      "peaceful\n",
      "peaceful\n",
      "peaceful\n",
      "peaceful\n",
      "peaceful\n",
      "peaceful\n",
      "peaceful\n",
      "peaceful\n"
     ]
    }
   ],
   "source": [
    "for c in 'om gam ganapataye namaha':\n",
    "    print('peaceful')"
   ]
  },
  {
   "cell_type": "code",
   "execution_count": 24,
   "id": "15b73dba-4bfe-49d2-9d66-98a5229ae3a8",
   "metadata": {},
   "outputs": [
    {
     "name": "stdout",
     "output_type": "stream",
     "text": [
      "peaceful\n",
      "peaceful\n",
      "peaceful\n",
      "peaceful\n",
      "peaceful\n",
      "peaceful\n",
      "peaceful\n",
      "peaceful\n",
      "peaceful\n",
      "peaceful\n",
      "peaceful\n",
      "peaceful\n",
      "peaceful\n",
      "peaceful\n",
      "peaceful\n",
      "peaceful\n",
      "peaceful\n",
      "peaceful\n",
      "peaceful\n",
      "peaceful\n",
      "peaceful\n",
      "peaceful\n",
      "peaceful\n",
      "peaceful\n"
     ]
    }
   ],
   "source": [
    "for _ in 'om gam ganapataye namaha':\n",
    "    print('peaceful')"
   ]
  },
  {
   "cell_type": "code",
   "execution_count": 26,
   "id": "b8a86608-154a-459e-9c1f-9732d61fc75e",
   "metadata": {},
   "outputs": [
    {
     "name": "stdout",
     "output_type": "stream",
     "text": [
      "('a', 2, 2.45)\n",
      "('a', 2, 2.45)\n",
      "('a', 2, 2.45)\n"
     ]
    }
   ],
   "source": [
    "tup1=('a',2,2.45)\n",
    "for t in tup1:\n",
    "    print(tup1)"
   ]
  },
  {
   "cell_type": "code",
   "execution_count": 27,
   "id": "f3ceb51f-fa70-48ea-8cf3-f17a0844ded2",
   "metadata": {},
   "outputs": [
    {
     "name": "stdout",
     "output_type": "stream",
     "text": [
      "a\n",
      "2\n",
      "2.45\n"
     ]
    }
   ],
   "source": [
    "tup1=('a',2,2.45)\n",
    "for t in tup1:\n",
    "    print(t)"
   ]
  },
  {
   "cell_type": "code",
   "execution_count": 28,
   "id": "11e2ba0f-17f0-4981-8b07-7b900428cf58",
   "metadata": {},
   "outputs": [
    {
     "name": "stdout",
     "output_type": "stream",
     "text": [
      "1\n",
      "2\n",
      "[3, 4]\n"
     ]
    }
   ],
   "source": [
    "tup2=(1,2,[3,4])\n",
    "for l in tup2:\n",
    "    print(l)"
   ]
  },
  {
   "cell_type": "code",
   "execution_count": 30,
   "id": "f6eea50b-b246-4979-8c5a-114d8b1283c6",
   "metadata": {},
   "outputs": [
    {
     "name": "stdout",
     "output_type": "stream",
     "text": [
      "1\n",
      "2\n",
      "3\n",
      "4\n"
     ]
    }
   ],
   "source": [
    "tup3=([1,2],[3,4])\n",
    "for [a,b] in tup3:\n",
    "    print(a)\n",
    "    print(b)"
   ]
  },
  {
   "cell_type": "code",
   "execution_count": 31,
   "id": "7a3872c0-7a5c-4db1-b5a3-d2f9833e6c77",
   "metadata": {},
   "outputs": [
    {
     "ename": "TypeError",
     "evalue": "cannot unpack non-iterable int object",
     "output_type": "error",
     "traceback": [
      "\u001b[1;31m---------------------------------------------------------------------------\u001b[0m",
      "\u001b[1;31mTypeError\u001b[0m                                 Traceback (most recent call last)",
      "Cell \u001b[1;32mIn[31], line 2\u001b[0m\n\u001b[0;32m      1\u001b[0m tup2\u001b[38;5;241m=\u001b[39m(\u001b[38;5;241m1\u001b[39m,\u001b[38;5;241m2\u001b[39m,[\u001b[38;5;241m3\u001b[39m,\u001b[38;5;241m4\u001b[39m])\n\u001b[1;32m----> 2\u001b[0m \u001b[38;5;28;01mfor\u001b[39;00m [l,m] \u001b[38;5;129;01min\u001b[39;00m tup2:\n\u001b[0;32m      3\u001b[0m     \u001b[38;5;28mprint\u001b[39m(l)\n\u001b[0;32m      4\u001b[0m     \u001b[38;5;28mprint\u001b[39m(m)\n",
      "\u001b[1;31mTypeError\u001b[0m: cannot unpack non-iterable int object"
     ]
    }
   ],
   "source": [
    "tup2=(1,2,[3,4])\n",
    "for [l,m] in tup2:\n",
    "    print(l)\n",
    "    print(m)"
   ]
  },
  {
   "cell_type": "code",
   "execution_count": 32,
   "id": "71a084c9-cf30-4d66-83e6-2f02cc31f392",
   "metadata": {},
   "outputs": [
    {
     "name": "stdout",
     "output_type": "stream",
     "text": [
      "5\n",
      "6\n",
      "7\n",
      "8\n"
     ]
    }
   ],
   "source": [
    "list3=[(5,6),(7,8)]\n",
    "for n,m in list3:\n",
    "    print(n)\n",
    "    print(m)"
   ]
  },
  {
   "cell_type": "code",
   "execution_count": 41,
   "id": "075d04f0-7a03-4a3c-bc3a-3a244fe67498",
   "metadata": {},
   "outputs": [
    {
     "name": "stdout",
     "output_type": "stream",
     "text": [
      "5\n",
      "7\n"
     ]
    }
   ],
   "source": [
    "list3=[(5,6),(7,8)]\n",
    "for (n,m) in list3:\n",
    "    print(n)"
   ]
  },
  {
   "cell_type": "code",
   "execution_count": 35,
   "id": "b1c10bbd-edb1-4a12-a4e6-0b336ca0e89a",
   "metadata": {},
   "outputs": [
    {
     "name": "stdout",
     "output_type": "stream",
     "text": [
      "5 6\n",
      "7 8\n"
     ]
    }
   ],
   "source": [
    "list3=[(5,6),(7,8)]\n",
    "for (n,m) in list3:\n",
    "    print(n,m)\n"
   ]
  },
  {
   "cell_type": "code",
   "execution_count": 38,
   "id": "1dcd8155-f05a-4c4a-b389-4e194d18dd36",
   "metadata": {},
   "outputs": [
    {
     "name": "stdout",
     "output_type": "stream",
     "text": [
      "5 6\n",
      "7 8\n"
     ]
    }
   ],
   "source": [
    "list3=[(5,6),[7,8]]\n",
    "for n,m in list3:\n",
    "    print(n,m)\n"
   ]
  },
  {
   "cell_type": "code",
   "execution_count": 36,
   "id": "f35971de-31cd-48ed-81c5-3076fb4730f9",
   "metadata": {},
   "outputs": [
    {
     "name": "stdout",
     "output_type": "stream",
     "text": [
      "5 6\n",
      "7 8\n"
     ]
    }
   ],
   "source": [
    "list3=[(5,6),(7,8)]\n",
    "for n,m in list3:\n",
    "    print(n,m)"
   ]
  },
  {
   "cell_type": "code",
   "execution_count": 40,
   "id": "ec452fc1-95b0-4c2b-9d60-c345c80474ad",
   "metadata": {},
   "outputs": [
    {
     "name": "stdout",
     "output_type": "stream",
     "text": [
      "5 8\n",
      "6 8\n",
      "(7, 8) 8\n"
     ]
    }
   ],
   "source": [
    "list3=[5,6,(7,8)]\n",
    "for n in list3:\n",
    "    print(n,m)"
   ]
  },
  {
   "cell_type": "code",
   "execution_count": 42,
   "id": "d2556a12-460e-45a3-9ce2-70fcb205c753",
   "metadata": {},
   "outputs": [
    {
     "name": "stdout",
     "output_type": "stream",
     "text": [
      "a\n",
      "h\n"
     ]
    }
   ],
   "source": [
    "list4=[(1,'a',3,6),(2,'h',0,7)]\n",
    "for a,b,c,d in list4:\n",
    "    print(b)"
   ]
  },
  {
   "cell_type": "code",
   "execution_count": null,
   "id": "dba52260-f443-42b7-bbff-c325180c98ae",
   "metadata": {},
   "outputs": [],
   "source": [
    "#iterate through a dictionary"
   ]
  },
  {
   "cell_type": "code",
   "execution_count": 54,
   "id": "54feed82-d09f-4150-84a3-4e7e1e62e341",
   "metadata": {},
   "outputs": [
    {
     "name": "stdout",
     "output_type": "stream",
     "text": [
      "h1\n",
      "h2\n",
      "h3\n"
     ]
    }
   ],
   "source": [
    "dict1={'h1':8,'h2':7,'h3':6}\n",
    "for _ in dict1:\n",
    "    print(_)"
   ]
  },
  {
   "cell_type": "code",
   "execution_count": 56,
   "id": "73137584-e108-41a1-95b4-2f7d71fade63",
   "metadata": {},
   "outputs": [
    {
     "name": "stdout",
     "output_type": "stream",
     "text": [
      "('h1', 8)\n",
      "('h2', 7)\n",
      "('h3', 6)\n"
     ]
    }
   ],
   "source": [
    "dict1={'h1':8,'h2':7,'h3':6}\n",
    "for _ in dict1.items():\n",
    "    print(_)"
   ]
  },
  {
   "cell_type": "code",
   "execution_count": 58,
   "id": "57019706-f877-45fa-847b-517bafd33a02",
   "metadata": {},
   "outputs": [
    {
     "name": "stdout",
     "output_type": "stream",
     "text": [
      "8\n",
      "7\n",
      "6\n"
     ]
    }
   ],
   "source": [
    "dict1={'h1':8,'h2':7,'h3':6}\n",
    "for key,value in dict1.items():\n",
    "    print(value)"
   ]
  },
  {
   "cell_type": "code",
   "execution_count": 57,
   "id": "7aa3ab09-1c66-4640-8e5f-223400d6ef7c",
   "metadata": {},
   "outputs": [
    {
     "name": "stdout",
     "output_type": "stream",
     "text": [
      "8\n",
      "7\n",
      "6\n"
     ]
    }
   ],
   "source": [
    "dict1={'h1':8,'h2':7,'h3':6}\n",
    "for _ in dict1.values():\n",
    "    print(_)"
   ]
  },
  {
   "cell_type": "code",
   "execution_count": 61,
   "id": "145e4ecd-3365-415c-8ce1-02defb7efd89",
   "metadata": {},
   "outputs": [
    {
     "data": {
      "text/plain": [
       "['h1', 'h2', 'h3']"
      ]
     },
     "execution_count": 61,
     "metadata": {},
     "output_type": "execute_result"
    }
   ],
   "source": [
    "list(dict1.keys())"
   ]
  },
  {
   "cell_type": "code",
   "execution_count": 62,
   "id": "2386f802-8fcd-48b8-88e9-5043b4b3ca70",
   "metadata": {},
   "outputs": [
    {
     "data": {
      "text/plain": [
       "[8, 7, 6]"
      ]
     },
     "execution_count": 62,
     "metadata": {},
     "output_type": "execute_result"
    }
   ],
   "source": [
    "list(dict1.values())"
   ]
  },
  {
   "cell_type": "code",
   "execution_count": 63,
   "id": "037cc94c-f8ad-4d69-ba78-9c8ec2dfaceb",
   "metadata": {},
   "outputs": [
    {
     "data": {
      "text/plain": [
       "[('h1', 8), ('h2', 7), ('h3', 6)]"
      ]
     },
     "execution_count": 63,
     "metadata": {},
     "output_type": "execute_result"
    }
   ],
   "source": [
    "list(dict1.items())"
   ]
  },
  {
   "cell_type": "code",
   "execution_count": 64,
   "id": "32c53bd5-5afd-4f92-9170-567e578d70a3",
   "metadata": {},
   "outputs": [
    {
     "data": {
      "text/plain": [
       "dict_items([('h1', 8), ('h2', 7), ('h3', 6)])"
      ]
     },
     "execution_count": 64,
     "metadata": {},
     "output_type": "execute_result"
    }
   ],
   "source": [
    "dict1.items()"
   ]
  },
  {
   "cell_type": "code",
   "execution_count": 65,
   "id": "d451fbc8-7c6d-4baa-a53e-2be7be7ebb19",
   "metadata": {},
   "outputs": [
    {
     "data": {
      "text/plain": [
       "[6, 7, 8]"
      ]
     },
     "execution_count": 65,
     "metadata": {},
     "output_type": "execute_result"
    }
   ],
   "source": [
    "sorted(dict1.values())"
   ]
  },
  {
   "cell_type": "code",
   "execution_count": 66,
   "id": "b4e3a80a-4bd4-43fc-8df4-99c6ab7d5ceb",
   "metadata": {},
   "outputs": [
    {
     "data": {
      "text/plain": [
       "dict_values([8, 7, 6])"
      ]
     },
     "execution_count": 66,
     "metadata": {},
     "output_type": "execute_result"
    }
   ],
   "source": [
    "dict1.values()"
   ]
  },
  {
   "cell_type": "code",
   "execution_count": 68,
   "id": "01820404-ee17-4517-b710-b88a6deb1e1b",
   "metadata": {},
   "outputs": [
    {
     "data": {
      "text/plain": [
       "tuple"
      ]
     },
     "execution_count": 68,
     "metadata": {},
     "output_type": "execute_result"
    }
   ],
   "source": [
    "type((1,3))"
   ]
  },
  {
   "cell_type": "code",
   "execution_count": 5,
   "id": "dabc5ad6-7288-438a-b3aa-41807e0c7f4e",
   "metadata": {},
   "outputs": [
    {
     "name": "stdout",
     "output_type": "stream",
     "text": [
      "2\n",
      "3\n",
      "4\n",
      "5\n",
      "6\n",
      "7\n",
      "8\n"
     ]
    }
   ],
   "source": [
    "for m in range(2,9):\n",
    "    \n",
    "    print(m)\n",
    "    pass"
   ]
  },
  {
   "cell_type": "code",
   "execution_count": 2,
   "id": "390fa10a-4ad6-4193-864b-54367f41f23d",
   "metadata": {},
   "outputs": [
    {
     "name": "stdout",
     "output_type": "stream",
     "text": [
      "2\n",
      "3\n",
      "4\n",
      "5\n",
      "6\n",
      "7\n",
      "8\n"
     ]
    }
   ],
   "source": [
    "for m in range(2,9):\n",
    "    print(m)\n",
    "    if(m==4):\n",
    "        continue\n",
    "        print(m)\n",
    "        if m==3:\n",
    "            break\n",
    "    else:\n",
    "        pass\n",
    "    "
   ]
  },
  {
   "cell_type": "code",
   "execution_count": 3,
   "id": "9ab53b8f-f403-4991-8585-5177b3edf741",
   "metadata": {},
   "outputs": [
    {
     "name": "stdout",
     "output_type": "stream",
     "text": [
      "2\n",
      "3\n",
      "4\n",
      "5\n",
      "6\n",
      "7\n",
      "8\n"
     ]
    }
   ],
   "source": [
    "for m in range(2,9):\n",
    "    \n",
    "    print(m)\n",
    "    continue\n",
    "    if(m==4):\n",
    "        \n",
    "        print(m)\n",
    "        if m==3:\n",
    "            break\n",
    "    else:\n",
    "        pass"
   ]
  },
  {
   "cell_type": "code",
   "execution_count": 6,
   "id": "36c0aaed-6ed4-4e77-a4dc-e6850979ac2f",
   "metadata": {},
   "outputs": [
    {
     "name": "stdout",
     "output_type": "stream",
     "text": [
      "2\n",
      "3\n",
      "4\n",
      "4\n",
      "5\n",
      "5\n"
     ]
    }
   ],
   "source": [
    "for m in range(2,9):\n",
    "    \n",
    "    print(m)\n",
    "    \n",
    "    if(m>=4):\n",
    "        \n",
    "        print(m)\n",
    "        if m==5:\n",
    "            break\n",
    "    else:\n",
    "        pass"
   ]
  },
  {
   "cell_type": "code",
   "execution_count": 7,
   "id": "1d91bd2e-c563-4d41-8d59-0110975ce2a3",
   "metadata": {},
   "outputs": [
    {
     "name": "stdout",
     "output_type": "stream",
     "text": [
      "2\n",
      "3\n",
      "4\n",
      "4\n",
      "5\n",
      "5\n",
      "6\n",
      "6\n",
      "7\n",
      "7\n",
      "8\n",
      "8\n"
     ]
    }
   ],
   "source": [
    "for m in range(2,9):\n",
    "    \n",
    "    print(m)\n",
    "    \n",
    "    if(m>=4):\n",
    "        \n",
    "        print(m)\n",
    "        if m==5:\n",
    "            continue\n",
    "    else:\n",
    "        pass"
   ]
  },
  {
   "cell_type": "code",
   "execution_count": null,
   "id": "c41682fb-c8e0-449b-bb1b-849bc15b11a0",
   "metadata": {},
   "outputs": [],
   "source": []
  }
 ],
 "metadata": {
  "kernelspec": {
   "display_name": "Python 3 (ipykernel)",
   "language": "python",
   "name": "python3"
  },
  "language_info": {
   "codemirror_mode": {
    "name": "ipython",
    "version": 3
   },
   "file_extension": ".py",
   "mimetype": "text/x-python",
   "name": "python",
   "nbconvert_exporter": "python",
   "pygments_lexer": "ipython3",
   "version": "3.11.7"
  }
 },
 "nbformat": 4,
 "nbformat_minor": 5
}
