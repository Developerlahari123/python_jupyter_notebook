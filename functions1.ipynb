{
 "cells": [
  {
   "cell_type": "code",
   "execution_count": null,
   "id": "8efceb0b-0a34-45b7-93c1-ce873f3aae12",
   "metadata": {},
   "outputs": [],
   "source": [
    "# returns true if any number inside a list is even"
   ]
  },
  {
   "cell_type": "code",
   "execution_count": 26,
   "id": "1f2a0649-c4cc-45b7-8115-373357604449",
   "metadata": {},
   "outputs": [],
   "source": [
    "def list_check(listn):\n",
    "    for i in listn:\n",
    "        if i%2==0:\n",
    "            return True\n",
    "        else:\n",
    "            pass\n",
    "    return False\n",
    "            "
   ]
  },
  {
   "cell_type": "code",
   "execution_count": 5,
   "id": "6ecbdac8-0f17-4c92-a6fa-9e5eb2754e7a",
   "metadata": {},
   "outputs": [],
   "source": [
    "list1=[c for c in range(1,21)]"
   ]
  },
  {
   "cell_type": "code",
   "execution_count": 6,
   "id": "2b7baf5b-efba-4973-b309-606b8e670eb7",
   "metadata": {},
   "outputs": [
    {
     "data": {
      "text/plain": [
       "[1, 2, 3, 4, 5, 6, 7, 8, 9, 10, 11, 12, 13, 14, 15, 16, 17, 18, 19, 20]"
      ]
     },
     "execution_count": 6,
     "metadata": {},
     "output_type": "execute_result"
    }
   ],
   "source": [
    "list1"
   ]
  },
  {
   "cell_type": "code",
   "execution_count": 7,
   "id": "3234eebd-0144-4e54-99a7-efa17e8ce599",
   "metadata": {},
   "outputs": [
    {
     "data": {
      "text/plain": [
       "True"
      ]
     },
     "execution_count": 7,
     "metadata": {},
     "output_type": "execute_result"
    }
   ],
   "source": [
    "list_check(list1)"
   ]
  },
  {
   "cell_type": "code",
   "execution_count": 28,
   "id": "db848dff-49e1-4a5b-aa04-0f9e80a27555",
   "metadata": {},
   "outputs": [],
   "source": [
    "list2=[1,3,5,7,9]"
   ]
  },
  {
   "cell_type": "code",
   "execution_count": 29,
   "id": "39d9f877-319c-4bd0-9baf-c5544a97c5ce",
   "metadata": {},
   "outputs": [
    {
     "data": {
      "text/plain": [
       "False"
      ]
     },
     "execution_count": 29,
     "metadata": {},
     "output_type": "execute_result"
    }
   ],
   "source": [
    "list_check(list2)"
   ]
  },
  {
   "cell_type": "code",
   "execution_count": 24,
   "id": "fdee1df2-d121-4274-9960-f65d98f3cd94",
   "metadata": {},
   "outputs": [
    {
     "data": {
      "text/plain": [
       "True"
      ]
     },
     "execution_count": 24,
     "metadata": {},
     "output_type": "execute_result"
    }
   ],
   "source": [
    "list_check([1,1,3,2])"
   ]
  },
  {
   "cell_type": "code",
   "execution_count": 27,
   "id": "5bd062cc-e1c0-46ac-a330-ddfc28cf0871",
   "metadata": {},
   "outputs": [
    {
     "data": {
      "text/plain": [
       "True"
      ]
     },
     "execution_count": 27,
     "metadata": {},
     "output_type": "execute_result"
    }
   ],
   "source": [
    "list_check([1,1,3,2,2])"
   ]
  },
  {
   "cell_type": "code",
   "execution_count": null,
   "id": "864b5bc2-4be5-40e6-a195-1f5a45b2ca37",
   "metadata": {},
   "outputs": [],
   "source": [
    "#return all the even numbers in a list"
   ]
  },
  {
   "cell_type": "code",
   "execution_count": 32,
   "id": "193426b5-2138-4c1c-9019-9f3cde02d359",
   "metadata": {},
   "outputs": [],
   "source": [
    "def ret_even_list(listn):\n",
    "    l2=[]\n",
    "    for i in listn:\n",
    "        if i%2==0:\n",
    "            \n",
    "            l2.append(i)\n",
    "        else:\n",
    "            pass\n",
    "    return l2"
   ]
  },
  {
   "cell_type": "code",
   "execution_count": 34,
   "id": "43b70930-bca2-40bb-afbe-dc163cd1de09",
   "metadata": {},
   "outputs": [
    {
     "data": {
      "text/plain": [
       "[6, 8, 0]"
      ]
     },
     "execution_count": 34,
     "metadata": {},
     "output_type": "execute_result"
    }
   ],
   "source": [
    "ret_even_list([1,3,5,6,8,0])"
   ]
  },
  {
   "cell_type": "code",
   "execution_count": 35,
   "id": "76700b5f-4f5c-480c-8fe9-60dc47e748dc",
   "metadata": {},
   "outputs": [
    {
     "data": {
      "text/plain": [
       "[]"
      ]
     },
     "execution_count": 35,
     "metadata": {},
     "output_type": "execute_result"
    }
   ],
   "source": [
    "ret_even_list([1,3,5,9])"
   ]
  },
  {
   "cell_type": "code",
   "execution_count": null,
   "id": "20c90e7f-94fd-493f-985f-bba78b91ba52",
   "metadata": {},
   "outputs": [],
   "source": []
  }
 ],
 "metadata": {
  "kernelspec": {
   "display_name": "Python 3 (ipykernel)",
   "language": "python",
   "name": "python3"
  },
  "language_info": {
   "codemirror_mode": {
    "name": "ipython",
    "version": 3
   },
   "file_extension": ".py",
   "mimetype": "text/x-python",
   "name": "python",
   "nbconvert_exporter": "python",
   "pygments_lexer": "ipython3",
   "version": "3.11.7"
  }
 },
 "nbformat": 4,
 "nbformat_minor": 5
}
