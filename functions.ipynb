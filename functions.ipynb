{
 "cells": [
  {
   "cell_type": "code",
   "execution_count": null,
   "id": "d2966c7c-5fbf-46be-a70d-e1a2f13ea5a0",
   "metadata": {},
   "outputs": [],
   "source": [
    "#def keyword allows us to create function in python"
   ]
  },
  {
   "cell_type": "code",
   "execution_count": null,
   "id": "854ae6ea-fe43-42e4-9a74-96112db01788",
   "metadata": {},
   "outputs": [],
   "source": [
    "#syntax for creating a function in python\n",
    "#def keyword, correct indentation, proper structure"
   ]
  },
  {
   "cell_type": "code",
   "execution_count": null,
   "id": "696f58de-36ec-4dbc-ada4-ce2012d126fe",
   "metadata": {},
   "outputs": [],
   "source": [
    "#overview of python function structure"
   ]
  },
  {
   "cell_type": "code",
   "execution_count": 1,
   "id": "f9babf99-0f5e-4118-891d-5dd0f1e02572",
   "metadata": {},
   "outputs": [],
   "source": [
    "#definitin of the function\n",
    "\n",
    "def name_of_function():\n",
    "    '''\n",
    "    optinal multiline string or docstring describes function\n",
    "    '''\n",
    "    #code to be executed every time you call the function to be written here\n",
    "    print('Hello')"
   ]
  },
  {
   "cell_type": "code",
   "execution_count": 2,
   "id": "66672ae0-a85e-412e-83ad-c06b1812292b",
   "metadata": {},
   "outputs": [
    {
     "name": "stdout",
     "output_type": "stream",
     "text": [
      "Hello\n"
     ]
    }
   ],
   "source": [
    "name_of_function() #function call"
   ]
  },
  {
   "cell_type": "code",
   "execution_count": 6,
   "id": "e924e35b-49be-42bb-b1c5-727f53d8eb4c",
   "metadata": {},
   "outputs": [
    {
     "name": "stdout",
     "output_type": "stream",
     "text": [
      "Hi Ganapathi bappa\n"
     ]
    }
   ],
   "source": [
    "def name_of_function(name):\n",
    "    print('Hi '+name)\n",
    "name_of_function('Ganapathi bappa')"
   ]
  },
  {
   "cell_type": "code",
   "execution_count": null,
   "id": "b11dec26-2368-4e95-8a21-f37dc71e4499",
   "metadata": {},
   "outputs": [],
   "source": [
    "#arguements/parameters can be passed into the function which contains variables passed t work within the function"
   ]
  },
  {
   "cell_type": "markdown",
   "id": "078e57ec-286a-41a9-b35a-053dcee3c036",
   "metadata": {},
   "source": [
    "colon indicates upcoming indented block, everything indented inside the function"
   ]
  },
  {
   "cell_type": "code",
   "execution_count": null,
   "id": "341b1df1-8ae1-4de9-84af-74207c56f887",
   "metadata": {},
   "outputs": [],
   "source": [
    "#snake casing for the name of the function: all lower case letters with underscores between the words\n",
    "\n",
    "\n",
    "#in object oriented programming class calls use camel casing"
   ]
  },
  {
   "cell_type": "code",
   "execution_count": 8,
   "id": "37a2cb03-01a4-4063-91d7-5d931e2d9e4f",
   "metadata": {},
   "outputs": [
    {
     "data": {
      "text/plain": [
       "18"
      ]
     },
     "execution_count": 8,
     "metadata": {},
     "output_type": "execute_result"
    }
   ],
   "source": [
    "def multi1(n1,n2):\n",
    "    return n1*n2\n",
    "product=multi1(3,6)\n",
    "product"
   ]
  },
  {
   "cell_type": "code",
   "execution_count": 1,
   "id": "5d41a139-2ce8-4d7c-9d8d-ce6d99a8aef4",
   "metadata": {},
   "outputs": [],
   "source": [
    "def function1():\n",
    "    print('om gam ganapataye namaha')"
   ]
  },
  {
   "cell_type": "code",
   "execution_count": 2,
   "id": "5ae31194-4249-43a8-a8fe-ee71b61e5cc9",
   "metadata": {},
   "outputs": [
    {
     "name": "stdout",
     "output_type": "stream",
     "text": [
      "om gam ganapataye namaha\n"
     ]
    }
   ],
   "source": [
    "function1()"
   ]
  },
  {
   "cell_type": "code",
   "execution_count": 6,
   "id": "2fc07ffd-1b9c-4669-9862-de8e374ebb70",
   "metadata": {},
   "outputs": [
    {
     "name": "stdout",
     "output_type": "stream",
     "text": [
      "hello ganapati bappa\n"
     ]
    }
   ],
   "source": [
    "def function1(name):\n",
    "    print(f'hello {name}')\n",
    "function1('ganapati bappa')\n",
    "    "
   ]
  },
  {
   "cell_type": "code",
   "execution_count": 8,
   "id": "af6fded2-2ae7-4549-ba0e-288a21cbe97b",
   "metadata": {},
   "outputs": [
    {
     "name": "stdout",
     "output_type": "stream",
     "text": [
      "hello ganapati bappa\n"
     ]
    }
   ],
   "source": [
    "def function1(name='ganesh'):\n",
    "    print(f'hello {name}')\n",
    "function1('ganapati bappa')"
   ]
  },
  {
   "cell_type": "code",
   "execution_count": 17,
   "id": "36312146-92e6-488b-b582-ce23f253a68e",
   "metadata": {},
   "outputs": [
    {
     "name": "stdout",
     "output_type": "stream",
     "text": [
      "11.5\n"
     ]
    }
   ],
   "source": [
    "def print_result(a,b):\n",
    "    print(a/b)\n",
    "\n",
    "d=print_result(23,2)\n"
   ]
  },
  {
   "cell_type": "code",
   "execution_count": 19,
   "id": "97b345f7-6926-4d15-a374-565b9e312bc7",
   "metadata": {},
   "outputs": [
    {
     "data": {
      "text/plain": [
       "NoneType"
      ]
     },
     "execution_count": 19,
     "metadata": {},
     "output_type": "execute_result"
    }
   ],
   "source": [
    "type(d)"
   ]
  },
  {
   "cell_type": "code",
   "execution_count": 20,
   "id": "481ba11f-b31e-4bba-9236-67e9eed54061",
   "metadata": {},
   "outputs": [],
   "source": [
    "def return_result(a,b):\n",
    "    return a/b\n",
    "\n",
    "c=return_result(23,2)\n"
   ]
  },
  {
   "cell_type": "code",
   "execution_count": 21,
   "id": "e63df4d4-3339-43ef-bed3-e90064910687",
   "metadata": {},
   "outputs": [
    {
     "data": {
      "text/plain": [
       "11.5"
      ]
     },
     "execution_count": 21,
     "metadata": {},
     "output_type": "execute_result"
    }
   ],
   "source": [
    "c"
   ]
  },
  {
   "cell_type": "code",
   "execution_count": 2,
   "id": "5f042ea3-6f6d-404c-9e7e-ec92889a8358",
   "metadata": {},
   "outputs": [],
   "source": [
    "def sum1(n1,n2):\n",
    "    return n1+n2"
   ]
  },
  {
   "cell_type": "code",
   "execution_count": 3,
   "id": "f2637395-6d7f-4b1e-ad56-36912fc9d597",
   "metadata": {},
   "outputs": [
    {
     "data": {
      "text/plain": [
       "'34'"
      ]
     },
     "execution_count": 3,
     "metadata": {},
     "output_type": "execute_result"
    }
   ],
   "source": [
    "sum1('3','4')"
   ]
  },
  {
   "cell_type": "code",
   "execution_count": 5,
   "id": "b1bda4f6-be33-427b-9f2b-2d43c0547087",
   "metadata": {},
   "outputs": [],
   "source": [
    "def checkeven(n1):\n",
    "    if n1%2==0:\n",
    "        print('even')\n",
    "    else:\n",
    "        print('odd')"
   ]
  },
  {
   "cell_type": "code",
   "execution_count": 3,
   "id": "2375e5e7-7294-4821-a962-130a005dfa56",
   "metadata": {},
   "outputs": [
    {
     "name": "stdout",
     "output_type": "stream",
     "text": [
      "even\n"
     ]
    }
   ],
   "source": [
    "checkeven(40)"
   ]
  },
  {
   "cell_type": "code",
   "execution_count": 6,
   "id": "6433c36b-30e8-484f-a04f-2fc6b4585abb",
   "metadata": {},
   "outputs": [
    {
     "name": "stdout",
     "output_type": "stream",
     "text": [
      "odd\n"
     ]
    }
   ],
   "source": [
    "checkeven(13)"
   ]
  },
  {
   "cell_type": "code",
   "execution_count": 9,
   "id": "7c34900f-8ce1-4f7a-ab31-b7c434d08177",
   "metadata": {},
   "outputs": [],
   "source": [
    "def checkeven(n1):\n",
    "    f = n1%2 == 0\n",
    "    return f"
   ]
  },
  {
   "cell_type": "code",
   "execution_count": 10,
   "id": "3b912a5c-be6e-402e-a3c8-4b378fd093c5",
   "metadata": {},
   "outputs": [
    {
     "data": {
      "text/plain": [
       "True"
      ]
     },
     "execution_count": 10,
     "metadata": {},
     "output_type": "execute_result"
    }
   ],
   "source": [
    "checkeven(12)"
   ]
  },
  {
   "cell_type": "code",
   "execution_count": 11,
   "id": "5d7f16d9-5687-4dbb-b935-b70732ce1975",
   "metadata": {},
   "outputs": [
    {
     "data": {
      "text/plain": [
       "False"
      ]
     },
     "execution_count": 11,
     "metadata": {},
     "output_type": "execute_result"
    }
   ],
   "source": [
    "checkeven(17)"
   ]
  },
  {
   "cell_type": "code",
   "execution_count": 12,
   "id": "96d2efe4-2a18-4838-974a-92de8e2f4a56",
   "metadata": {},
   "outputs": [],
   "source": [
    "def checkeven(n1):\n",
    "    return n1%2 == 0"
   ]
  },
  {
   "cell_type": "code",
   "execution_count": 13,
   "id": "10863503-15b3-40ab-92a3-a63467e1b87e",
   "metadata": {},
   "outputs": [
    {
     "data": {
      "text/plain": [
       "True"
      ]
     },
     "execution_count": 13,
     "metadata": {},
     "output_type": "execute_result"
    }
   ],
   "source": [
    "checkeven(20)"
   ]
  },
  {
   "cell_type": "code",
   "execution_count": null,
   "id": "6d780578-2ba9-4a90-9062-458a70266e36",
   "metadata": {},
   "outputs": [],
   "source": [
    "#return true if any number inside a list is even"
   ]
  },
  {
   "cell_type": "code",
   "execution_count": 21,
   "id": "427fa8e8-2ff7-43b8-8c63-f215bdfcee30",
   "metadata": {},
   "outputs": [],
   "source": [
    "def list_even1(list1):\n",
    "    j=0\n",
    "    for i in list1:\n",
    "        if i%2==0:\n",
    "            while j<1:\n",
    "                return True\n",
    "                j+=1"
   ]
  },
  {
   "cell_type": "code",
   "execution_count": 14,
   "id": "d90dada4-0bca-4afb-afb9-c80c30c97c2f",
   "metadata": {},
   "outputs": [
    {
     "data": {
      "text/plain": [
       "[0, 1, 2, 3, 4, 5, 6, 7, 8, 9, 10]"
      ]
     },
     "execution_count": 14,
     "metadata": {},
     "output_type": "execute_result"
    }
   ],
   "source": [
    "list1=[]\n",
    "for h in range(0,11):\n",
    "    list1.append(h)\n",
    "\n",
    "list1"
   ]
  },
  {
   "cell_type": "code",
   "execution_count": 15,
   "id": "8ba7fd45-da4c-41bf-ab99-5d2ef9460776",
   "metadata": {},
   "outputs": [],
   "source": [
    "k=list1"
   ]
  },
  {
   "cell_type": "code",
   "execution_count": 16,
   "id": "6e5de60d-7b32-4045-bef6-1b38d3eb14e6",
   "metadata": {},
   "outputs": [
    {
     "data": {
      "text/plain": [
       "[0, 1, 2, 3, 4, 5, 6, 7, 8, 9, 10]"
      ]
     },
     "execution_count": 16,
     "metadata": {},
     "output_type": "execute_result"
    }
   ],
   "source": [
    "k"
   ]
  },
  {
   "cell_type": "code",
   "execution_count": 17,
   "id": "80814418-e425-4e0d-832a-e04e840ecfd3",
   "metadata": {},
   "outputs": [
    {
     "data": {
      "text/plain": [
       "list"
      ]
     },
     "execution_count": 17,
     "metadata": {},
     "output_type": "execute_result"
    }
   ],
   "source": [
    "type(k)"
   ]
  },
  {
   "cell_type": "code",
   "execution_count": 23,
   "id": "f88cebd6-d19d-4a72-a3c5-5068438c3d20",
   "metadata": {},
   "outputs": [
    {
     "data": {
      "text/plain": [
       "True"
      ]
     },
     "execution_count": 23,
     "metadata": {},
     "output_type": "execute_result"
    }
   ],
   "source": [
    "list_even1(k)"
   ]
  },
  {
   "cell_type": "code",
   "execution_count": 24,
   "id": "f11c841c-24ed-42e3-9ce4-161616525c47",
   "metadata": {},
   "outputs": [],
   "source": [
    "list2=[9,3,7,1]"
   ]
  },
  {
   "cell_type": "code",
   "execution_count": 25,
   "id": "5ce596a2-66ff-4d4f-8c57-114410023d1d",
   "metadata": {},
   "outputs": [],
   "source": [
    "list_even1(list2)"
   ]
  },
  {
   "cell_type": "code",
   "execution_count": 6,
   "id": "f4b0bf06-fe7b-4365-aee0-b2702d8c8738",
   "metadata": {},
   "outputs": [],
   "source": [
    "attend_list = [('Abby',100),('Billy',2400),('Cassie',800)]"
   ]
  },
  {
   "cell_type": "code",
   "execution_count": 4,
   "id": "d696edc9-57c2-4228-870f-317f31c17e11",
   "metadata": {},
   "outputs": [],
   "source": [
    "def emp_of_year(attend_list):\n",
    "    work_days=0\n",
    "    for emp_name,no_days in attend_list:\n",
    "        if no_days>work_days:\n",
    "            work_days=no_days\n",
    "            employee_name=emp_name\n",
    "        pass\n",
    "    return (employee_name,work_days)"
   ]
  },
  {
   "cell_type": "code",
   "execution_count": 7,
   "id": "38add42a-138e-4139-8585-0e640f2aaff2",
   "metadata": {},
   "outputs": [
    {
     "data": {
      "text/plain": [
       "('Billy', 2400)"
      ]
     },
     "execution_count": 7,
     "metadata": {},
     "output_type": "execute_result"
    }
   ],
   "source": [
    "emp_of_year(attend_list)"
   ]
  },
  {
   "cell_type": "code",
   "execution_count": null,
   "id": "7bd89413-53e1-46af-b725-24b512e621ba",
   "metadata": {},
   "outputs": [],
   "source": []
  }
 ],
 "metadata": {
  "kernelspec": {
   "display_name": "Python 3 (ipykernel)",
   "language": "python",
   "name": "python3"
  },
  "language_info": {
   "codemirror_mode": {
    "name": "ipython",
    "version": 3
   },
   "file_extension": ".py",
   "mimetype": "text/x-python",
   "name": "python",
   "nbconvert_exporter": "python",
   "pygments_lexer": "ipython3",
   "version": "3.11.7"
  }
 },
 "nbformat": 4,
 "nbformat_minor": 5
}
