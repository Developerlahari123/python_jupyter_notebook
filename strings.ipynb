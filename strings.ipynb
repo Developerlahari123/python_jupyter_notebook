{
 "cells": [
  {
   "cell_type": "code",
   "execution_count": 1,
   "id": "1d56d8c7-d094-4cca-ba67-6285b73fb615",
   "metadata": {},
   "outputs": [
    {
     "data": {
      "text/plain": [
       "'Ganesh'"
      ]
     },
     "execution_count": 1,
     "metadata": {},
     "output_type": "execute_result"
    }
   ],
   "source": [
    "'Ganesh'"
   ]
  },
  {
   "cell_type": "code",
   "execution_count": 2,
   "id": "402be994-d721-4055-93f2-b96ca48dec33",
   "metadata": {},
   "outputs": [
    {
     "data": {
      "text/plain": [
       "'om Ganesh'"
      ]
     },
     "execution_count": 2,
     "metadata": {},
     "output_type": "execute_result"
    }
   ],
   "source": [
    "\"om Ganesh\""
   ]
  },
  {
   "cell_type": "code",
   "execution_count": 3,
   "id": "02a134a2-72fc-433b-a608-a98a178b42bf",
   "metadata": {},
   "outputs": [
    {
     "data": {
      "text/plain": [
       "'Lahari prays,loves \"ganesh\"'"
      ]
     },
     "execution_count": 3,
     "metadata": {},
     "output_type": "execute_result"
    }
   ],
   "source": [
    "'Lahari prays,loves \"ganesh\"'"
   ]
  },
  {
   "cell_type": "code",
   "execution_count": 5,
   "id": "737799de-288a-4c25-98aa-bec3552da8ae",
   "metadata": {},
   "outputs": [
    {
     "data": {
      "text/plain": [
       "\"I'm a Software Developer\""
      ]
     },
     "execution_count": 5,
     "metadata": {},
     "output_type": "execute_result"
    }
   ],
   "source": [
    "\"I'm a Software Developer\""
   ]
  },
  {
   "cell_type": "code",
   "execution_count": 6,
   "id": "218d336e-ad79-4100-bc4e-ea998c06d0a6",
   "metadata": {},
   "outputs": [
    {
     "data": {
      "text/plain": [
       "\"I will complete 'Python' course\""
      ]
     },
     "execution_count": 6,
     "metadata": {},
     "output_type": "execute_result"
    }
   ],
   "source": [
    "\"I will complete 'Python' course\""
   ]
  },
  {
   "cell_type": "code",
   "execution_count": 8,
   "id": "44eb5a9c-cb6d-4f51-85e9-b9d90bca71c0",
   "metadata": {},
   "outputs": [
    {
     "name": "stdout",
     "output_type": "stream",
     "text": [
      "Lahari is a software Developer\n"
     ]
    }
   ],
   "source": [
    "print(\"Lahari is a software Developer\")"
   ]
  },
  {
   "cell_type": "code",
   "execution_count": 10,
   "id": "88d1991d-4b77-4fde-a048-0256404d4249",
   "metadata": {},
   "outputs": [
    {
     "name": "stdout",
     "output_type": "stream",
     "text": [
      "Lahari will complete Python'Course\n",
      "Lahari will become a software\"developer\n"
     ]
    }
   ],
   "source": [
    "print(\"Lahari will complete Python'Course\")\n",
    "print('Lahari will become a software\"developer')"
   ]
  },
  {
   "cell_type": "code",
   "execution_count": 12,
   "id": "e0c467b8-105e-444f-ba7b-68d1327cae32",
   "metadata": {},
   "outputs": [
    {
     "name": "stdout",
     "output_type": "stream",
     "text": [
      "one ultimate divine\tin many forms\n"
     ]
    }
   ],
   "source": [
    "print(\"one ultimate divine\\tin many forms\")"
   ]
  },
  {
   "cell_type": "code",
   "execution_count": 17,
   "id": "a3ce9e13-ffbe-4519-9ef4-f259a0a60402",
   "metadata": {},
   "outputs": [
    {
     "name": "stdout",
     "output_type": "stream",
     "text": [
      "Lahari will create,update\tlinkden\t\tand make network connections\n"
     ]
    }
   ],
   "source": [
    "print(\"Lahari will create,update\\tlinkden\\t\\tand make network connections\")"
   ]
  },
  {
   "cell_type": "code",
   "execution_count": 21,
   "id": "d0d55417-ba8d-4aa2-a865-cc44f21d745a",
   "metadata": {},
   "outputs": [
    {
     "name": "stdout",
     "output_type": "stream",
     "text": [
      "'Ganapati bappa'\t'ganesh'\t'vinayak' is love world\n",
      "\t\tom gam ganapataye namaha\n"
     ]
    }
   ],
   "source": [
    "print(\"'Ganapati bappa'\\t'ganesh'\\t'vinayak' is love world\\n\\t\\tom gam ganapataye namaha\")"
   ]
  },
  {
   "cell_type": "code",
   "execution_count": 22,
   "id": "22ca84c4-2126-4fec-ac1d-a09a166d2a4f",
   "metadata": {},
   "outputs": [
    {
     "data": {
      "text/plain": [
       "30"
      ]
     },
     "execution_count": 22,
     "metadata": {},
     "output_type": "execute_result"
    }
   ],
   "source": [
    "len('Lahari is a software Developer')"
   ]
  },
  {
   "cell_type": "code",
   "execution_count": null,
   "id": "0ed206bc-cc6b-4b95-8df7-c209e76612c0",
   "metadata": {},
   "outputs": [],
   "source": []
  }
 ],
 "metadata": {
  "kernelspec": {
   "display_name": "Python 3 (ipykernel)",
   "language": "python",
   "name": "python3"
  },
  "language_info": {
   "codemirror_mode": {
    "name": "ipython",
    "version": 3
   },
   "file_extension": ".py",
   "mimetype": "text/x-python",
   "name": "python",
   "nbconvert_exporter": "python",
   "pygments_lexer": "ipython3",
   "version": "3.11.7"
  }
 },
 "nbformat": 4,
 "nbformat_minor": 5
}
