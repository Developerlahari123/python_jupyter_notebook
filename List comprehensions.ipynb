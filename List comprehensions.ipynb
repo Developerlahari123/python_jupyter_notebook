{
 "cells": [
  {
   "cell_type": "code",
   "execution_count": 2,
   "id": "53ac08e2-8c48-4744-8691-9e28bd5be28c",
   "metadata": {},
   "outputs": [
    {
     "data": {
      "text/plain": [
       "['o',\n",
       " 'm',\n",
       " ' ',\n",
       " 'g',\n",
       " 'a',\n",
       " 'm',\n",
       " ' ',\n",
       " 'g',\n",
       " 'a',\n",
       " 'n',\n",
       " 'a',\n",
       " 'p',\n",
       " 'a',\n",
       " 't',\n",
       " 'a',\n",
       " 'y',\n",
       " 'e',\n",
       " ' ',\n",
       " 'n',\n",
       " 'a',\n",
       " 'm',\n",
       " 'a',\n",
       " 'h',\n",
       " 'a']"
      ]
     },
     "execution_count": 2,
     "metadata": {},
     "output_type": "execute_result"
    }
   ],
   "source": [
    "s1='om gam ganapataye namaha'\n",
    "list1=[]\n",
    "for let in s1:\n",
    "    list1.append(let)\n",
    "list1"
   ]
  },
  {
   "cell_type": "code",
   "execution_count": 3,
   "id": "2b3f13e6-877b-40aa-b0b9-cb14df1b496d",
   "metadata": {},
   "outputs": [],
   "source": [
    "#syntax: list1=[element for element in iterable object]"
   ]
  },
  {
   "cell_type": "code",
   "execution_count": 4,
   "id": "b4a660bf-0507-4612-bc65-dfef48854ad1",
   "metadata": {},
   "outputs": [
    {
     "data": {
      "text/plain": [
       "['o',\n",
       " 'm',\n",
       " ' ',\n",
       " 'g',\n",
       " 'a',\n",
       " 'm',\n",
       " ' ',\n",
       " 'g',\n",
       " 'a',\n",
       " 'n',\n",
       " 'a',\n",
       " 'p',\n",
       " 'a',\n",
       " 't',\n",
       " 'a',\n",
       " 'y',\n",
       " 'e',\n",
       " ' ',\n",
       " 'n',\n",
       " 'a',\n",
       " 'm',\n",
       " 'a',\n",
       " 'h',\n",
       " 'a']"
      ]
     },
     "execution_count": 4,
     "metadata": {},
     "output_type": "execute_result"
    }
   ],
   "source": [
    "s1='om gam ganapataye namaha'\n",
    "list1=[let for let in s1 ]\n",
    "list1"
   ]
  },
  {
   "cell_type": "code",
   "execution_count": 6,
   "id": "88ccbbfb-4355-43ef-bbf5-6e4003c29326",
   "metadata": {},
   "outputs": [
    {
     "data": {
      "text/plain": [
       "['p', 'y', 't', 'h', 'o', 'n']"
      ]
     },
     "execution_count": 6,
     "metadata": {},
     "output_type": "execute_result"
    }
   ],
   "source": [
    "list3=[o for o in 'python']\n",
    "list3"
   ]
  },
  {
   "cell_type": "code",
   "execution_count": 7,
   "id": "9f5d89d8-8333-4d66-9deb-6fc0cf1157fd",
   "metadata": {},
   "outputs": [],
   "source": [
    "list4=[num for num in range(100,121,2)]"
   ]
  },
  {
   "cell_type": "code",
   "execution_count": 8,
   "id": "ff1b8ddd-8af3-4113-8c9e-319361677d97",
   "metadata": {},
   "outputs": [
    {
     "data": {
      "text/plain": [
       "[100, 102, 104, 106, 108, 110, 112, 114, 116, 118, 120]"
      ]
     },
     "execution_count": 8,
     "metadata": {},
     "output_type": "execute_result"
    }
   ],
   "source": [
    "list4"
   ]
  },
  {
   "cell_type": "code",
   "execution_count": 9,
   "id": "6e624d54-2f79-441b-b757-86578842ffcf",
   "metadata": {},
   "outputs": [],
   "source": [
    "list5=[num**2 for num in range(100,121,2)]"
   ]
  },
  {
   "cell_type": "code",
   "execution_count": 10,
   "id": "68525cd0-d31e-4b7f-816d-cddd6e326d92",
   "metadata": {},
   "outputs": [
    {
     "data": {
      "text/plain": [
       "[10000, 10404, 10816, 11236, 11664, 12100, 12544, 12996, 13456, 13924, 14400]"
      ]
     },
     "execution_count": 10,
     "metadata": {},
     "output_type": "execute_result"
    }
   ],
   "source": [
    "list5"
   ]
  },
  {
   "cell_type": "code",
   "execution_count": 11,
   "id": "4fbe87f7-9227-4d70-a2a3-be1d31938d30",
   "metadata": {},
   "outputs": [],
   "source": [
    "list6=[-num for num in range(100,121,2)]"
   ]
  },
  {
   "cell_type": "code",
   "execution_count": 12,
   "id": "1e68cb1f-7143-441d-8649-cbcd19c3ae84",
   "metadata": {},
   "outputs": [
    {
     "data": {
      "text/plain": [
       "[-100, -102, -104, -106, -108, -110, -112, -114, -116, -118, -120]"
      ]
     },
     "execution_count": 12,
     "metadata": {},
     "output_type": "execute_result"
    }
   ],
   "source": [
    "list6"
   ]
  },
  {
   "cell_type": "code",
   "execution_count": 14,
   "id": "5aaf80a1-7fb7-44e9-bc49-2755dfef5324",
   "metadata": {},
   "outputs": [
    {
     "data": {
      "text/plain": [
       "[50.0, 51.0, 52.0, 53.0, 54.0, 55.0, 56.0, 57.0, 58.0, 59.0, 60.0]"
      ]
     },
     "execution_count": 14,
     "metadata": {},
     "output_type": "execute_result"
    }
   ],
   "source": [
    "list7=[num/2 for num in range(100,121,2)]\n",
    "list7"
   ]
  },
  {
   "cell_type": "code",
   "execution_count": 15,
   "id": "dc70e008-8134-4d44-a13b-8c6e736f5fe0",
   "metadata": {},
   "outputs": [
    {
     "data": {
      "text/plain": [
       "[50, 51, 52, 53, 54, 55, 56, 57, 58, 59, 60]"
      ]
     },
     "execution_count": 15,
     "metadata": {},
     "output_type": "execute_result"
    }
   ],
   "source": [
    "list7=[num//2 for num in range(100,121,2)]\n",
    "list7"
   ]
  },
  {
   "cell_type": "code",
   "execution_count": 1,
   "id": "89e8b0fb-3f2b-46b6-80ce-ad2c2a2c1fa9",
   "metadata": {},
   "outputs": [
    {
     "name": "stdout",
     "output_type": "stream",
     "text": [
      "4\n",
      "16\n",
      "36\n",
      "64\n"
     ]
    }
   ],
   "source": [
    "list2=[1,2,3,4,5,6,7,8,9]\n",
    "for i in list2:\n",
    "    if (i)%2==0:\n",
    "        print(i**2)"
   ]
  },
  {
   "cell_type": "code",
   "execution_count": 2,
   "id": "f15cbe47-7938-4f63-9021-fa96168015f7",
   "metadata": {},
   "outputs": [
    {
     "data": {
      "text/plain": [
       "[1, 9, 25, 49, 81]"
      ]
     },
     "execution_count": 2,
     "metadata": {},
     "output_type": "execute_result"
    }
   ],
   "source": [
    "list3=[m**2 for m in range(0,11) if m%2!=0]\n",
    "list3"
   ]
  },
  {
   "cell_type": "code",
   "execution_count": 3,
   "id": "85142efc-d158-4cf0-9fab-d0f88c32d261",
   "metadata": {},
   "outputs": [
    {
     "data": {
      "text/plain": [
       "[32.0, 50.0, 68.0, 94.1]"
      ]
     },
     "execution_count": 3,
     "metadata": {},
     "output_type": "execute_result"
    }
   ],
   "source": [
    "celcius=[0,10,20,34.5]\n",
    "fahrenhiet=[((9/5)*temp+32) for temp in celcius]\n",
    "fahrenhiet"
   ]
  },
  {
   "cell_type": "code",
   "execution_count": 6,
   "id": "00a54313-cf48-4608-9821-d3fff5ae2c8c",
   "metadata": {},
   "outputs": [
    {
     "data": {
      "text/plain": [
       "[32.0, 50.0, 68.0, 94.1]"
      ]
     },
     "execution_count": 6,
     "metadata": {},
     "output_type": "execute_result"
    }
   ],
   "source": [
    "fahrenhiet=[]\n",
    "for temp in celcius:\n",
    "    fahrenhiet.append((9/5)*temp+32)\n",
    "fahrenhiet"
   ]
  },
  {
   "cell_type": "code",
   "execution_count": 7,
   "id": "e6335fc0-0b6a-46d5-97e9-4ab0c84dc15e",
   "metadata": {},
   "outputs": [
    {
     "data": {
      "text/plain": [
       "[32.0, 50.0, 68.0, 94.1]"
      ]
     },
     "execution_count": 7,
     "metadata": {},
     "output_type": "execute_result"
    }
   ],
   "source": [
    "c=[0,10,20,34.5]\n",
    "fh=[(9/5)*temp+32 for temp in c]\n",
    "fh"
   ]
  },
  {
   "cell_type": "code",
   "execution_count": 9,
   "id": "e5068448-8426-490b-b739-a575fe7d1626",
   "metadata": {},
   "outputs": [
    {
     "data": {
      "text/plain": [
       "['ganapati bappa', 'amma']"
      ]
     },
     "execution_count": 9,
     "metadata": {},
     "output_type": "execute_result"
    }
   ],
   "source": [
    "om=['ganapati bappa','amma','positive']\n",
    "everything=[i for i in om if 'a' in i]\n",
    "everything"
   ]
  },
  {
   "cell_type": "code",
   "execution_count": 19,
   "id": "16601234-693e-43b9-988d-d62e3bf7084a",
   "metadata": {},
   "outputs": [
    {
     "data": {
      "text/plain": [
       "['not odd',\n",
       " 1,\n",
       " 'not odd',\n",
       " 3,\n",
       " 'not odd',\n",
       " 5,\n",
       " 'not odd',\n",
       " 7,\n",
       " 'not odd',\n",
       " 9,\n",
       " 'not odd',\n",
       " 11,\n",
       " 'not odd',\n",
       " 13,\n",
       " 'not odd',\n",
       " 15,\n",
       " 'not odd',\n",
       " 17,\n",
       " 'not odd',\n",
       " 19,\n",
       " 'not odd']"
      ]
     },
     "execution_count": 19,
     "metadata": {},
     "output_type": "execute_result"
    }
   ],
   "source": [
    "oddlist=[y if y%2!=0 else 'not odd' for y in range(0,21)]\n",
    "oddlist"
   ]
  },
  {
   "cell_type": "code",
   "execution_count": 20,
   "id": "88c5adfa-8e1d-48ce-b443-f26c4dceb4c5",
   "metadata": {},
   "outputs": [
    {
     "data": {
      "text/plain": [
       "[12, 102, 1002, 14, 104, 1004, 16, 106, 1006]"
      ]
     },
     "execution_count": 20,
     "metadata": {},
     "output_type": "execute_result"
    }
   ],
   "source": [
    "listhf=[]\n",
    "for h in [2,4,6]:\n",
    "    for f in [10,100,1000]:\n",
    "        listhf.append(h+f)\n",
    "\n",
    "listhf        "
   ]
  },
  {
   "cell_type": "code",
   "execution_count": 21,
   "id": "eaf46bcc-3036-4a42-a6fc-c472b2383d3c",
   "metadata": {},
   "outputs": [
    {
     "data": {
      "text/plain": [
       "[20, 200, 2000, 40, 400, 4000, 60, 600, 6000]"
      ]
     },
     "execution_count": 21,
     "metadata": {},
     "output_type": "execute_result"
    }
   ],
   "source": [
    "listhf=[]\n",
    "for h in [2,4,6]:\n",
    "    for f in [10,100,1000]:\n",
    "        listhf.append(h*f)\n",
    "\n",
    "listhf        "
   ]
  },
  {
   "cell_type": "code",
   "execution_count": 24,
   "id": "f18c66c4-c685-40f7-93fc-2a1e7eebac79",
   "metadata": {},
   "outputs": [
    {
     "data": {
      "text/plain": [
       "[20, 200, 2000, 40, 400, 4000, 60, 600, 6000]"
      ]
     },
     "execution_count": 24,
     "metadata": {},
     "output_type": "execute_result"
    }
   ],
   "source": [
    "listxy=[x*y for x in [2,4,6] for y in [10,100,1000]]\n",
    "listxy"
   ]
  },
  {
   "cell_type": "code",
   "execution_count": 26,
   "id": "fc509114-8011-4032-b854-3e1d3abb24da",
   "metadata": {},
   "outputs": [
    {
     "data": {
      "text/plain": [
       "[0, 2, 4, 6, 8, 10]"
      ]
     },
     "execution_count": 26,
     "metadata": {},
     "output_type": "execute_result"
    }
   ],
   "source": [
    "lst = [x for x in range(11) if x % 2 == 0]\n",
    "lst"
   ]
  },
  {
   "cell_type": "code",
   "execution_count": 27,
   "id": "e1a9f823-d323-4045-a5ae-b34259004f03",
   "metadata": {},
   "outputs": [],
   "source": [
    "list5=[(c/2) for c in [c**2 for c in range(21) if c%2==0]]"
   ]
  },
  {
   "cell_type": "code",
   "execution_count": 28,
   "id": "6c772ab4-4fb0-499a-99ac-11e45ab32a71",
   "metadata": {},
   "outputs": [
    {
     "data": {
      "text/plain": [
       "[0.0, 2.0, 8.0, 18.0, 32.0, 50.0, 72.0, 98.0, 128.0, 162.0, 200.0]"
      ]
     },
     "execution_count": 28,
     "metadata": {},
     "output_type": "execute_result"
    }
   ],
   "source": [
    "list5"
   ]
  },
  {
   "cell_type": "code",
   "execution_count": 39,
   "id": "76769d5a-3f41-424d-b92a-a45ba37f9838",
   "metadata": {},
   "outputs": [],
   "source": [
    "list6=[(c/2) for c in [c**2 if c%2==0 else 1 for c in range(0,21)]]"
   ]
  },
  {
   "cell_type": "code",
   "execution_count": 40,
   "id": "d084d02d-b232-40bb-9db0-1a28af2f652e",
   "metadata": {},
   "outputs": [
    {
     "data": {
      "text/plain": [
       "[0.0,\n",
       " 0.5,\n",
       " 2.0,\n",
       " 0.5,\n",
       " 8.0,\n",
       " 0.5,\n",
       " 18.0,\n",
       " 0.5,\n",
       " 32.0,\n",
       " 0.5,\n",
       " 50.0,\n",
       " 0.5,\n",
       " 72.0,\n",
       " 0.5,\n",
       " 98.0,\n",
       " 0.5,\n",
       " 128.0,\n",
       " 0.5,\n",
       " 162.0,\n",
       " 0.5,\n",
       " 200.0]"
      ]
     },
     "execution_count": 40,
     "metadata": {},
     "output_type": "execute_result"
    }
   ],
   "source": [
    "list6"
   ]
  },
  {
   "cell_type": "code",
   "execution_count": 41,
   "id": "b10548d9-a24f-444e-9d7a-8e2857051a8f",
   "metadata": {},
   "outputs": [],
   "source": [
    "list6=[(c/2) for c in [c**2 if c%2==0 else True for c in range(0,21)]]"
   ]
  },
  {
   "cell_type": "code",
   "execution_count": 42,
   "id": "bf4434b8-185a-41ca-8150-f149ecc80393",
   "metadata": {},
   "outputs": [
    {
     "data": {
      "text/plain": [
       "[0.0,\n",
       " 0.5,\n",
       " 2.0,\n",
       " 0.5,\n",
       " 8.0,\n",
       " 0.5,\n",
       " 18.0,\n",
       " 0.5,\n",
       " 32.0,\n",
       " 0.5,\n",
       " 50.0,\n",
       " 0.5,\n",
       " 72.0,\n",
       " 0.5,\n",
       " 98.0,\n",
       " 0.5,\n",
       " 128.0,\n",
       " 0.5,\n",
       " 162.0,\n",
       " 0.5,\n",
       " 200.0]"
      ]
     },
     "execution_count": 42,
     "metadata": {},
     "output_type": "execute_result"
    }
   ],
   "source": [
    "list6"
   ]
  },
  {
   "cell_type": "code",
   "execution_count": 43,
   "id": "f5e4caec-d5c9-4cc3-abfb-b085f358648a",
   "metadata": {},
   "outputs": [],
   "source": [
    "list6=[(c/2) for c in [c**2 if c%2==0 else False for c in range(0,21)]]"
   ]
  },
  {
   "cell_type": "code",
   "execution_count": 44,
   "id": "94b52c40-62a9-49d1-a651-711f4ce84655",
   "metadata": {},
   "outputs": [
    {
     "data": {
      "text/plain": [
       "[0.0,\n",
       " 0.0,\n",
       " 2.0,\n",
       " 0.0,\n",
       " 8.0,\n",
       " 0.0,\n",
       " 18.0,\n",
       " 0.0,\n",
       " 32.0,\n",
       " 0.0,\n",
       " 50.0,\n",
       " 0.0,\n",
       " 72.0,\n",
       " 0.0,\n",
       " 98.0,\n",
       " 0.0,\n",
       " 128.0,\n",
       " 0.0,\n",
       " 162.0,\n",
       " 0.0,\n",
       " 200.0]"
      ]
     },
     "execution_count": 44,
     "metadata": {},
     "output_type": "execute_result"
    }
   ],
   "source": [
    "list6"
   ]
  },
  {
   "cell_type": "code",
   "execution_count": null,
   "id": "f9652077-2f95-4111-91d8-8cb276706d60",
   "metadata": {},
   "outputs": [],
   "source": []
  }
 ],
 "metadata": {
  "kernelspec": {
   "display_name": "Python 3 (ipykernel)",
   "language": "python",
   "name": "python3"
  },
  "language_info": {
   "codemirror_mode": {
    "name": "ipython",
    "version": 3
   },
   "file_extension": ".py",
   "mimetype": "text/x-python",
   "name": "python",
   "nbconvert_exporter": "python",
   "pygments_lexer": "ipython3",
   "version": "3.11.7"
  }
 },
 "nbformat": 4,
 "nbformat_minor": 5
}
