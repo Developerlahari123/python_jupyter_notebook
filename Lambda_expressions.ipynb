{
 "cells": [
  {
   "cell_type": "code",
   "execution_count": null,
   "id": "009b4230-caab-42ed-93f0-1ad17f2ee652",
   "metadata": {},
   "outputs": [],
   "source": [
    "#lambda expressions are way to quickly create anonymous functions(one time use functions) you don't really name them, they can never be referenced in future."
   ]
  },
  {
   "cell_type": "code",
   "execution_count": null,
   "id": "b843202b-cc50-4b27-ba9e-9f9f4dcbfb29",
   "metadata": {},
   "outputs": [],
   "source": [
    "#to understand in what context they can be used map function and filter function that are built into python has to be understoop"
   ]
  },
  {
   "cell_type": "code",
   "execution_count": 8,
   "id": "37ad141f-dec3-438b-be45-3f7ba07dda5d",
   "metadata": {},
   "outputs": [],
   "source": [
    "def sq1(num):\n",
    "    return num**2"
   ]
  },
  {
   "cell_type": "code",
   "execution_count": 12,
   "id": "d9eddf50-c86f-4434-8cb4-e77d7b0c52cd",
   "metadata": {},
   "outputs": [],
   "source": [
    "num_list1=(7,6,2,9)"
   ]
  },
  {
   "cell_type": "code",
   "execution_count": 5,
   "id": "736e024d-3d5c-4057-b2ac-33ca4bba4369",
   "metadata": {},
   "outputs": [
    {
     "name": "stdout",
     "output_type": "stream",
     "text": [
      "4\n",
      "9\n",
      "36\n"
     ]
    }
   ],
   "source": [
    "for i in num_list1:\n",
    "    print(sq1(i))"
   ]
  },
  {
   "cell_type": "code",
   "execution_count": 6,
   "id": "795ed0c5-7f26-493c-9bdc-ddc4d2759214",
   "metadata": {},
   "outputs": [
    {
     "data": {
      "text/plain": [
       "<map at 0x1658932e560>"
      ]
     },
     "execution_count": 6,
     "metadata": {},
     "output_type": "execute_result"
    }
   ],
   "source": [
    "map(sq1,num_list1)"
   ]
  },
  {
   "cell_type": "code",
   "execution_count": 13,
   "id": "a0f95568-e1bf-4285-845f-69f6727314ba",
   "metadata": {},
   "outputs": [
    {
     "name": "stdout",
     "output_type": "stream",
     "text": [
      "49\n",
      "36\n",
      "4\n",
      "81\n"
     ]
    }
   ],
   "source": [
    "for e in map(sq1,num_list1):\n",
    "    print(e)"
   ]
  },
  {
   "cell_type": "code",
   "execution_count": 14,
   "id": "d13af657-db99-4bb6-b925-915fae296970",
   "metadata": {},
   "outputs": [
    {
     "data": {
      "text/plain": [
       "[49, 36, 4, 81]"
      ]
     },
     "execution_count": 14,
     "metadata": {},
     "output_type": "execute_result"
    }
   ],
   "source": [
    "list(map(sq1,num_list1))"
   ]
  },
  {
   "cell_type": "code",
   "execution_count": 30,
   "id": "fa28cedf-e4ca-45a6-8078-ae2a26b02760",
   "metadata": {},
   "outputs": [],
   "source": [
    "def splice1(st1):\n",
    "    if len(st1)%2==0:\n",
    "        return 'even'\n",
    "    else:\n",
    "        return 'odd'"
   ]
  },
  {
   "cell_type": "code",
   "execution_count": 18,
   "id": "86e7454c-4681-4aee-9cd3-08aa17e38db8",
   "metadata": {},
   "outputs": [
    {
     "data": {
      "text/plain": [
       "'even'"
      ]
     },
     "execution_count": 18,
     "metadata": {},
     "output_type": "execute_result"
    }
   ],
   "source": [
    "splice1(st1)"
   ]
  },
  {
   "cell_type": "code",
   "execution_count": 16,
   "id": "5dd9c6b9-3dd8-4b4d-bf13-b69eb04f512c",
   "metadata": {},
   "outputs": [],
   "source": [
    "st1='software Development'"
   ]
  },
  {
   "cell_type": "code",
   "execution_count": 19,
   "id": "f0fb30c4-2e87-4c33-9c90-e96a7ed715bd",
   "metadata": {},
   "outputs": [
    {
     "name": "stdout",
     "output_type": "stream",
     "text": [
      "s\n",
      "o\n",
      "f\n",
      "t\n",
      "w\n",
      "a\n",
      "r\n",
      "e\n",
      " \n",
      "D\n",
      "e\n",
      "v\n",
      "e\n",
      "l\n",
      "o\n",
      "p\n",
      "m\n",
      "e\n",
      "n\n",
      "t\n"
     ]
    }
   ],
   "source": [
    "for e in map(splice1,st1):\n",
    "    print(e)"
   ]
  },
  {
   "cell_type": "code",
   "execution_count": 25,
   "id": "e1e5c7e0-2f4e-40f5-a169-2eede6220d3e",
   "metadata": {},
   "outputs": [
    {
     "name": "stdout",
     "output_type": "stream",
     "text": [
      "p\n",
      "p\n",
      "p\n",
      "p\n",
      "p\n",
      "p\n",
      "p\n",
      "p\n",
      "p\n",
      "p\n",
      "p\n",
      "p\n",
      "p\n",
      "p\n",
      "p\n",
      "p\n",
      "p\n",
      "p\n",
      "p\n",
      "p\n"
     ]
    }
   ],
   "source": [
    "for e in map(splice1,st1):\n",
    "    print(splice1(st2))"
   ]
  },
  {
   "cell_type": "code",
   "execution_count": 24,
   "id": "a0112b9b-04e7-42e2-bb03-3a3e58bd0eba",
   "metadata": {},
   "outputs": [],
   "source": [
    "st2='python_'"
   ]
  },
  {
   "cell_type": "code",
   "execution_count": 33,
   "id": "c41a7a7b-1322-496c-90bd-8ec2f4286145",
   "metadata": {},
   "outputs": [
    {
     "data": {
      "text/plain": [
       "['even', 'even', 'odd']"
      ]
     },
     "execution_count": 33,
     "metadata": {},
     "output_type": "execute_result"
    }
   ],
   "source": [
    "list(map(splice1,st1))"
   ]
  },
  {
   "cell_type": "code",
   "execution_count": 32,
   "id": "8e39176d-910e-48d5-8d6b-9670d1bd3ea2",
   "metadata": {},
   "outputs": [],
   "source": [
    "st1=['*a',':u','m']"
   ]
  },
  {
   "cell_type": "code",
   "execution_count": null,
   "id": "9e93fa57-b9af-4f93-8117-f6ac11ebc6dc",
   "metadata": {},
   "outputs": [],
   "source": []
  }
 ],
 "metadata": {
  "kernelspec": {
   "display_name": "Python 3 (ipykernel)",
   "language": "python",
   "name": "python3"
  },
  "language_info": {
   "codemirror_mode": {
    "name": "ipython",
    "version": 3
   },
   "file_extension": ".py",
   "mimetype": "text/x-python",
   "name": "python",
   "nbconvert_exporter": "python",
   "pygments_lexer": "ipython3",
   "version": "3.11.7"
  }
 },
 "nbformat": 4,
 "nbformat_minor": 5
}
