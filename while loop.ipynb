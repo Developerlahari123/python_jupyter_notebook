{
 "cells": [
  {
   "cell_type": "markdown",
   "id": "4cdc25bd-19fe-477f-ac51-245b8500e0d9",
   "metadata": {},
   "source": [
    "a block of code is continued to be executed while some condition remains true or till a conditions becomes false\n",
    "\n",
    "eg: while my pool is not full continue filling my pool"
   ]
  },
  {
   "cell_type": "markdown",
   "id": "0c1071ca-b4e1-4cff-afc9-5d0c315a1e13",
   "metadata": {},
   "source": [
    "syntax:\n",
    "\n",
    "while some_boolean_condition:\n",
    "    #some code\n",
    "else:\n",
    "    #some other code"
   ]
  },
  {
   "cell_type": "code",
   "execution_count": 5,
   "id": "72d06920-7b37-4432-b2d5-2de5cdc85e07",
   "metadata": {},
   "outputs": [
    {
     "name": "stdout",
     "output_type": "stream",
     "text": [
      "current pool level: 0\n",
      "current pool level: 1\n",
      "current pool level: 2\n",
      "current pool level: 3\n",
      "current pool level: 4\n",
      "current pool level: 5\n",
      "pool is filled\n"
     ]
    }
   ],
   "source": [
    "pool=0\n",
    "while pool<6:\n",
    "    print(f'current pool level: {pool}')\n",
    "    pool+=1\n",
    "else:\n",
    "    print('pool is filled')"
   ]
  },
  {
   "cell_type": "code",
   "execution_count": 6,
   "id": "2c3fe508-ff29-42c8-afe2-38c4e0f28bb2",
   "metadata": {},
   "outputs": [
    {
     "name": "stdout",
     "output_type": "stream",
     "text": [
      "current pool level: 0\n"
     ]
    }
   ],
   "source": [
    "pool=0\n",
    "while pool<6:\n",
    "    print(f'current pool level: {pool}')\n",
    "    pool+=1\n",
    "    break\n",
    "else:\n",
    "    print('pool is filled')"
   ]
  },
  {
   "cell_type": "code",
   "execution_count": 8,
   "id": "abb5757c-4e77-4707-ae93-24f32efc8277",
   "metadata": {},
   "outputs": [
    {
     "name": "stdout",
     "output_type": "stream",
     "text": [
      "current pool level: 0\n",
      "current pool level: 1\n",
      "current pool level: 2\n",
      "current pool level: 3\n",
      "current pool level: 4\n",
      "current pool level: 5\n"
     ]
    }
   ],
   "source": [
    "pool=0\n",
    "while pool<6:\n",
    "    print(f'current pool level: {pool}')\n",
    "    pool+=1\n",
    "    if(pool==6):\n",
    "        break\n",
    "else:\n",
    "    print('pool is filled')"
   ]
  },
  {
   "cell_type": "code",
   "execution_count": 10,
   "id": "65f03dcc-0338-4c87-bfa7-accf299785ca",
   "metadata": {},
   "outputs": [
    {
     "name": "stdout",
     "output_type": "stream",
     "text": [
      "pool is filled\n"
     ]
    }
   ],
   "source": [
    "pool=7\n",
    "while pool<6:\n",
    "    print(f'current pool level: {pool}')\n",
    "    pool+=1\n",
    "    if(pool==6):\n",
    "        break\n",
    "else:\n",
    "    print('pool is filled')"
   ]
  },
  {
   "cell_type": "code",
   "execution_count": 12,
   "id": "93923f55-15db-4718-b1e9-9d2ad6b2d08d",
   "metadata": {},
   "outputs": [
    {
     "name": "stdout",
     "output_type": "stream",
     "text": [
      "current pool level: 0\n",
      "current pool level: 1\n",
      "current pool level: 2\n",
      "current pool level: 3\n",
      "current pool level: 4\n",
      "current pool level: 5\n"
     ]
    }
   ],
   "source": [
    "pool=0\n",
    "while pool<6:\n",
    "    print(f'current pool level: {pool}')\n",
    "    pool+=1\n"
   ]
  },
  {
   "cell_type": "code",
   "execution_count": 12,
   "id": "5208dfd6-13b1-43a2-956d-17a928e99a26",
   "metadata": {},
   "outputs": [
    {
     "name": "stdout",
     "output_type": "stream",
     "text": [
      "1\n",
      "2\n",
      "3\n",
      "4\n"
     ]
    }
   ],
   "source": [
    "#break keyword: breaks out of current closest enclosing loop\n",
    "n=0\n",
    "while n<4:\n",
    "    n+=1\n",
    "    print(n)"
   ]
  },
  {
   "cell_type": "code",
   "execution_count": 13,
   "id": "b833b281-5081-4c22-a55d-16b11aca7347",
   "metadata": {},
   "outputs": [
    {
     "name": "stdout",
     "output_type": "stream",
     "text": [
      "1\n"
     ]
    }
   ],
   "source": [
    "n=0\n",
    "while n<4:\n",
    "    n+=1\n",
    "    if n==2:\n",
    "        break\n",
    "    print(n)"
   ]
  },
  {
   "cell_type": "code",
   "execution_count": 14,
   "id": "6265f785-def7-4cd0-86c0-3ff647038444",
   "metadata": {},
   "outputs": [
    {
     "name": "stdout",
     "output_type": "stream",
     "text": [
      "p\n",
      "y\n",
      "t\n"
     ]
    }
   ],
   "source": [
    "st2='python'\n",
    "for l in st2:\n",
    "    if l=='h':\n",
    "        break\n",
    "    print(l)"
   ]
  },
  {
   "cell_type": "code",
   "execution_count": 9,
   "id": "2d45899d-8d29-4257-8f0e-4978329d071d",
   "metadata": {},
   "outputs": [
    {
     "name": "stdout",
     "output_type": "stream",
     "text": [
      "o\n",
      "m\n",
      " \n",
      "g\n",
      "a\n",
      "m\n",
      " \n",
      "g\n",
      "a\n",
      "n\n",
      "a\n",
      "p\n",
      "a\n",
      "t\n",
      "a\n",
      "y\n",
      "e\n",
      " \n",
      "n\n",
      "a\n",
      "m\n",
      "a\n",
      "h\n",
      "a\n"
     ]
    }
   ],
   "source": [
    "#continue: goes to the top of closest enclosing loop\n",
    "st1='om gam ganapataye namaha'\n",
    "for l in st1:\n",
    "    print(l)"
   ]
  },
  {
   "cell_type": "code",
   "execution_count": 11,
   "id": "891c7acc-684a-47a5-9683-ea5652ebf08d",
   "metadata": {},
   "outputs": [
    {
     "name": "stdout",
     "output_type": "stream",
     "text": [
      "p\n",
      "y\n",
      "t\n",
      "o\n",
      "n\n"
     ]
    }
   ],
   "source": [
    "st2='python'\n",
    "for l in st2:\n",
    "    if l=='h':\n",
    "        continue\n",
    "    print(l)"
   ]
  },
  {
   "cell_type": "code",
   "execution_count": 7,
   "id": "a936ebd9-f82a-4036-b944-10ece03f6660",
   "metadata": {},
   "outputs": [
    {
     "ename": "IndentationError",
     "evalue": "expected an indented block after 'for' statement on line 3 (1520897193.py, line 6)",
     "output_type": "error",
     "traceback": [
      "\u001b[1;36m  Cell \u001b[1;32mIn[7], line 6\u001b[1;36m\u001b[0m\n\u001b[1;33m    print('there is no code')\u001b[0m\n\u001b[1;37m    ^\u001b[0m\n\u001b[1;31mIndentationError\u001b[0m\u001b[1;31m:\u001b[0m expected an indented block after 'for' statement on line 3\n"
     ]
    }
   ],
   "source": [
    "#pass: does nathing at all\n",
    "l1=[3,4,5]\n",
    "for i in l1:\n",
    "    # comment\n",
    "\n",
    "print('there is no code')"
   ]
  },
  {
   "cell_type": "code",
   "execution_count": 5,
   "id": "f343b540-b1a3-4b64-82c8-d4eab3c95a4e",
   "metadata": {},
   "outputs": [
    {
     "name": "stdout",
     "output_type": "stream",
     "text": [
      "passes the loop by skip of execution\n"
     ]
    }
   ],
   "source": [
    "l1=[3,4,5]\n",
    "for i in l1:\n",
    "    # comment\n",
    "    pass\n",
    "    \n",
    "print('passes the loop by skip of execution')"
   ]
  },
  {
   "cell_type": "code",
   "execution_count": 15,
   "id": "8e62687c-8252-4ab8-a6e1-e310e41d9b66",
   "metadata": {},
   "outputs": [
    {
     "name": "stdout",
     "output_type": "stream",
     "text": [
      "0\n",
      "1\n",
      "2\n",
      "3\n",
      "4\n"
     ]
    }
   ],
   "source": [
    "num=0\n",
    "while num<6:\n",
    "    print(num)\n",
    "    if num==4:\n",
    "        break\n",
    "    else:\n",
    "        num+=1\n",
    "        continue"
   ]
  },
  {
   "cell_type": "code",
   "execution_count": 16,
   "id": "48f09f90-0aaf-4fe5-b81f-a025828df42c",
   "metadata": {},
   "outputs": [
    {
     "name": "stdout",
     "output_type": "stream",
     "text": [
      "0\n",
      "1\n",
      "2\n",
      "3\n",
      "4\n"
     ]
    }
   ],
   "source": [
    "num=0\n",
    "while num<6:\n",
    "    print(num)\n",
    "    if num==4:\n",
    "        break\n",
    "    else:\n",
    "        num+=1"
   ]
  },
  {
   "cell_type": "code",
   "execution_count": 1,
   "id": "f7b358e3-b7b4-4c78-adb7-be1fd8ec960f",
   "metadata": {},
   "outputs": [
    {
     "name": "stdout",
     "output_type": "stream",
     "text": [
      "0\n",
      "1\n"
     ]
    }
   ],
   "source": [
    "# danger\n",
    "num=0\n",
    "while num<6:\n",
    "    print(num)\n",
    "    if num==4:\n",
    "        continue\n",
    "    else:\n",
    "        num+=1\n",
    "        if num==2:\n",
    "            break"
   ]
  },
  {
   "cell_type": "code",
   "execution_count": null,
   "id": "667b5a3d-59a6-4176-aef1-6d1934bdd9ed",
   "metadata": {},
   "outputs": [],
   "source": []
  }
 ],
 "metadata": {
  "kernelspec": {
   "display_name": "Python 3 (ipykernel)",
   "language": "python",
   "name": "python3"
  },
  "language_info": {
   "codemirror_mode": {
    "name": "ipython",
    "version": 3
   },
   "file_extension": ".py",
   "mimetype": "text/x-python",
   "name": "python",
   "nbconvert_exporter": "python",
   "pygments_lexer": "ipython3",
   "version": "3.11.7"
  }
 },
 "nbformat": 4,
 "nbformat_minor": 5
}
