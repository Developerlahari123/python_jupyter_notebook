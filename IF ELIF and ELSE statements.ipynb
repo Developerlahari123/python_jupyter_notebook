{
 "cells": [
  {
   "cell_type": "markdown",
   "id": "8a8e290d-93a5-485b-b57d-e36e497db3df",
   "metadata": {},
   "source": [
    "IF syntax\n",
    "\n",
    "if some_condition:\n",
    "    #execute some code\n",
    "elif:\n",
    "    #some code\n",
    "else:\n",
    "    #execute some other code"
   ]
  },
  {
   "cell_type": "code",
   "execution_count": 6,
   "id": "5dc37090-b4ea-453a-8ea8-30009e5f32c6",
   "metadata": {},
   "outputs": [
    {
     "name": "stdout",
     "output_type": "stream",
     "text": [
      "banana juice with nuts & horlicks is delicious!!\n"
     ]
    }
   ],
   "source": [
    "fruit='mango'\n",
    "fruit='banana'\n",
    "if fruit=='grapes':\n",
    "    print('yum!')\n",
    "elif fruit=='mango':\n",
    "    print('yummy!!')\n",
    "elif fruit=='banana':\n",
    "    print('banana juice with nuts & horlicks is delicious!!')\n",
    "else:\n",
    "    print('no thanks')"
   ]
  },
  {
   "cell_type": "code",
   "execution_count": 10,
   "id": "e3d61f4b-3a78-4151-af70-d3cee23734d5",
   "metadata": {},
   "outputs": [
    {
     "name": "stdout",
     "output_type": "stream",
     "text": [
      "awesome\n"
     ]
    }
   ],
   "source": [
    "product='natural'\n",
    "if (product=='natural'):\n",
    "    print('awesome')\n",
    "elif (product=='natural'):\n",
    "    print('wonderful')\n",
    "else:\n",
    "    print('not good') # by result of this code it is evident that it starts from top and if any of condition is True it won't check other conditions"
   ]
  },
  {
   "cell_type": "code",
   "execution_count": null,
   "id": "ca3a38b3-5c0c-43bc-9b53-a0c1632b0a45",
   "metadata": {},
   "outputs": [],
   "source": []
  }
 ],
 "metadata": {
  "kernelspec": {
   "display_name": "Python 3 (ipykernel)",
   "language": "python",
   "name": "python3"
  },
  "language_info": {
   "codemirror_mode": {
    "name": "ipython",
    "version": 3
   },
   "file_extension": ".py",
   "mimetype": "text/x-python",
   "name": "python",
   "nbconvert_exporter": "python",
   "pygments_lexer": "ipython3",
   "version": "3.11.7"
  }
 },
 "nbformat": 4,
 "nbformat_minor": 5
}
