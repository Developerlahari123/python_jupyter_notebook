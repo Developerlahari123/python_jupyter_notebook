{
 "cells": [
  {
   "cell_type": "markdown",
   "id": "a554d753-b260-4794-a391-b0e6d1d07493",
   "metadata": {},
   "source": [
    "tuples are immutable once an element is assigned inside a tuple it cannot be reassigned"
   ]
  },
  {
   "cell_type": "code",
   "execution_count": 6,
   "id": "da3f11d8-1931-4962-9afd-4573d5544b3e",
   "metadata": {},
   "outputs": [],
   "source": [
    "tup1=('role : Software Developer',1202.2024,'step1:python')"
   ]
  },
  {
   "cell_type": "code",
   "execution_count": 7,
   "id": "d1aab56f-f375-404f-995c-5762fa578e82",
   "metadata": {},
   "outputs": [
    {
     "data": {
      "text/plain": [
       "('role : Software Developer', 1202.2024, 'step1:python')"
      ]
     },
     "execution_count": 7,
     "metadata": {},
     "output_type": "execute_result"
    }
   ],
   "source": [
    "tup1"
   ]
  },
  {
   "cell_type": "code",
   "execution_count": 8,
   "id": "85f4745c-0628-450b-9b12-08adf34af6a6",
   "metadata": {},
   "outputs": [
    {
     "data": {
      "text/plain": [
       "tuple"
      ]
     },
     "execution_count": 8,
     "metadata": {},
     "output_type": "execute_result"
    }
   ],
   "source": [
    "type(tup1)"
   ]
  },
  {
   "cell_type": "code",
   "execution_count": 9,
   "id": "a12bcf71-7bb0-40cd-a9b4-9164e3407f88",
   "metadata": {},
   "outputs": [
    {
     "data": {
      "text/plain": [
       "3"
      ]
     },
     "execution_count": 9,
     "metadata": {},
     "output_type": "execute_result"
    }
   ],
   "source": [
    "len(tup1)"
   ]
  },
  {
   "cell_type": "code",
   "execution_count": 5,
   "id": "f942897b-8771-4a74-b9ff-9a3732d66758",
   "metadata": {},
   "outputs": [
    {
     "data": {
      "text/plain": [
       "1202.2024"
      ]
     },
     "execution_count": 5,
     "metadata": {},
     "output_type": "execute_result"
    }
   ],
   "source": [
    "tup1[1]"
   ]
  },
  {
   "cell_type": "code",
   "execution_count": 10,
   "id": "7165e880-c76d-446d-a86d-cc585b5da9c6",
   "metadata": {},
   "outputs": [
    {
     "data": {
      "text/plain": [
       "'step1:python'"
      ]
     },
     "execution_count": 10,
     "metadata": {},
     "output_type": "execute_result"
    }
   ],
   "source": [
    "tup1[-1]"
   ]
  },
  {
   "cell_type": "code",
   "execution_count": 11,
   "id": "c88e211b-3b9d-4fbb-bcd8-948d746abaa6",
   "metadata": {},
   "outputs": [],
   "source": [
    "tup2=('g','a','n','e','s','h','a')"
   ]
  },
  {
   "cell_type": "code",
   "execution_count": 13,
   "id": "3ef07910-4ec8-49cb-940b-fb5a7c045491",
   "metadata": {},
   "outputs": [
    {
     "data": {
      "text/plain": [
       "2"
      ]
     },
     "execution_count": 13,
     "metadata": {},
     "output_type": "execute_result"
    }
   ],
   "source": [
    "tup2.count('a')"
   ]
  },
  {
   "cell_type": "code",
   "execution_count": 14,
   "id": "1dae4683-4ff2-4f65-85ba-d1dbe68f7470",
   "metadata": {},
   "outputs": [
    {
     "data": {
      "text/plain": [
       "1"
      ]
     },
     "execution_count": 14,
     "metadata": {},
     "output_type": "execute_result"
    }
   ],
   "source": [
    "tup2.index('a')"
   ]
  },
  {
   "cell_type": "code",
   "execution_count": 15,
   "id": "222b48e2-45d5-4bc1-a146-46446d345ad7",
   "metadata": {},
   "outputs": [],
   "source": [
    "tup=(1,2,'d')"
   ]
  },
  {
   "cell_type": "code",
   "execution_count": 16,
   "id": "d61d725c-5018-447d-b424-0cf696ac8edc",
   "metadata": {},
   "outputs": [
    {
     "ename": "TypeError",
     "evalue": "'tuple' object does not support item assignment",
     "output_type": "error",
     "traceback": [
      "\u001b[1;31m---------------------------------------------------------------------------\u001b[0m",
      "\u001b[1;31mTypeError\u001b[0m                                 Traceback (most recent call last)",
      "Cell \u001b[1;32mIn[16], line 1\u001b[0m\n\u001b[1;32m----> 1\u001b[0m tup[\u001b[38;5;241m1\u001b[39m]\u001b[38;5;241m=\u001b[39m\u001b[38;5;241m0\u001b[39m\n",
      "\u001b[1;31mTypeError\u001b[0m: 'tuple' object does not support item assignment"
     ]
    }
   ],
   "source": [
    "tup[1]=0"
   ]
  },
  {
   "cell_type": "code",
   "execution_count": 17,
   "id": "4ffe3812-635f-4561-80b9-9998a4f7ba5d",
   "metadata": {},
   "outputs": [],
   "source": [
    "l1=[1,2,'d']"
   ]
  },
  {
   "cell_type": "code",
   "execution_count": 21,
   "id": "f4abbc78-8869-4843-8ae8-0b813caf174d",
   "metadata": {},
   "outputs": [],
   "source": [
    "l1[1]=0"
   ]
  },
  {
   "cell_type": "code",
   "execution_count": 22,
   "id": "3da7d10b-06d0-4d00-9e07-73f2f803cc93",
   "metadata": {},
   "outputs": [
    {
     "data": {
      "text/plain": [
       "[1, 0, 3]"
      ]
     },
     "execution_count": 22,
     "metadata": {},
     "output_type": "execute_result"
    }
   ],
   "source": [
    "l1"
   ]
  },
  {
   "cell_type": "code",
   "execution_count": 23,
   "id": "66e5e6bb-6d9a-45d0-b075-763d2fa82233",
   "metadata": {
    "scrolled": true
   },
   "outputs": [
    {
     "ename": "IndexError",
     "evalue": "list assignment index out of range",
     "output_type": "error",
     "traceback": [
      "\u001b[1;31m---------------------------------------------------------------------------\u001b[0m",
      "\u001b[1;31mIndexError\u001b[0m                                Traceback (most recent call last)",
      "Cell \u001b[1;32mIn[23], line 1\u001b[0m\n\u001b[1;32m----> 1\u001b[0m l1[\u001b[38;5;241m3\u001b[39m]\u001b[38;5;241m=\u001b[39m\u001b[38;5;241m4\u001b[39m\n",
      "\u001b[1;31mIndexError\u001b[0m: list assignment index out of range"
     ]
    }
   ],
   "source": [
    "l1[3]=4"
   ]
  },
  {
   "cell_type": "code",
   "execution_count": 24,
   "id": "86d545d1-247b-407b-9c8d-148c3312730a",
   "metadata": {},
   "outputs": [],
   "source": [
    "l1.append(3)"
   ]
  },
  {
   "cell_type": "code",
   "execution_count": 25,
   "id": "b446de53-5cbf-4ce2-b589-97f6107c1fa6",
   "metadata": {},
   "outputs": [
    {
     "data": {
      "text/plain": [
       "[1, 0, 3, 3]"
      ]
     },
     "execution_count": 25,
     "metadata": {},
     "output_type": "execute_result"
    }
   ],
   "source": [
    "l1"
   ]
  },
  {
   "cell_type": "code",
   "execution_count": 30,
   "id": "88467c75-c182-4d9e-8de5-dff32039f2d3",
   "metadata": {},
   "outputs": [],
   "source": [
    "l1.extend('i')"
   ]
  },
  {
   "cell_type": "code",
   "execution_count": 31,
   "id": "e7860798-2761-46a4-a386-2f61abdf41af",
   "metadata": {},
   "outputs": [
    {
     "data": {
      "text/plain": [
       "[1, 0, 3, 3, 'i']"
      ]
     },
     "execution_count": 31,
     "metadata": {},
     "output_type": "execute_result"
    }
   ],
   "source": [
    "l1"
   ]
  },
  {
   "cell_type": "code",
   "execution_count": 34,
   "id": "ef6cfa2d-649d-4e92-a0f8-f43d16e72594",
   "metadata": {},
   "outputs": [
    {
     "ename": "TypeError",
     "evalue": "'bool' object is not iterable",
     "output_type": "error",
     "traceback": [
      "\u001b[1;31m---------------------------------------------------------------------------\u001b[0m",
      "\u001b[1;31mTypeError\u001b[0m                                 Traceback (most recent call last)",
      "Cell \u001b[1;32mIn[34], line 1\u001b[0m\n\u001b[1;32m----> 1\u001b[0m l1\u001b[38;5;241m.\u001b[39mextend(\u001b[38;5;28;01mTrue\u001b[39;00m)\n",
      "\u001b[1;31mTypeError\u001b[0m: 'bool' object is not iterable"
     ]
    }
   ],
   "source": [
    "l1.extend(True)"
   ]
  },
  {
   "cell_type": "code",
   "execution_count": 36,
   "id": "b2170ace-70d6-43ad-b170-054a201fc32f",
   "metadata": {},
   "outputs": [],
   "source": [
    "l2=['a',1,2]"
   ]
  },
  {
   "cell_type": "code",
   "execution_count": 37,
   "id": "194ef25c-6696-40f9-a24b-1b0123e7cb05",
   "metadata": {},
   "outputs": [],
   "source": [
    "l1.extend(l2)"
   ]
  },
  {
   "cell_type": "code",
   "execution_count": 38,
   "id": "27aa0253-401d-4605-90e3-aba12a80aac9",
   "metadata": {},
   "outputs": [
    {
     "data": {
      "text/plain": [
       "[1, 0, 3, 3, 'i', 'a', 1, 2]"
      ]
     },
     "execution_count": 38,
     "metadata": {},
     "output_type": "execute_result"
    }
   ],
   "source": [
    "l1"
   ]
  },
  {
   "cell_type": "code",
   "execution_count": 39,
   "id": "cd27afde-464c-4ce4-bce6-d306fb86b1a4",
   "metadata": {},
   "outputs": [],
   "source": [
    "l1.extend(tup)"
   ]
  },
  {
   "cell_type": "code",
   "execution_count": 40,
   "id": "366d3290-6300-4edc-8abe-1274f26d3be3",
   "metadata": {},
   "outputs": [
    {
     "data": {
      "text/plain": [
       "[1, 0, 3, 3, 'i', 'a', 1, 2, 1, 2, 'd']"
      ]
     },
     "execution_count": 40,
     "metadata": {},
     "output_type": "execute_result"
    }
   ],
   "source": [
    "l1"
   ]
  },
  {
   "cell_type": "code",
   "execution_count": 41,
   "id": "8aac9909-4eae-42d8-981e-d04f72175e26",
   "metadata": {},
   "outputs": [],
   "source": [
    "dict1={'o':'m'}"
   ]
  },
  {
   "cell_type": "code",
   "execution_count": 42,
   "id": "29e3f720-ade3-4fbe-b22d-0cfad92d0172",
   "metadata": {},
   "outputs": [],
   "source": [
    "l1.extend(dict1)"
   ]
  },
  {
   "cell_type": "code",
   "execution_count": 43,
   "id": "72dbfad9-cf9e-4d23-83e6-2643a09ac854",
   "metadata": {},
   "outputs": [
    {
     "data": {
      "text/plain": [
       "[1, 0, 3, 3, 'i', 'a', 1, 2, 1, 2, 'd', 'o']"
      ]
     },
     "execution_count": 43,
     "metadata": {},
     "output_type": "execute_result"
    }
   ],
   "source": [
    "l1"
   ]
  },
  {
   "cell_type": "code",
   "execution_count": 44,
   "id": "33388632-8bf2-4d84-bf88-24a8e3e018c9",
   "metadata": {},
   "outputs": [],
   "source": [
    "#tuples are used when passing around objects in program to make sure that objects don't accidentally get changed. data integrity"
   ]
  },
  {
   "cell_type": "code",
   "execution_count": null,
   "id": "7d28ef09-d2ef-46a3-8ff9-66bbfd4e9a4d",
   "metadata": {},
   "outputs": [],
   "source": []
  }
 ],
 "metadata": {
  "kernelspec": {
   "display_name": "Python 3 (ipykernel)",
   "language": "python",
   "name": "python3"
  },
  "language_info": {
   "codemirror_mode": {
    "name": "ipython",
    "version": 3
   },
   "file_extension": ".py",
   "mimetype": "text/x-python",
   "name": "python",
   "nbconvert_exporter": "python",
   "pygments_lexer": "ipython3",
   "version": "3.11.7"
  }
 },
 "nbformat": 4,
 "nbformat_minor": 5
}
